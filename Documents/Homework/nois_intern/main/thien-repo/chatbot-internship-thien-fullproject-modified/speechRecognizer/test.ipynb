{
 "cells": [
  {
   "cell_type": "code",
   "execution_count": 1,
   "metadata": {},
   "outputs": [],
   "source": [
    "import playsound\n",
    "import speech_recognition as sr\n",
    "import os\n",
    "from gtts import gTTS # google TTS\n",
    "import pyttsx3  ## TTS"
   ]
  },
  {
   "cell_type": "code",
   "execution_count": 6,
   "metadata": {},
   "outputs": [],
   "source": [
    "def speak(text):\n",
    "    print(\"bot:  \", text)\n",
    "\n",
    "    engine = pyttsx3.init()\n",
    "    voices = engine.getProperty('voices')\n",
    "    rate = engine.getProperty('rate')\n",
    "    volume = engine.getProperty('volume')\n",
    "    engine.setProperty('volume', volume - 0.0)  # tu 0.0 -> 1.0\n",
    "    engine.setProperty('rate', rate - 50)\n",
    "    engine.setProperty('voice', voices[1].id)\n",
    "    engine.say(text)\n",
    "    engine.runAndWait()\n",
    "\n",
    "    # tts = gTTS(text=text, lang=\"vi\", slow=False)\n",
    "    # tts.save(\"sound.mp3\")\n",
    "    # playsound.playsound(\"sound.mp3\", True)\n",
    "    # os.remove(\"sound.mp3\")\n",
    "\n",
    "\n",
    "# chuyển giọng nói thành văn bản"
   ]
  },
  {
   "cell_type": "code",
   "execution_count": 7,
   "metadata": {},
   "outputs": [
    {
     "name": "stdout",
     "output_type": "stream",
     "text": [
      "Trợ Lý Ảo:  Đang nghe ! -- __ -- !\n",
      "bot :  ...  \n",
      "bot:   ! ... ! Error ! ... !\n",
      "\n"
     ]
    },
    {
     "data": {
      "text/plain": [
       "0"
      ]
     },
     "execution_count": 7,
     "metadata": {},
     "output_type": "execute_result"
    }
   ],
   "source": [
    "# chuyển giọng nói thành văn bản\n",
    "def get_audio():\n",
    "    ear_robot = sr.Recognizer()\n",
    "    with sr.Microphone() as source:\n",
    "        print(\":  Listening ! -- __ -- !\")\n",
    "\n",
    "        # python 3.7\n",
    "        # ear_robot.language = \"vi-VN\"\n",
    "\n",
    "        # ear_robot.pause_threshold = 4\n",
    "        # audio = ear_robot.record(source , duration= 4)\n",
    "        audio = ear_robot.listen(source)\n",
    "\n",
    "        try:\n",
    "            print((\"bot :  ...  \"))\n",
    "\n",
    "            # python 3.10\n",
    "            text = ear_robot.recognize_google(audio, language=\"vi-VN\")\n",
    "\n",
    "            # python 3.7\n",
    "            # text = ear_robot.recognize(audio)\n",
    "\n",
    "            print(\"Me:  \", text)\n",
    "            return text\n",
    "        except Exception as ex:\n",
    "            speak(\"! ... ! Error ! ... !\")\n",
    "            print(ex)\n",
    "            return 0\n",
    "\n",
    "get_audio()\n",
    "# speak(\"Xin chào mọi người nha\")"
   ]
  }
 ],
 "metadata": {
  "kernelspec": {
   "display_name": "Python 3",
   "language": "python",
   "name": "python3"
  },
  "language_info": {
   "codemirror_mode": {
    "name": "ipython",
    "version": 3
   },
   "file_extension": ".py",
   "mimetype": "text/x-python",
   "name": "python",
   "nbconvert_exporter": "python",
   "pygments_lexer": "ipython3",
   "version": "3.9.7"
  },
  "orig_nbformat": 4
 },
 "nbformat": 4,
 "nbformat_minor": 2
}
