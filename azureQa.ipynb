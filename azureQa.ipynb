{
 "cells": [
  {
   "cell_type": "code",
   "execution_count": 1,
   "id": "ad66c9aa",
   "metadata": {},
   "outputs": [
    {
     "name": "stdout",
     "output_type": "stream",
     "text": [
      "service_name='search-service01' index_name='public-data-index-alt' api_key='73Swa5YqUR5IRMwUIqOH6ww2YBm3SveLv7rDmZVXtIAzSeBjEQe9' api_version='2020-06-30' aiosession=None content_key='content'\n"
     ]
    }
   ],
   "source": [
    "from langchain.output_parsers import CommaSeparatedListOutputParser\n",
    "from langchain.prompts import PromptTemplate\n",
    "from langchain.retrievers import AzureCognitiveSearchRetriever\n",
    "from langchain.llms import AzureOpenAI\n",
    "from langchain.chains import LLMChain\n",
    "from langchain.tools import BaseTool\n",
    "from langchain.agents import ZeroShotAgent, AgentExecutor\n",
    "from langchain.memory import ConversationBufferMemory\n",
    "from langchain.memory.buffer_window import ConversationBufferWindowMemory\n",
    "from langchain.chains.qa_with_sources import load_qa_with_sources_chain\n",
    "from functools import reduce\n",
    "import os\n",
    "\n",
    "os.environ['OPENAI_API_TYPE'] = 'azure'\n",
    "os.environ['OPENAI_API_VERSION'] = '2023-03-15-preview'\n",
    "os.environ['OPENAI_API_BASE'] = 'https://openai-nois-intern.openai.azure.com/'\n",
    "os.environ['OPENAI_API_KEY'] = os.getenv('OPENAI_API_KEY')\n",
    "\n",
    "os.environ[\"AZURE_COGNITIVE_SEARCH_SERVICE_NAME\"] = \"search-service01\"\n",
    "os.environ[\"AZURE_COGNITIVE_SEARCH_INDEX_NAME\"] = \"public-data-index-alt\"\n",
    "os.environ[\"AZURE_COGNITIVE_SEARCH_API_KEY\"] = \"73Swa5YqUR5IRMwUIqOH6ww2YBm3SveLv7rDmZVXtIAzSeBjEQe9\"\n",
    "\n",
    "retriever_public = AzureCognitiveSearchRetriever(content_key='content')\n",
    "print(retriever_public)\n",
    "\n",
    "# os.environ[\"AZURE_COGNITIVE_SEARCH_INDEX_NAME\"] = \"public-index-ver2\"\n",
    "# retriever_private = AzureCognitiveSearchRetriever(content_key='content')\n",
    "# print(retriever_private)"
   ]
  },
  {
   "cell_type": "code",
   "execution_count": 2,
   "id": "66826924",
   "metadata": {},
   "outputs": [],
   "source": [
    "# Load up your LLM\n",
    "llm = AzureOpenAI(\n",
    "    deployment_name=\"text-davinci-003\",\n",
    "    model_name=\"text-davinci-003\",\n",
    "    max_tokens=300,\n",
    "    temperature=0\n",
    ")\n",
    "\n",
    "output_parser = CommaSeparatedListOutputParser()\n",
    "history = []\n",
    "\n",
    "def get_history_as_txt():\n",
    "    txt = \"\"\n",
    "    for i in history:\n",
    "        txt += f\"\\nHuman: {i['user']}\\n\"\n",
    "        txt += f\"AI:{i['AI']}\"\n",
    "        \n",
    "    return txt\n",
    "\n",
    "def add_to_history(user_msg, ai_msg):\n",
    "    history.append({'user': user_msg, 'AI': ai_msg})"
   ]
  },
  {
   "cell_type": "code",
   "execution_count": 3,
   "id": "4f2591df",
   "metadata": {},
   "outputs": [],
   "source": [
    "keyword_template = \"\"\"Given a sentence, extract maximum 2 most important sets of keywords and translate them to Vietnamese if they're in English and vice versa.\n",
    "Your output will be in both languages if possible, separated by commas.\n",
    "######\n",
    "SENTENCE: What are New Ocean company's products ?\n",
    "OUTPUT: New Ocean products, New Ocean sản phẩm\n",
    "SENTENCE: Was Nestle a customer of New Ocean ?\n",
    "OUTPUT: Nestle\n",
    "SENTENCE: When was New Ocean founded ?\n",
    "OUTPUT: New Ocean founded, New Ocean thành lập\n",
    "SENTENCE: Các sản phẩm của công ty New Ocean là gì ?\n",
    "OUTPUT: New Ocean sản phẩm, New Ocean products\n",
    "SENTENCE: Ai chưa đóng tiền nước ?\n",
    "OUTPUT: tiền nước, water bill\n",
    "SENTENCE: {question}\n",
    "OUTPUT:\"\"\"\n",
    "\n",
    "keyword_templ = \"\"\"Given a sentence, extract keywords and translate them to Vietnamese if they're in English and vice versa.\n",
    "Your output will be in both languages if possible, separated by commas.\n",
    "DON'T duplicate keywords.\n",
    "######\n",
    "EXAMPLE\n",
    "SENTENCE: Ai chưa đóng tiền nước?\n",
    "OUTPUT: tiền nước, water bill\n",
    "######\n",
    "SENTENCE: {output}\n",
    "OUTPUT:\"\"\"\n",
    "\n",
    "template = \"\"\"Given a list of documents from a company called New Ocean, answer the question.\n",
    "If the user asks any questions not related to New Ocean or NOIS, apologize and request another question from the user.\n",
    "If the user greets you, respond accordingly. If you don't know the answer, just say that you don't know. Don't try to make up an answer. DON'T use other sources than the ones provided.\n",
    "######\n",
    "{summaries}\n",
    "######{context}\n",
    "Human: {question}\n",
    "AI:\"\"\"\n",
    "\n",
    "templ = PromptTemplate(\n",
    "    input_variables = ['summaries', 'question', 'context'],\n",
    "    template = template\n",
    ")"
   ]
  },
  {
   "cell_type": "code",
   "execution_count": 4,
   "id": "a770f15f",
   "metadata": {},
   "outputs": [],
   "source": [
    "past_prompt = \"\"\"\"Below is a history of the conversation so far, and a new question asked by the user that needs to be answered by searching in a knowledge base about company information.\n",
    "Generate a search query based on the conversation and the new question.\n",
    "\n",
    "Chat history:{history}\n",
    "\n",
    "Question:\n",
    "{question}\n",
    "\n",
    "Search query:\n",
    "\"\"\""
   ]
  },
  {
   "cell_type": "code",
   "execution_count": 16,
   "id": "4e510954",
   "metadata": {},
   "outputs": [
    {
     "data": {
      "text/plain": [
       "'\"Technical managers\" New Ocean Information System'"
      ]
     },
     "execution_count": 16,
     "metadata": {},
     "output_type": "execute_result"
    }
   ],
   "source": [
    "query = \"Who are the technical managers ?\"\n",
    "result = llm(past_prompt.format(history=get_history_as_txt(), question=query))\n",
    "result"
   ]
  },
  {
   "cell_type": "code",
   "execution_count": 4,
   "id": "689a9c75",
   "metadata": {},
   "outputs": [],
   "source": [
    "qaChain = load_qa_with_sources_chain(llm=llm, chain_type=\"stuff\", prompt=templ)\n",
    "keyword_getter = LLMChain(llm=llm, prompt=PromptTemplate.from_template(keyword_templ))"
   ]
  },
  {
   "cell_type": "code",
   "execution_count": 9,
   "id": "962c0200",
   "metadata": {},
   "outputs": [
    {
     "name": "stdout",
     "output_type": "stream",
     "text": [
      " NOIS, Microsoft, đối tác, partner\n",
      "['NOIS', 'Microsoft', 'đối tác', 'partner']\n"
     ]
    }
   ],
   "source": [
    "keywords = keyword_getter(query)['text']\n",
    "keywords_lst = output_parser.parse(keywords)\n",
    "print(keywords)\n",
    "print(keywords_lst)"
   ]
  },
  {
   "cell_type": "code",
   "execution_count": 5,
   "id": "acf09469",
   "metadata": {},
   "outputs": [],
   "source": [
    "# def get_docs_using_keyword_list(keywords, ret):\n",
    "#     doc = []\n",
    "#     keywords_lst = output_parser.parse(keywords)\n",
    "    \n",
    "#     num = int(4 / len(keywords_lst))\n",
    "    \n",
    "#     for i in keywords_lst:\n",
    "#         doc.extend(ret.get_relevant_documents(i)[:num])\n",
    "        \n",
    "#     return doc\n",
    "\n",
    "def get_docs_using_keyword_string(keywords, ret):\n",
    "    return ret.get_relevant_documents(keywords)[:4]"
   ]
  },
  {
   "cell_type": "code",
   "execution_count": 6,
   "id": "1e9b9871",
   "metadata": {},
   "outputs": [],
   "source": [
    "query = \"Is NOIS a Microsoft partner ?\"\n",
    "keywords = keyword_getter(query)['text']\n",
    "\n",
    "doc = get_docs_using_keyword_string(keywords, retriever_public)\n",
    "\n",
    "num = 1\n",
    "for x in doc:\n",
    "    x.metadata['source'] = f\"doc-{num}\"\n",
    "\n",
    "    num += 1\n",
    "\n",
    "result = qaChain({'input_documents': doc, 'question': query, 'context': get_history_as_txt()}, return_only_outputs=False)\n",
    "    \n",
    "add_to_history(query, result['output_text'])"
   ]
  },
  {
   "cell_type": "code",
   "execution_count": 7,
   "id": "f070c1b5",
   "metadata": {},
   "outputs": [
    {
     "data": {
      "text/plain": [
       "' Yes, New Ocean Information System (NOIS) is a Microsoft partner. They have been a partner since 2015 and have achieved Gold Application Integration, Gold Data Analytics, Gold Application Developments, and Gold Cloud Platform status in 2021.'"
      ]
     },
     "execution_count": 7,
     "metadata": {},
     "output_type": "execute_result"
    }
   ],
   "source": [
    "result['output_text']"
   ]
  },
  {
   "cell_type": "code",
   "execution_count": 8,
   "id": "84a32655",
   "metadata": {
    "scrolled": true
   },
   "outputs": [
    {
     "name": "stdout",
     "output_type": "stream",
     "text": [
      "[Document(page_content=', \\xa0 New Ocean IS understands our customers’ satisfaction is the key to our business so that we always strive for quality, extra values on our software delivery to customers.\\r\\nLearn More\\r\\n/* Title */\\r\\nTHE HISTORY\\r\\nOF\\r\\nNEW OCEAN INFORMATION SYSTEM\\r\\n/* line and circle */\\r\\n/* Milestone 2010 */\\r\\n2010\\r\\nFORMED AND STARTED OPERATION\\r\\nBe devired form IT Dept. of New Ocean\\r\\nManufacturing Solutions\\r\\n/* Milestone 2015 */\\r\\n2015\\r\\n/* content */\\r\\nbởi Microsoft.\\r\\nPartner\\r\\n/* Milestone 2017 */\\r\\n2017\\r\\n/* content */\\r\\nbởi Microsoft.\\r\\nPartner\\r\\nbởi Microsoft.\\r\\nSilver Cloud Platform\\r\\n/* Milestone 2018 */\\r\\n2018\\r\\n/* Milestone 2019 */\\r\\n2019\\r\\n/* content */\\r\\nbởi Microsoft.\\r\\nPartner\\r\\nbởi Microsoft.\\r\\nGold Application Development\\r\\nSilver Data Analytics\\r\\n/* Milestone 2020 */\\r\\n2020\\r\\n/* content */\\r\\nFASF is launched\\r\\n/* Milestone 2021 */\\r\\n2021\\r\\n/* content */\\r\\nbởi Microsoft.\\r\\nPartner\\r\\nbởi Microsoft.\\r\\nGold Application Integration\\r\\nGold Data Analytics\\r\\nGold Application Developments\\r\\nGold Cloud Platform\\r\\n/* Milestone 2022 */\\r\\n2022\\r\\nbởi Microsoft.\\r\\nCo-sell partner\\r\\n/* Milestone 2023 */\\r\\n2023\\r\\n/* content */\\r\\nOpen Third Office\\r\\nOur Services\\r\\nCustom Software Development\\r\\nNew Ocean IS offers end-to-end custom software development solutions, including consulting services, hardware\\n', metadata={'@search.score': 10.908285, 'metadata_storage_path': 'aHR0cHM6Ly9hY3NjaGF0Ym90bm9pc2ludGVybi5ibG9iLmNvcmUud2luZG93cy5uZXQvcHVibGljLWRhdGEtYWx0LzU2OC0yLnR4dA2', 'source': 'doc-1'}), Document(page_content=' như điện thoại, máy tính bảng hay laptop… E – Form cho phép người dùng lưu trữ thông tin dữ liệu với khối lượng vô cùng lớn trên nền tảng điện toán đám mây. Đây cũng chính là điểm nổi bật của dự án Factory Smart Forms & Checklists. Nhà phát triển của FASF – New Ocean IS là đối tác của Microsoft, các sản phẩm của NOIS luôn lấy nền tảng điện toán đám mây Azure làm trung tâm. Vậy nên bạn hoàn toàn có thể yên tâm về không gian lưu tr�\\n', metadata={'@search.score': 10.650162, 'metadata_storage_path': 'aHR0cHM6Ly9hY3NjaGF0Ym90bm9pc2ludGVybi5ibG9iLmNvcmUud2luZG93cy5uZXQvcHVibGljLWRhdGEtYWx0LzUyMC05LnR4dA2', 'source': 'doc-2'}), Document(page_content='n viên giàu kinh nghiệm là đơn vị luôn nắm bắt nhanh chóng các xu hướng công nghệ mới. NOIS đưa sự phát triển của công nghệ và chuyển đổi số vào các lĩnh vực sản xuất một cách thông minh, đúng nơi, đúng việc. Nổi tiếng với hơn 70+ đối tác là các thương hiệu nổi tiếng như Vinamilk, Dutch LaDy, Amway, Nestle, P&G, HTL… NOIS has affirmed its position in providing solution packages to support optimal business management. . New Ocean Information\\xa0 System’s các dự án thành công bao gồm Chuỗi cung ứng, Truy x\\n', metadata={'@search.score': 10.245571, 'metadata_storage_path': 'aHR0cHM6Ly9hY3NjaGF0Ym90bm9pc2ludGVybi5ibG9iLmNvcmUud2luZG93cy5uZXQvcHVibGljLWRhdGEtYWx0LzU4NS0yMC50eHQ1', 'source': 'doc-3'}), Document(page_content=', extra values on our software delivery to customers.\\r\\nLearn More\\r\\n/* Title */\\r\\nTHE HISTORY\\r\\nOF\\r\\nNEW OCEAN INFORMATION SYSTEM\\r\\n/* line and circle */\\r\\n/* Milestone 2010 */\\r\\n2010\\r\\nFORMED AND STARTED OPERATION\\r\\nBe devired form IT Dept. of New Ocean\\r\\nManufacturing Solutions\\r\\n/* Milestone 2015 */\\r\\n2015\\r\\n/* content */\\r\\nMicrosoft\\r\\nPartner\\r\\n/* Milestone 2017 */\\r\\n2017\\r\\n/* content */\\r\\nMicrosoft\\r\\nPartner\\r\\nMicrosoft\\r\\nSilver Cloud Platform\\r\\n/* Milestone 2018 */\\r\\n2018\\r\\n/* Milestone 2019 */\\r\\n2019\\r\\n/* content */\\r\\nMicrosoft\\r\\nPartner\\r\\nMicrosoft\\r\\nGold Application Development\\r\\nSilver Data Analytics\\r\\n/* Milestone 2020 */\\r\\n2020\\r\\n/* content */\\r\\nFASF is launched\\r\\n/* Milestone 2021 */\\r\\n2021\\r\\n/* content */\\r\\nMicrosoft\\r\\nPartner\\r\\nMicrosoft\\r\\nGold Application Integration\\r\\nGold Data Analytics\\r\\nGold Application Developments\\r\\nGold Cloud Platform\\r\\n/* Milestone 2022 */\\r\\n2022\\r\\nMicrosoft\\r\\nCo-sell partner\\r\\n/* Milestone 2023 */\\r\\n2023\\r\\n/* content */\\r\\nOpen Third Office\\r\\nOur Services\\r\\nCustom Software Development\\r\\nNew Ocean IS offers end-to-end custom software development solutions, including consulting services, hardware integration, and full lifecycle development. Our experience spans a range of industries and technologies, including Manufacturing, Telecoms, Insurance, Logistics, Pharmaceuticals, Materials, Cinema, Supply Chain, Banking, IoT, and Smart Factories.\\r\\nMobile & Industrial Handheld\\r\\nWe specialize in comprehensive mobile app development, offering both native and hybrid app solutions with a\\n', metadata={'@search.score': 9.94178, 'metadata_storage_path': 'aHR0cHM6Ly9hY3NjaGF0Ym90bm9pc2ludGVybi5ibG9iLmNvcmUud2luZG93cy5uZXQvcHVibGljLWRhdGEtYWx0LzUwMC0yLnR4dA2', 'source': 'doc-4'})]\n"
     ]
    }
   ],
   "source": [
    "print(doc)"
   ]
  },
  {
   "cell_type": "code",
   "execution_count": 16,
   "id": "958aa615",
   "metadata": {},
   "outputs": [],
   "source": [
    "history = []"
   ]
  },
  {
   "cell_type": "code",
   "execution_count": 17,
   "id": "37cc97fe",
   "metadata": {},
   "outputs": [
    {
     "name": "stdout",
     "output_type": "stream",
     "text": [
      "Given a list of documents from a company called New Ocean, answer the question. When asked a question not related to New Ocean, say \"Sorry, I will only answer questions related to New Ocean. Could you please ask another related question?\".\n",
      "If the user greets you, respond accordingly. If you don't know the answer, just say that you don't know. Don't try to make up an answer. DON'T use other sources than the ones provided.\n",
      "######\n",
      "\n",
      "######\n",
      "Human: What is NOIS ?\n",
      "AI: New Ocean Information System (NOIS) là công ty có thâm niên hoạt động hơn 12 năm trong lĩnh vực cung cấp phần mềm, giải pháp công nghệ. NOIS nhanh chóng nắm bắt các xu hướng công nghệ mới và đưa sự phát triển của công nghệ và chuyển đổi số vào các lĩnh vực sản xuất một cách thông minh, đúng nơi, đúng việc.\n",
      "Human: Who are the technical managers ?\n",
      "AI: Các quản lý kỹ thuật của New Ocean bao gồm các chuyên gia công nghệ và các chuyên gia của các lĩnh vực liên quan. Họ có trách nhiệm quản lý các dự án công nghệ, đảm bảo rằng các dự án được thực hiện đúng thời gian và đạt được các tiêu chuẩn chất lượng cao.\n",
      "594\n",
      "Length of chat history: 493\n"
     ]
    }
   ],
   "source": [
    "doc_txt = \"\"\n",
    "for x in doc:\n",
    "    doc_txt += x.page_content\n",
    "    \n",
    "context = get_history_as_txt()\n",
    "    \n",
    "msg = f\"\"\"Given a list of documents from a company called New Ocean, answer the question. When asked a question not related to New Ocean, say \"Sorry, I will only answer questions related to New Ocean. Could you please ask another related question?\".\n",
    "If the user greets you, respond accordingly. If you don't know the answer, just say that you don't know. Don't try to make up an answer. DON'T use other sources than the ones provided.\n",
    "######\n",
    "{doc_txt}\n",
    "######{context}\"\"\"\n",
    "\n",
    "print(msg)\n",
    "print(llm.get_num_tokens(msg))\n",
    "print(f\"Length of chat history: {llm.get_num_tokens(get_history_as_txt())}\")"
   ]
  },
  {
   "cell_type": "code",
   "execution_count": null,
   "id": "9861c1fd",
   "metadata": {},
   "outputs": [],
   "source": []
  },
  {
   "cell_type": "code",
   "execution_count": 11,
   "id": "ba70633e",
   "metadata": {},
   "outputs": [],
   "source": [
    "# Define query tool for agent\n",
    "class DocumentQueryTool(BaseTool):\n",
    "    name = \"Document query tool\"\n",
    "    description = \"use this tool when you need to get documents for questions related to New Ocean and NOIS\"\n",
    "    \n",
    "    def _run(self, query: str):\n",
    "        doc = retriever_public.get_relevant_documents(query)[:3]\n",
    "        content = reduce(lambda x, y: x + y.page_content, doc, doc[0].page_content)\n",
    "        \n",
    "        return content\n",
    "    \n",
    "    def _arun(self, query: str):\n",
    "        raise NotImplementedError(\"This tool does not support async\")\n",
    "\n",
    "        \n",
    "prefix = \"\"\"You are an intelligent assistant helping New Ocean and NOIS employees as well as ordinary users with company related questions. You will be provided with a list of keywords that you may use for querying documents.\n",
    "If you cannot answer using the queried documents, say that you don't know.\n",
    "You have access to the following tools:\"\"\"\n",
    "suffix = \"\"\"Begin!\"\n",
    "\n",
    "Keywords: {keywords}\n",
    "Question: {input}\n",
    "{agent_scratchpad}\"\"\"\n",
    "\n",
    "tools = [DocumentQueryTool()]\n",
    "\n",
    "prompt = ZeroShotAgent.create_prompt(\n",
    "    tools,\n",
    "    prefix=prefix,\n",
    "    suffix=suffix,\n",
    "    input_variables=[\"keywords\", \"input\", \"agent_scratchpad\"],\n",
    ")\n",
    "\n",
    "llm_chain = LLMChain(llm=llm, prompt=prompt)\n",
    "\n",
    "agent = ZeroShotAgent(llm_chain=llm_chain, tools=tools, verbose=True)\n",
    "agent_chain = AgentExecutor.from_agent_and_tools(\n",
    "    agent=agent, tools=tools, verbose=True\n",
    ")"
   ]
  },
  {
   "cell_type": "code",
   "execution_count": 14,
   "id": "f7d23483",
   "metadata": {},
   "outputs": [
    {
     "name": "stdout",
     "output_type": "stream",
     "text": [
      " Pepsico, Pepsico\n",
      "['Pepsico', 'Pepsico']\n",
      "\n",
      "\n",
      "\u001b[1m> Entering new  chain...\u001b[0m\n",
      "\u001b[32;1m\u001b[1;3mThought: I need to find out if Pepsico was a customer of NOIS\n",
      "Action: Document query tool\n",
      "Action Input: Pepsico\u001b[0m\n",
      "Observation: \u001b[36;1m\u001b[1;3m��n sự hài lòng cho chúng tôi! Các bạn thực sự là những người cộng sự nhiệt huyết, cảm ơn rất nhiều!\n",
      "Suntory Pepsico\n",
      "Trải qua một thời gian hợp tác khá dài, New Ocean là một đối tác dày dạn kinh nghiệm và tận lực trong quá trình hỗ trợ triển khai dự án. Chúng tôi đánh giá cao nỗ lực của các bạn!\n",
      "Đối tác kinh doanh\n",
      "Với quá trình gần 20 năm miệt mài nghiên cứu về các dự án giúp t\n",
      "��n sự hài lòng cho chúng tôi! Các bạn thực sự là những người cộng sự nhiệt huyết, cảm ơn rất nhiều!\n",
      "Suntory Pepsico\n",
      "Trải qua một thời gian hợp tác khá dài, New Ocean là một đối tác dày dạn kinh nghiệm và tận lực trong quá trình hỗ trợ triển khai dự án. Chúng tôi đánh giá cao nỗ lực của các bạn!\n",
      "Đối tác kinh doanh\n",
      "Với quá trình gần 20 năm miệt mài nghiên cứu về các dự án giúp t\n",
      " 10% reduction in power consumption, this is an impressive number and helps us to use the production budget well!\n",
      "ABInBev\n",
      "A process of cooperation brings satisfaction to us! You guys are really enthusiastic collaborators, thank you very much!\n",
      "Suntory Pepsico\n",
      "Over a long period of cooperation, New Ocean is a seasoned and dedicated partner in the process of supporting project implementation. We appreciate your efforts!\n",
      "PARTNERS\n",
      "With nearly 20 years of diligent research on projects to increase production efficiency, New Ocean Manufacturing Solutions is proud of its ability to continuously update production trends and in-depth knowledge of equipment and products of all industries.\n",
      "In addition, the support from business partners is an indispensable part for us to perfect the most advanced systems, optimize business performance and bring long-term benefits to customers using the service. As of early 2020, New Ocean has established a close network with more than 10 reputable suppliers in the world, and the staff has completed many prestigious professional certifications from Microsoft, Wonderware, and Rockwell Automation.\n",
      "\n",
      "\u001b[0m\n",
      "Thought:\u001b[32;1m\u001b[1;3m I now know the final answer\n",
      "Final Answer: Yes, Pepsico was a customer of NOIS.\u001b[0m\n",
      "\n",
      "\u001b[1m> Finished chain.\u001b[0m\n"
     ]
    },
    {
     "data": {
      "text/plain": [
       "'Yes, Pepsico was a customer of NOIS.'"
      ]
     },
     "execution_count": 14,
     "metadata": {},
     "output_type": "execute_result"
    }
   ],
   "source": [
    "query = \"Was Pepsico a customer of NOIS?\"\n",
    "keywords = keyword_getter(query)['text']\n",
    "keywords_lst = output_parser.parse(keywords)\n",
    "print(keywords)\n",
    "print(keywords_lst)\n",
    "\n",
    "agent_chain.run(input=query, keywords=keywords)"
   ]
  },
  {
   "cell_type": "code",
   "execution_count": null,
   "id": "98cb417e",
   "metadata": {},
   "outputs": [],
   "source": []
  }
 ],
 "metadata": {
  "kernelspec": {
   "display_name": "Python 3 (ipykernel)",
   "language": "python",
   "name": "python3"
  },
  "language_info": {
   "codemirror_mode": {
    "name": "ipython",
    "version": 3
   },
   "file_extension": ".py",
   "mimetype": "text/x-python",
   "name": "python",
   "nbconvert_exporter": "python",
   "pygments_lexer": "ipython3",
   "version": "3.11.0"
  }
 },
 "nbformat": 4,
 "nbformat_minor": 5
}
