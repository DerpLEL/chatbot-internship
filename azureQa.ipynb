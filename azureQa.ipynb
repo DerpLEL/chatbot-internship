{
 "cells": [
  {
   "cell_type": "code",
   "execution_count": 1,
   "id": "ad66c9aa",
   "metadata": {},
   "outputs": [],
   "source": [
    "from langchain.embeddings.openai import OpenAIEmbeddings\n",
    "from langchain.prompts import PromptTemplate\n",
    "from langchain.retrievers import TFIDFRetriever, AzureCognitiveSearchRetriever\n",
    "from langchain.text_splitter import RecursiveCharacterTextSplitter\n",
    "from langchain.llms import AzureOpenAI\n",
    "from langchain.chains import LLMChain\n",
    "from langchain.document_loaders import DirectoryLoader, TextLoader\n",
    "from langchain.chains.qa_with_sources import load_qa_with_sources_chain\n",
    "import magic\n",
    "import os\n",
    "import nltk\n",
    "\n",
    "os.environ['OPENAI_API_TYPE'] = 'azure'\n",
    "os.environ['OPENAI_API_VERSION'] = '2023-03-15-preview'\n",
    "os.environ['OPENAI_API_BASE'] = 'https://openai-nois-intern.openai.azure.com/'\n",
    "os.environ['OPENAI_API_KEY'] = os.getenv('OPENAI_API_KEY')\n",
    "\n",
    "index_type = 'public-index-ver3'\n",
    "\n",
    "os.environ[\"AZURE_COGNITIVE_SEARCH_SERVICE_NAME\"] = \"search-service01\"\n",
    "os.environ[\"AZURE_COGNITIVE_SEARCH_INDEX_NAME\"] = index_type\n",
    "os.environ[\"AZURE_COGNITIVE_SEARCH_API_KEY\"] = \"73Swa5YqUR5IRMwUIqOH6ww2YBm3SveLv7rDmZVXtIAzSeBjEQe9\""
   ]
  },
  {
   "cell_type": "code",
   "execution_count": 2,
   "id": "853c9bf2",
   "metadata": {},
   "outputs": [],
   "source": [
    "retriever = AzureCognitiveSearchRetriever(content_key='content')"
   ]
  },
  {
   "cell_type": "code",
   "execution_count": 3,
   "id": "66826924",
   "metadata": {},
   "outputs": [],
   "source": [
    "# Load up your LLM\n",
    "llm = AzureOpenAI(\n",
    "    deployment_name=\"text-davinci-003\",\n",
    "    model_name=\"text-davinci-003\",\n",
    "    max_tokens=300,\n",
    "    temperature=0.5\n",
    ")"
   ]
  },
  {
   "cell_type": "markdown",
   "id": "f22231c5",
   "metadata": {},
   "source": [
    "### Sources"
   ]
  },
  {
   "cell_type": "code",
   "execution_count": 9,
   "id": "ca9df208",
   "metadata": {
    "scrolled": true
   },
   "outputs": [
    {
     "name": "stdout",
     "output_type": "stream",
     "text": [
      "Given a list of documents from a company called New Ocean, answer the question. If the user greets you, respond accordingly.\n",
      "If you don't know the answer, just say that you don't know. Don't try to make up an answer. DON'T use other sources than the ones provided.\n",
      "When asked a question not related to New Ocean or the provided documents, say \"Sorry, I will only answer questions related to New Ocean. Could you please ask another related question?\"\n",
      "------\n",
      ", ink, staples .. units by month, by year will have a very high cost. When a manufacturing defect occurs, it is difficult to trace. Management, reporting through many levels, time consuming and sometimes not really effective.\r\n",
      "Smart Form. Souce: nois.vn\r\n",
      "So now and further into the future, what goals do businesses and executives aim for in management? Developing with modern technical technology is an inevitable and smart step. Staying out of this trend means you are pushing your business into “backward”. It’s time to get rid of unnecessary procedures, papers and documents. Digitize time- and labor-intensive manual processes into digital formats. Investing in modern technology will be the right step, effective and saves a lot of costs. As a business operator, the daily workload is very large, how should the leader manage to both save time and achieve management efficiency? Technology 4.0 and Smart Forms will help you do this.  Monitor operations remotely, no need to visit the production plant in person, but still want clear overall control while diving into the specifics of every production process? Smart Forms – when thoughts come true. Now you just need to sit at the corporate office, home or anywhere and with a smart electronic device, factory-operated production processes are at your fingertips.\r\n",
      "What is Factory Smart Forms & Checklists?\r\n",
      "Factory Smart Forms & Checklists(FASF) is a type of Smart Forms (Electronic Forms) developed on the cloud computing platform Microsoft Azure and Power BI by New Ocean IS.Right from the early days of product development, Factory Smart Forms & Checklists (FASF) has been oriented to be an “extension arm of the customer”. The Smart Forms solution package was born, bringing digital formats into production management, saving a lot of costs for business owners.So what are the specific benefits that Factory Smart Forms & Checklists (FASF) brings and what are its practical effects? Please read the following information to answer this problem!\r\n",
      "Labour saving\r\n",
      "The daily workload of operators and managers is huge. Jobs and processes that can be integrated and optimized digitally will significantly reduce unnecessary pressure. ✅ Smart Forms bring digital technology to use on smart electronic devices. The digitization process has eliminated unnecessary procedures, papers, documents…✅ Smart Forms towards standardizing the handling of checklists thereby eliminating paper in the processing.✅ Enterprises will not encounter the situation of “rotation”, completing this data, in fact, production has new data. Factory Smart Forms & Checklists (FASF) helps you to update your data continuously and accurately. At the same time\n",
      " stationery (paper, pens, …), costs for data entry staff.🌏 By applying Data Analyst, Machine Learning and AI to Factory Smart Forms & Checklists, the system will monitor and analyze working parameters. 🌏 From the analyzed parameters, FASF contributes to support the operator to come up with new KPIs to ensure productivity and work efficiency.🌏 Operators control production activities on the FASF platform with just a phone or computer, without going directly to the site, saving time for other necessary administrative activities.🌏 FAST works in real time so you can easily trace problems and mistakes when the production line has problems. The technical staff will take advantage of the documents in the repair library to solve problems when Downtime occurs🌏 FASF đề cao tính chính xác, an toàn và bảo mật của dữ liệu. Hệ thống sẽ thông báo, cảnh báo và nhắc nhở người dùng bằng Email.\r\n",
      "🛡 Conclusion\r\n",
      "Depending on different partners, the Factory Smart Forms & Checklists development team will design a solution with features suitable for your business line. With more than 11 years of experience in designing technology application solutions, you can rest assured and trust New Ocean IS’s products.\r\n",
      "Quản lý công việc hiệu quả với Electronic Checklist - Factory Smart Forms & Checklists. Ảnh: nois.vn\r\n",
      "Checklist là gì?\r\n",
      "Checklist là danh sách kiểm tra công việc phải thực hiện trong một khoảng thời gian xác định, trong đó các công việc được sắp xếp theo mức độ ưu tiên hoặc tình huống người dùng. Hầu h�\n",
      " truy cập cho nhân viên theo đầu công việc, nhân viên nào sẽ được truy cập vào loại database nào khi sử dụng các giải pháp FASF.\r\n",
      "Những khó khăn của Doanh nghiệp khi vận hành. Ảnh: Nois.vn\r\n",
      "Hinh thức làm việc này loại bỏ hoàn toàn các thao tác thủ công, checklist bằng bằng tay. Nhân viên bảo trì không cần phải lưu lại thông tin trên từng trang giấy, sau đó nhập liệu lên Excel nữa, tất cả những thông tin cần thiết đã nằm sẵn trong FASF. Chỉ bằng những thao tác đơn giản, quá trình kiểm tra máy móc, bảo dưỡng trước vận hành hay khắc phục lỗi sẽ được diễn ra nhanh chóng.\r\n",
      "FASF mang lại giá trị gì cho nhân viên bảo trì nói riêng và doanh nghiệp nói chung\r\n",
      "Checklists và E-Form điện tử l\n",
      "��N ĐIỀU GÌ?\r\n",
      "- Factory Smart Forms & Checklists (FASF) tối ưu cách vận hành cho tất cả các đơn vị sản xuất trong mọi lĩnh vực, cụ thể: Xi măng :\r\n",
      "Với chủ doanh nghiệp, giám đốc công ty:\r\n",
      "Điểm mạnh vượt trội mà chúng tôi muốn mang đến thông qua giải pháp trọn gói FASF chính là mang đến cho người dùng một bước tiến mới mạnh mẽ trong công nghệ xử lý thông tin. Các giấy tờ, báo cáo, sổ sách phức tạp sẽ được mã hóa thành dữ liệu thông minh và lưu trữ tất cả trên hệ thống phần mềm. Khi khách hàng đặt trọn niềm tin vào chúng tôi, New Ocean cam kết mang đến những trải nghiệm êm ái và chuyên nghiệp nhất. Doanh nghiệp sẽ không cần sử dụng đến gi�\n",
      "\n",
      "------\n",
      "QUESTION: What is FASF ?\n",
      "FINAL ANSWER:\n",
      "2340\n"
     ]
    }
   ],
   "source": [
    "doc_txt = \"\"\n",
    "for x in doc:\n",
    "    doc_txt += x.page_content\n",
    "    \n",
    "msg = f\"\"\"Given a list of documents from a company called New Ocean, answer the question. If the user greets you, respond accordingly.\n",
    "If you don't know the answer, just say that you don't know. Don't try to make up an answer. DON'T use other sources than the ones provided.\n",
    "When asked a question not related to New Ocean or the provided documents, say \"Sorry, I will only answer questions related to New Ocean. Could you please ask another related question?\"\n",
    "------\n",
    "{doc_txt}\n",
    "------\n",
    "QUESTION: {query}\n",
    "FINAL ANSWER:\"\"\"\n",
    "\n",
    "print(msg)\n",
    "print(llm.get_num_tokens(msg))"
   ]
  },
  {
   "cell_type": "code",
   "execution_count": 4,
   "id": "4f2591df",
   "metadata": {},
   "outputs": [],
   "source": [
    "keyword_template = \"\"\"Given a sentence, extract keywords and translate them to Vietnamese if they're in English and vice versa.\n",
    "Your output will include the keywords in both languages, separated by commas.\n",
    "######\n",
    "SENTENCE: What are New Ocean company's products ?\n",
    "OUTPUT: New Ocean,products,sản phẩm\n",
    "SENTENCE: When was New Ocean founded ?\n",
    "OUTPUT: New Ocean,founded,thành lập\n",
    "SENTENCE: Các sản phẩm của công ty New Ocean là gì ?\n",
    "OUTPUT: New Ocean,sản phẩm,products\n",
    "SENTENCE: {question}\n",
    "OUTPUT:\"\"\"\n",
    "\n",
    "template = \"\"\"Given a list of documents from a company called New Ocean, answer the question. If the user greets you, respond accordingly.\n",
    "If you don't know the answer, just say that you don't know. Don't try to make up an answer. DON'T use other sources than the ones provided.\n",
    "When asked a question not related to New Ocean or the provided documents, say \"Sorry, I will only answer questions related to New Ocean. Could you please ask another related question?\".\n",
    "######\n",
    "{summaries}\n",
    "######\n",
    "QUESTION: {question}\n",
    "FINAL ANSWER:\"\"\"\n",
    "\n",
    "templ = PromptTemplate(\n",
    "    input_variables = ['summaries', 'question'],\n",
    "    template = template\n",
    ")"
   ]
  },
  {
   "cell_type": "code",
   "execution_count": 5,
   "id": "689a9c75",
   "metadata": {},
   "outputs": [],
   "source": [
    "qaChain = load_qa_with_sources_chain(llm=llm, chain_type=\"stuff\", prompt=templ)\n",
    "keyword_getter = LLMChain(llm=llm, prompt=PromptTemplate.from_template(keyword_template))"
   ]
  },
  {
   "cell_type": "code",
   "execution_count": 9,
   "id": "962c0200",
   "metadata": {},
   "outputs": [
    {
     "data": {
      "text/plain": [
       "' NOIS,products,sản phẩm'"
      ]
     },
     "execution_count": 9,
     "metadata": {},
     "output_type": "execute_result"
    }
   ],
   "source": [
    "keywords = keyword_getter(query)['text']\n",
    "keywords"
   ]
  },
  {
   "cell_type": "code",
   "execution_count": 10,
   "id": "1e9b9871",
   "metadata": {},
   "outputs": [],
   "source": [
    "query = \"What is New Ocean ?\"\n",
    "keywords = keyword_getter(query)['text']\n",
    "doc = retriever.get_relevant_documents(keywords)[:4]\n",
    "\n",
    "if isinstance(doc, list):\n",
    "    num = 1\n",
    "    for x in doc:\n",
    "        x.metadata['source'] = f\"doc-{num}\"\n",
    "        \n",
    "        num += 1\n",
    "    \n",
    "else:\n",
    "    doc.metadata['source'] = \"doc-1\"\n",
    "    doc = [doc]\n",
    "\n",
    "result = qaChain({'input_documents': doc, 'question': query}, return_only_outputs=False)"
   ]
  },
  {
   "cell_type": "code",
   "execution_count": 11,
   "id": "f070c1b5",
   "metadata": {},
   "outputs": [
    {
     "data": {
      "text/plain": [
       "' New Ocean is a company that has been operating for more than 12 years in the field of software and technology solutions. It is also the developer of Factory Smart Forms & Checklists, a digital checklist tool.'"
      ]
     },
     "execution_count": 11,
     "metadata": {},
     "output_type": "execute_result"
    }
   ],
   "source": [
    "result['output_text']"
   ]
  },
  {
   "cell_type": "code",
   "execution_count": 12,
   "id": "84a32655",
   "metadata": {
    "scrolled": true
   },
   "outputs": [
    {
     "name": "stdout",
     "output_type": "stream",
     "text": [
      "[Document(page_content='is.vn\\r\\nBạn biết gì về biểu mẫu số\\r\\nThực tế ý tưởng biểu mẫu số ra đời có nguồn gốc dựa trên các biểu mẫu truyền thống. Trước đây khi công nghệ chưa phát triển, đa số thông tin dữ liệu được lưu trữ trên các biểu mẫu truyền thống dưới dạng giấy tờ, văn bản.\\r\\nNew Ocean Information System (NOIS)\\r\\nNew Ocean Information System NOIS là công ty có thâm niên hoạt động hơn 12 năm trong lĩnh vực cung cấp phần mềm, giải pháp công nghệ… không có lý do gì để NOIS bỏ qua một nguồn tài nguyên lớn như biểu mẫu số. Đó cũng chính là lý do Factory Smart Forms & Checklists ra đời.Factory Smart Forms & Checklists là điển hình của một biểu mẫu số tập trung giải quyết các khó khăn và vấn đề “lỗi thời” của\\n', metadata={'@search.score': 9.238283, 'metadata_storage_path': 'aHR0cHM6Ly9hY3NjaGF0Ym90bm9pc2ludGVybi5ibG9iLmNvcmUud2luZG93cy5uZXQvcHVibGljLWRhdGEtdmVyMy8yMjItNC50eHQ1', 'source': 'doc-1'}), Document(page_content='is.vn\\r\\nAs mentioned above, Factory Smart Forms & Checklists was researched and born with great potential digital checklist normally. If your business knows how to apply FASF intelligently and thoroughly, this is a tool to help implement digital transformation and home digitization extremely effectively. Let’s explore more about this issue in the next articles!\\r\\n🍁 New Ocean IS And  Digital Checklists\\r\\nTrends of using digital checklistsIt will certainly be more popular in the future. We can completely believe in the development of an era of digital technology that will optimize human labor while ensuring work performance. Let your business with New Ocean Information System and Factory Smart Forms & Checklists conquer the age of technology!\\r\\nChecklist và checklist số là gì?\\r\\nHiện nay, có hai hình thức checklist phổ biến:Checklist thủ công: Checklist liệt kê các đầu công việc trong sổ tay, giấy nhớ,.. hoặc trên file excelDigital checklist: Hay còn gọi là Checklist số . Bạn không cần phải mang giấy bút hay sổ tay để ghi chép công việc. Vơi checklist số  bạn chỉ cần một thiết bị điện tử thông minh như điện thoại, ipad… để ghi lại tất cả những gì muốn và phải thực hiện.\\r\\nFactory Smart Forms & Checklists\\r\\nLà một đơn vị hoạt động trong lĩnh vực cung cấp phần mềm, giải pháp công nghệ l\\n', metadata={'@search.score': 8.092014, 'metadata_storage_path': 'aHR0cHM6Ly9hY3NjaGF0Ym90bm9pc2ludGVybi5ibG9iLmNvcmUud2luZG93cy5uZXQvcHVibGljLWRhdGEtdmVyMy8xOTAtNC50eHQ1', 'source': 'doc-2'}), Document(page_content=' đổi mới kỹ thuật số xứng đáng là “cánh tay nối dài” của doanh nghiệp.\\r\\n2. E – Form là gì?\\r\\nNgược lại của hình thức làm việc truyền thống với Traditional Form, E – Form hay còn được gọi đầy đủ Electronic Form là Biểu mẫu điện tử. Bạn có thể sử dụng E – Form ở bất cứ đâu, trên ứng dụng hoặc web chỉ với các thiết bị thông minh như điện thoại, máy tính bảng hay laptop… E – Form cho phép người dùng lưu trữ thông tin dữ liệu với khối lượng vô cùng lớn trên nền tảng điện toán đám mây. Đây cũng chính là điểm nổi bật của dự án Factory Smart Forms & Checklists. Nhà phát triển của FASF – New Ocean IS là đối tác của Microsoft, các sản phẩm của NOIS luôn lấy nền tảng điện toán đám\\n', metadata={'@search.score': 7.562107, 'metadata_storage_path': 'aHR0cHM6Ly9hY3NjaGF0Ym90bm9pc2ludGVybi5ibG9iLmNvcmUud2luZG93cy5uZXQvcHVibGljLWRhdGEtdmVyMy8xOTctNS50eHQ1', 'source': 'doc-3'}), Document(page_content=' BI bởi New Ocean IS.👉 Ngay từ những ngày đầu phát triển sản phẩm, Factory Smart Forms & Checklists (FASF) đã được định hướng là “cánh tay nối dài của khách hàng”.\\xa0 Gói giải pháp Smart Forms ra đời đưa định dạng kỹ thuật số vào quản lý sản xuất, tiết kiệm rất nhiều chi phí cho chủ doanh nghiệp.Vậy cụ thể những lợi ích mà Factory Smart Forms & Checklists (FASF) mang lại là gì và hiệu quả thực tiễn của nó ra sao? Cùng tìm hiểu những thông tin sau để giải đáp vấn đề này nhé!\\r\\nSứ mệnh tương lai của New Ocean IS\\u200b\\r\\nKhông chỉ hướng đến đối tượng khách hàng là các doanh nghiệp trong nước New Ocean IS còn có các đối tác là công ty nước ngoài. Cùng quá trình hình thành và phát triển hơn 11 năm, New Ocean IS mang\\n', metadata={'@search.score': 7.548973, 'metadata_storage_path': 'aHR0cHM6Ly9hY3NjaGF0Ym90bm9pc2ludGVybi5ibG9iLmNvcmUud2luZG93cy5uZXQvcHVibGljLWRhdGEtdmVyMy8xOTktNi50eHQ1', 'source': 'doc-4'})]\n"
     ]
    }
   ],
   "source": [
    "print(doc)"
   ]
  },
  {
   "cell_type": "code",
   "execution_count": null,
   "id": "37cc97fe",
   "metadata": {},
   "outputs": [],
   "source": []
  }
 ],
 "metadata": {
  "kernelspec": {
   "display_name": "Python 3 (ipykernel)",
   "language": "python",
   "name": "python3"
  },
  "language_info": {
   "codemirror_mode": {
    "name": "ipython",
    "version": 3
   },
   "file_extension": ".py",
   "mimetype": "text/x-python",
   "name": "python",
   "nbconvert_exporter": "python",
   "pygments_lexer": "ipython3",
   "version": "3.11.0"
  }
 },
 "nbformat": 4,
 "nbformat_minor": 5
}
