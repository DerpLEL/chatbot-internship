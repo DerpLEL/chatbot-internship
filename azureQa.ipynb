{
 "cells": [
  {
   "cell_type": "code",
   "execution_count": 1,
   "id": "ad66c9aa",
   "metadata": {},
   "outputs": [
    {
     "name": "stdout",
     "output_type": "stream",
     "text": [
      "service_name='search-service01' index_name='public-data-index' api_key='73Swa5YqUR5IRMwUIqOH6ww2YBm3SveLv7rDmZVXtIAzSeBjEQe9' api_version='2020-06-30' aiosession=None content_key='content'\n"
     ]
    }
   ],
   "source": [
    "from langchain.output_parsers import CommaSeparatedListOutputParser\n",
    "from langchain.prompts import PromptTemplate\n",
    "from langchain.retrievers import AzureCognitiveSearchRetriever\n",
    "from langchain.llms import AzureOpenAI\n",
    "from langchain.chains import LLMChain\n",
    "from langchain.chains.qa_with_sources import load_qa_with_sources_chain\n",
    "import magic\n",
    "import os\n",
    "import nltk\n",
    "\n",
    "os.environ['OPENAI_API_TYPE'] = 'azure'\n",
    "os.environ['OPENAI_API_VERSION'] = '2023-03-15-preview'\n",
    "os.environ['OPENAI_API_BASE'] = 'https://openai-nois-intern.openai.azure.com/'\n",
    "os.environ['OPENAI_API_KEY'] = os.getenv('OPENAI_API_KEY')\n",
    "\n",
    "os.environ[\"AZURE_COGNITIVE_SEARCH_SERVICE_NAME\"] = \"search-service01\"\n",
    "os.environ[\"AZURE_COGNITIVE_SEARCH_INDEX_NAME\"] = \"public-data-index\"\n",
    "os.environ[\"AZURE_COGNITIVE_SEARCH_API_KEY\"] = \"73Swa5YqUR5IRMwUIqOH6ww2YBm3SveLv7rDmZVXtIAzSeBjEQe9\"\n",
    "\n",
    "retriever_public = AzureCognitiveSearchRetriever(content_key='content')\n",
    "print(retriever_public)\n",
    "\n",
    "# os.environ[\"AZURE_COGNITIVE_SEARCH_INDEX_NAME\"] = \"public-index-ver2\"\n",
    "# retriever_private = AzureCognitiveSearchRetriever(content_key='content')\n",
    "# print(retriever_private)"
   ]
  },
  {
   "cell_type": "code",
   "execution_count": 2,
   "id": "66826924",
   "metadata": {},
   "outputs": [],
   "source": [
    "# Load up your LLM\n",
    "llm = AzureOpenAI(\n",
    "    deployment_name=\"text-davinci-003\",\n",
    "    model_name=\"text-davinci-003\",\n",
    "    max_tokens=300,\n",
    "    temperature=0.5\n",
    ")\n",
    "\n",
    "output_parser = CommaSeparatedListOutputParser()\n",
    "history = []\n",
    "\n",
    "def get_history_as_txt():\n",
    "    txt = \"\"\n",
    "    for i in history:\n",
    "        txt += f\"\\nHuman: {i['user']}\\n\"\n",
    "        txt += f\"AI:{i['AI']}\"\n",
    "        \n",
    "    return txt\n",
    "\n",
    "def add_to_history(user_msg, ai_msg):\n",
    "    history.append({'user': user_msg, 'AI': ai_msg})"
   ]
  },
  {
   "cell_type": "code",
   "execution_count": 3,
   "id": "4f2591df",
   "metadata": {},
   "outputs": [],
   "source": [
    "keyword_template = \"\"\"Given a sentence, extract maximum 2 most important sets of keywords and translate them to Vietnamese if they're in English and vice versa.\n",
    "Your output will be in both languages if possible, separated by commas.\n",
    "######\n",
    "SENTENCE: What are New Ocean company's products ?\n",
    "OUTPUT: New Ocean products, New Ocean sản phẩm\n",
    "SENTENCE: Was Nestle a customer of New Ocean ?\n",
    "OUTPUT: Nestle\n",
    "SENTENCE: When was New Ocean founded ?\n",
    "OUTPUT: New Ocean founded, New Ocean thành lập\n",
    "SENTENCE: Các sản phẩm của công ty New Ocean là gì ?\n",
    "OUTPUT: New Ocean sản phẩm, New Ocean products\n",
    "SENTENCE: Ai chưa đóng tiền nước ?\n",
    "OUTPUT: tiền nước, water bill\n",
    "SENTENCE: {question}\n",
    "OUTPUT:\"\"\"\n",
    "\n",
    "keyword_templ = \"\"\"Given a sentence, extract keywords and translate them to Vietnamese if they're in English and vice versa.\n",
    "Your output will be in both languages if possible, separated by commas.\n",
    "DON'T duplicate keywords.\n",
    "######\n",
    "EXAMPLE\n",
    "SENTENCE: Ai chưa đóng tiền nước?\n",
    "OUTPUT: tiền nước, water bill\n",
    "######\n",
    "SENTENCE: {output}\n",
    "OUTPUT:\"\"\"\n",
    "\n",
    "template = \"\"\"Given a list of documents from a company called New Ocean, answer the question.\n",
    "When asked a question not related to New Ocean, say \"Sorry, I will only answer questions related to New Ocean. Could you please ask another related question?\".\n",
    "If the user greets you, respond accordingly. If you don't know the answer, just say that you don't know. Don't try to make up an answer. DON'T use other sources than the ones provided.\n",
    "######\n",
    "{summaries}\n",
    "######{context}\n",
    "Human: {question}\n",
    "AI:\"\"\"\n",
    "\n",
    "templ = PromptTemplate(\n",
    "    input_variables = ['summaries', 'question', 'context'],\n",
    "    template = template\n",
    ")"
   ]
  },
  {
   "cell_type": "code",
   "execution_count": 4,
   "id": "689a9c75",
   "metadata": {},
   "outputs": [],
   "source": [
    "qaChain = load_qa_with_sources_chain(llm=llm, chain_type=\"stuff\", prompt=templ)\n",
    "keyword_getter = LLMChain(llm=llm, prompt=PromptTemplate.from_template(keyword_templ))"
   ]
  },
  {
   "cell_type": "code",
   "execution_count": 24,
   "id": "962c0200",
   "metadata": {},
   "outputs": [
    {
     "name": "stdout",
     "output_type": "stream",
     "text": [
      " Tổng thống Mỹ, President of the United States\n",
      "['Tổng thống Mỹ', 'President of the United States']\n"
     ]
    }
   ],
   "source": [
    "keywords = keyword_getter(query)['text']\n",
    "keywords_lst = output_parser.parse(keywords)\n",
    "print(keywords)\n",
    "print(keywords_lst)"
   ]
  },
  {
   "cell_type": "code",
   "execution_count": 5,
   "id": "78ec3926",
   "metadata": {},
   "outputs": [],
   "source": [
    "def get_docs_using_keyword_list(keywords, ret):\n",
    "    doc = []\n",
    "    keywords_lst = output_parser.parse(keywords)\n",
    "    \n",
    "    num = int(4 / len(keywords_lst))\n",
    "    \n",
    "    for i in keywords_lst:\n",
    "        doc.extend(ret.get_relevant_documents(i)[:num])\n",
    "        \n",
    "    return doc\n",
    "\n",
    "def get_docs_using_keyword_string(keywords, ret):\n",
    "    return ret.get_relevant_documents(keywords)[:5]"
   ]
  },
  {
   "cell_type": "code",
   "execution_count": 21,
   "id": "1e9b9871",
   "metadata": {},
   "outputs": [],
   "source": [
    "query = \"Tổng thống Mỹ là ai ?\"\n",
    "keywords = keyword_getter(query)['text']\n",
    "\n",
    "doc = get_docs_using_keyword_string(keywords, retriever_public)\n",
    "\n",
    "num = 1\n",
    "for x in doc:\n",
    "    x.metadata['source'] = f\"doc-{num}\"\n",
    "\n",
    "    num += 1\n",
    "\n",
    "try:\n",
    "    result = qaChain({'input_documents': doc, 'question': query, 'context': get_history_as_txt()}, return_only_outputs=False)\n",
    "except Exception:\n",
    "    history = history[len(history) - 5:]\n",
    "    \n",
    "add_to_history(query, result['output_text'])"
   ]
  },
  {
   "cell_type": "code",
   "execution_count": 22,
   "id": "f070c1b5",
   "metadata": {},
   "outputs": [
    {
     "data": {
      "text/plain": [
       "' Sorry, I will only answer questions related to New Ocean. Could you please ask another related question?'"
      ]
     },
     "execution_count": 22,
     "metadata": {},
     "output_type": "execute_result"
    }
   ],
   "source": [
    "result['output_text']"
   ]
  },
  {
   "cell_type": "code",
   "execution_count": 23,
   "id": "84a32655",
   "metadata": {
    "scrolled": true
   },
   "outputs": [
    {
     "name": "stdout",
     "output_type": "stream",
     "text": [
      "[Document(page_content='AUTOMATION SOLUTIONS\\r\\nMANUFACTURING EXECUTION SYSTEM\\r\\nHệ thống điều hành sản xuất - MES Trong quá trình chuyển đổi từ sản xuất truyền thống sang mô hình công nghiệp 4.0, việc sử dụng công nghệ số trong vận hành nhà máy không còn là điều xa...\\r\\nView more\\r\\nMACHINE MANAGEMENT SYSTEM\\r\\nAre you running a factory and having difficulty in managing machines, looking for a solution to optimize your production line operations?\\r\\nView more\\r\\nBATCH CONTROL SYSTEM\\r\\nBatch Control System is an efficient and reliable mass production process management system. During mass production, the precise and uniform mixing of ingredients...\\r\\nView more\\r\\nENERGY MANAGEMENT SOLUTIONS\\r\\nEnergy Management Solutions Energy plays an important role in economic growth, is an important input for many manufacturing industries and one of the most important commodities...\\r\\nView more\\r\\nSYSTEM INTEGRATION\\r\\nIn current Industry 4.0 Manufacturing, one of the most essential factors of competitiveness between businesses and production factories is the production line’s integrity..\\r\\nView more\\r\\nINTEGRATED ROBOTIC\\r\\nIn 1954, Industrial Robot concept was defined as an equipment system could be able to lift up and place down an object. This innovative work was patented in the United States of America shortly thereafter...\\r\\nView more\\r\\nSAFETY OF MACHINERY\\r\\nBên cạnh việc tối ưu hóa sản xuất, các giải pháp an toàn máy móc, lao động giúp bảo vệ lực lượng sản xuất chính - con người, luôn được chú trọng từ trước đ\\n', metadata={'@search.score': 12.733165, 'metadata_storage_path': 'aHR0cHM6Ly9hY3NjaGF0Ym90bm9pc2ludGVybi5ibG9iLmNvcmUud2luZG93cy5uZXQvcHVibGljLWRhdGEvMTMwLTEudHh00', 'source': 'doc-1'}), Document(page_content='INTEGRATED ROBOTIC\\r\\nIn 1954, Industrial Robot concept was defined as an equipment system could be able to lift up and place down an object. This innovative work was patented in the United States of America shortly thereafter. 60 years later, the explosion of industrial revolutions has strongly driven automation technology. The application of smart devices, also known as industrial Robots, has become the key to the competitiveness and performance optimization of today manufacturing plants.\\r\\nIn a word, Robot Integration Solution is defined as the use of intelligent machines with artificial intelligence. To serve one or more specific jobs automatically through human programmingDuring the Industrial Revolution 4.0 period, it is easy to observe that factories applying these solutions often have a high rate of defective products. As well as the rate at which the output reaches incredible numbers!\\r\\nThe superiority of Integrated Robotics Solutions can be demonstrated through the table below:\\r\\nADVANTAGES FROM NEW OCEAN’S INTEGRATED ROBOTIC SOLUTIONS\\r\\n- Robotic solutions at  Currently, it has been applied in all production fields in Vietnam as well as neighboring markets. We have many years of experience in integrating robots and cobots that are suitable for most manufacturing plants today. With a team that can meet the needs of building complete robotic solutions. This can help us determine the correct solution and best fit the requirements. As well as the needs of domestic and foreign enterprises.\\r\\nSome Integrated Robotic Solutions that New Ocean is providing as below:\\r\\n+ Assembly line robot application\\r\\n+ Material handling robot application\\r\\n+ Palletizing robot application\\r\\n+ Picking & packaging robot application\\r\\n+ Vision inspection robot application\\r\\n+ Welding robot application\\r\\n+ High-speed picking & placing robot application\\r\\n+ Machine tending robot application\\r\\n+ Press tending robot application\\r\\n+ Part transfer robot application\\r\\n+ Robotic system integration\\r\\nOutstanding advantages of the system\\r\\n- Flexibility in physical and virtual components’ design following manufacturing size.\\r\\n- The systems are easy to be reorganized or added new devices, which can support Your manufacturing plant proactively improving the production process to optimize the quantity of finished goods.\\r\\n- New Ocean always aims to the compact and convenience of the robotic solutions and installation, in parallel to recommend high-quality devices in reasonable budget that Your manufacturing plant can afford.\\r\\n- The product life is highly guaranteed going with 24/7 warranty and maintenance services from our highly-skilled engineers.\\r\\n- We support consulting, repairing and replacing new devices with reasonable costs, which could save Your Business’ labor costs and optimize production efficiency.\\r\\n- Excluding the traditional robotics solutions, New Ocean has been developing Cobotics solutions which could interact directly to human in a safe and friendly way.\\r\\nAUTOM\\n', metadata={'@search.score': 9.646825, 'metadata_storage_path': 'aHR0cHM6Ly9hY3NjaGF0Ym90bm9pc2ludGVybi5ibG9iLmNvcmUud2luZG93cy5uZXQvcHVibGljLWRhdGEvMTUyLTEudHh00', 'source': 'doc-2'}), Document(page_content=\"AUTOMATIC LABELING AND PRINTER - LOGOPAK\\r\\nGET YOUR SOLUTION NOW!\\r\\n1. Logopak  supplier introduction\\r\\nFounded in Germany in 1978. Logopak has grown to become one of the world's leading manufacturers of industrial automatic labeling printers. Apply a labeling system integrated into the logistics chain at the interface between production and shipping or at a centralized warehousing/distribution center.\\r\\nLogopak is a leading European manufacturer. Automatic labeling and printing systems. Today, Logopak has European subsidiaries in the United Kingdom, France, the Netherlands, Sweden, Denmark and Poland. With more than 6,000 machines successfully installed.\\r\\n2. The reason New Ocean recommends products from Zebra\\r\\nFor more than 40 years, Logopak has built machines for many different fields. Thanks to its flexible design capabilities and comprehensive manufacturing approach. Logopak can provide you with machines that are tailored to your specific requirements. To be a competent and reliable partner of We make sure that Logopak products and solutions can meet your needs.\\r\\n3. Product portfolio\\r\\nPallet Labeller\\r\\nLogopak's automatic labeling system comes with a standard stroke length of up to 800 mm. For smooth production operations with variable-size products and extreme reliability. When labels need to be attached to uneven surfaces. The machine can be equipped with an optional vacuum plate consisting of a flexo pad or 4 small auxiliary application cylinders. In addition, our system can be upgraded at any stage to RFID adoption.\\r\\nCase/Box Labeller\\r\\nAutomated labeling solutions are globally standard. Applied to facilitate the handling and tracking of an item. A wide range of lubricators are easily fitted to the unit to allow for labeling on all sides of the product. The outer box label contains an ITF14, EAN13, or GS1-128 barcode that identifies the product (GTIN). May also contain BBE, batch and quantity information. Depending on throughput rate, Logopak offers three sets of suitable case labelers. All equipment is manufactured in-house. Does not rely on any third-party software or hardware integration.\\r\\n300 Series\\xa0 – print & apply case labeller, out-the-box setup, for simple applications.400 Series – print and apply case labeller, up to 40 labels per minute, for complex applications500 Series\\xa0 – high speed print & apply case labeller, large capacity roll, up to 100 labels per minute.\\r\\nØ\\xa0 RFID LABELLERS\\r\\nMost of Logopak's systems come with future RFID technology built in. Thanks to the high quality of the components and the rugged modular design. They can be retrofitted with new\\n\", metadata={'@search.score': 8.623025, 'metadata_storage_path': 'aHR0cHM6Ly9hY3NjaGF0Ym90bm9pc2ludGVybi5ibG9iLmNvcmUud2luZG93cy5uZXQvcHVibGljLWRhdGEvOTktMS50eHQ1', 'source': 'doc-3'}), Document(page_content='nh vấn đề nào là quan trọng nhất đối với những người theo dõi của bạn. Ví dụ: bạn có thể nhận thấy rằng số lượng tương tác tăng lên đáng kể khi công ty của bạn đăng về những nỗ lực duy trì tính bền vững của nó.\\r\\nTỔNG KẾT\\r\\nCho dù bạn chọn phương pháp data collection để tìm hiểu thêm về khách hàng và khách hàng tiềm năng của mình, điều quan trọng là bạn phải hiểu rằng dữ liệu bạn thu thập chỉ có giá trị nếu dữ liệu nhất quán, chuẩn hóa và chất lượng cao. Các phương pháp thu thập dữ liệu sơ cấp khác nhau có thể phù hợp với các loại tổ chức khác nhau.\\r\\nWHAT IS DATA COLLECTION\\r\\nData collection is the process of gathering information about a specific subject. It is important to ensure that data is finalized during the collection phase and is collected in a legal and non-ethical manner. Otherwise,\\n', metadata={'@search.score': 8.288986, 'metadata_storage_path': 'aHR0cHM6Ly9hY3NjaGF0Ym90bm9pc2ludGVybi5ibG9iLmNvcmUud2luZG93cy5uZXQvcHVibGljLWRhdGEvNTgwLTE3LnR4dA2', 'source': 'doc-4'}), Document(page_content='TEAM BUILDING 2022 \"RISE AND SHINE\"\\r\\nIn order to improve the spirit of solidarity and connection between departments, on 2 days 25 - 26/06/2022 Dai Duong New Automatic System Co., Ltd organized for all its officers and employees a Team Building tour full of fun in Can Gio. Here, the group activities and attractive games made the members extremely excited and burned.\\r\\nTour Team Building 2022 with the slogan \"Wake up and shine\" based on a unified collective strength, wake up together and shine together. Conquer all challenges and immediate goals in 2022.\\r\\nAt 7:00 am, Saturday, June 25, 2022, the convoy departed from the office of New Ocean Company and moved to the location of Can Gio. After more than 2 hours of traveling, the convoy was at Can Gio resort. The whole group took advantage of Check-in, then proceeded to participate in collective game activities to build camaraderie, play games, emulate each other, and support each other.\\r\\nWith the thoughtful preparation in all aspects of the organizers and the eager spirit of the company\\'s members who are not afraid of difficulties. Team Building program took place as expected, everyone happily shared funny stories with each other.\\r\\nHaving fun and eating together brings people closer together. On each face of the participants, everyone played hard, didn\\'t think much about winning, we are a big family, everyone who wins is well deserved. The efforts of the teams to participate in the game, in line with the active working spirit of the big family . Thereby showing that the company\\'s warriors are very passionate and passionate in everything, despite many difficulties and challenges, they still try to overcome and succeed. The proof is that through the challenges of the Team Building program, they have been conquered and completed excellently.\\r\\nIt is not difficult when everyone is united and united to achieve the goal they desire. The lively atmosphere at the Gala Dinner night, the efforts of each team to participate in the competitions brought honor to each team and the whole company. Support each other in TeamWork but still prioritize fun. Everyone sends their best wishes to each other. At the same time, with sincere statements from the Company\\'s staff, the spirit of each employee has been encouraged, thereby building a stronger and stronger team together. Let\\'s honor the outstanding individuals who have devoted themselves to the company in the past time. Especially the lucky draw game, congratulations to the lucky members who won meaningful gifts from the program. Joy is not the gifts they receive, here it is the attachment, the affection that the company gives them. The sustainable solidarity of a \"Great Family\" always standing by each other, overcoming difficulties together and reaching the\\n', metadata={'@search.score': 7.8121142, 'metadata_storage_path': 'aHR0cHM6Ly9hY3NjaGF0Ym90bm9pc2ludGVybi5ibG9iLmNvcmUud2luZG93cy5uZXQvcHVibGljLWRhdGEvODEtMS50eHQ1', 'source': 'doc-5'})]\n"
     ]
    }
   ],
   "source": [
    "print(doc)"
   ]
  },
  {
   "cell_type": "code",
   "execution_count": 27,
   "id": "958aa615",
   "metadata": {},
   "outputs": [],
   "source": [
    "history = []"
   ]
  },
  {
   "cell_type": "code",
   "execution_count": 19,
   "id": "37cc97fe",
   "metadata": {},
   "outputs": [
    {
     "name": "stdout",
     "output_type": "stream",
     "text": [
      "Given a list of documents from a company called New Ocean, answer the question. When asked a question not related to New Ocean, say \"Sorry, I will only answer questions related to New Ocean. Could you please ask another related question?\".\n",
      "If the user greets you, respond accordingly. If you don't know the answer, just say that you don't know. Don't try to make up an answer. DON'T use other sources than the ones provided.\n",
      "######\n",
      "Contact\r\n",
      "HomeContact\r\n",
      "// contact details\r\n",
      "GET IN TOUCH\r\n",
      "Please feel free to get in touch with us via any convenient means (phone, email or submit a contact form). We will be glad to answer your question as soon as possible\r\n",
      "Our Address:\r\n",
      "Headquarter: 4th Floor, 51 Hoang Viet, Tan Binh, Ho Chi Minh, VN\r\n",
      "Branch: 10th Floor, 34 Hoang Viet, Tan Binh, Ho Chi Minh, VN\r\n",
      "Branch: 5th Floor, 51 Hoang Viet, Tan Binh, Ho Chi Minh, VN\r\n",
      "Our Mailbox:\r\n",
      "info[@]nois[.]vn\r\n",
      "sales[@]nois[.]vn\r\n",
      "Our Phone:\r\n",
      "(+84) 28 6681 0782 (Hotline)\r\n",
      "(+84) 985 868 872 (Sales Department)\r\n",
      "Ready to Get Started?\r\n",
      "Your email address will not be published. Required fields are marked *\r\n",
      "Δ\r\n",
      "\n",
      " ở việc sửa chữa lỗi lầm, có thể gây ra thất thoát lớn cho công ty.➡ Thông tin dữ liệu quá nhiều kéo dài quá trình nhập liệu, đợt nhập  liệu thông tin này kết thúc thì trên thực tế sản xuất đã có những thông số mới. Tình hình sản xuất thay đổi liên tục đôi lúc sẽ làm nhân viên nhập liệu lúng túng. Để báo cáo lên với nhà điều hành phải trải qua rất nhiều giai đoạn nên không tránh khỏi  “số liệu cũ”.\r\n",
      "Giới thiệu về New Ocean Information System - NOIS\r\n",
      "New Ocean Information  System (New Ocean IS – NOIS) với hơn 11 năm hoạt động là đơn vị luôn nắm bắt nhanh chóng các xu hướng công nghệ mới. NOIS đưa sự phát triển của công nghệ và chuyển đổi số vào các lĩnh vực s\n",
      "Contact\r\n",
      "HomeContact\r\n",
      "// contact details\r\n",
      "GET IN TOUCH\r\n",
      "Please feel free to get in touch with us via any convenient means (phone, email or submit a contact form). We will be glad to answer your question as soon as possible\r\n",
      "Our Address:\r\n",
      "Headquarter: 4th Floor, 51 Hoang Viet, Tan Binh, Ho Chi Minh, VN\r\n",
      "Branch: 10th Floor, 34 Hoang Viet, Tan Binh, Ho Chi Minh, VN\r\n",
      "Branch: 5th Floor, 51 Hoang Viet, Tan Binh, Ho Chi Minh, VN\r\n",
      "Our Mailbox:\r\n",
      "info[@]nois[.]vn\r\n",
      "sales[@]nois[.]vn\r\n",
      "Our Phone:\r\n",
      "(+84) 28 6681 0782 (Hotline)\r\n",
      "(+84) 985 868 872 (Sales Department)\r\n",
      "Ready to Get Started?\r\n",
      "Your email address will not be published. Required fields are marked *\r\n",
      "Δ\r\n",
      "\n",
      "ð��� Life at NOIS\r\n",
      "Your Growth is Our Success\r\n",
      "New Ocean IS always puts the development of each individualÂ in all development orientations of the company.We are focusing on training such as:â�¡ï¸� Clearly Career pathâ�¡ï¸� To participate in Technical and soft skills training courses through courses on Microsoft Learning, PluralSights, Udemy,Â â�¡ï¸� To organize workshop and senimars to exchange mutual knowledgeâ�¡ï¸� The company is developing the R&D departmentÂ so that each individual has more opportunities to develop more Technical and learn new knowledges.\r\n",
      "Previous image\r\n",
      "Next image\r\n",
      "ð��� Our policies\r\n",
      "Your Satisfaction is Our Success\r\n",
      "ð��µ Insurance and Salaryð��� Vietnam labor regulationsð��� Healthy Insuranceð��� Competitive and high salaryð��� Review salary twice a yearð��� 13th month salaryð��� Reward of the end the yearð��� Raised on for achieving English Technical certificates.Â ð��µ Activitiesð��� Office happy hours, Teambuilding, Company trip, Wedding, Birthday,â�¦ð��� Sport clubs: Soccer, Badminton, Games, â�¦.\r\n",
      "CONTACT US\r\n",
      "\n",
      "� từ New Ocean IS\r\n",
      "Chúng tôi hiểu rằng sự thành công của bất kỳ đơn vị nào luôn cần đủ hai yếu tố” Tâm “và” Tài ” ở đội ngũ nhân sự. NOIS xây dựng triết lý không ngừng học hỏi, bồi dưỡng nâng cao trình độ nhân sự và tiếp cận công nghệ mới. Tạo nên môi trường làm việc lành mạnh, khởi sinh những giá trị cho mỗi nhân viên khi làm việc.\r\n",
      "Drop us a line! We are here to answer your questions\r\n",
      "NEED A CONSULTATION?\r\n",
      "CONTACT US\r\n",
      "\n",
      "\n",
      "######\n",
      "Human: List of technical managers in NOIS ?\n",
      "AI: Sorry, I will only answer questions related to New Ocean. Could you please ask another related question?\n",
      "Human: Does NOIS offer any positions regarding machine learning ?\n",
      "AI: Yes, New Ocean offers positions related to machine learning. According to the documents provided, New Ocean is looking to use AI and Machine Learning to automate processes in manufacturing, to optimize resource usage, and to develop predictive models for business operations.\n",
      "Human: How to contact NOIS ?\n",
      "AI: You can get in touch with New Ocean via any convenient means (phone, email or submit a contact form). Their contact details are as follows: \n",
      "Headquarter: 4th Floor, 51 Hoang Viet, Tan Binh, Ho Chi Minh, VN\n",
      "Branch: 10th Floor, 34 Hoang Viet, Tan Binh, Ho Chi Minh, VN\n",
      "Branch: 5th Floor, 51 Hoang Viet, Tan Binh, Ho Chi Minh, VN\n",
      "Mailbox: info[@]nois[.]vn, sales[@]nois[.]vn\n",
      "Phone: (+84) 28 6681 0782 (Hotline), (+84) 985 868 872 (Sales Department)\n",
      "1988\n",
      "Length of chat history: 264\n"
     ]
    }
   ],
   "source": [
    "doc_txt = \"\"\n",
    "for x in doc:\n",
    "    doc_txt += x.page_content\n",
    "    \n",
    "context = get_history_as_txt()\n",
    "    \n",
    "msg = f\"\"\"Given a list of documents from a company called New Ocean, answer the question. When asked a question not related to New Ocean, say \"Sorry, I will only answer questions related to New Ocean. Could you please ask another related question?\".\n",
    "If the user greets you, respond accordingly. If you don't know the answer, just say that you don't know. Don't try to make up an answer. DON'T use other sources than the ones provided.\n",
    "######\n",
    "{doc_txt}\n",
    "######{context}\"\"\"\n",
    "\n",
    "print(msg)\n",
    "print(llm.get_num_tokens(msg))\n",
    "print(f\"Length of chat history: {llm.get_num_tokens(get_history_as_txt())}\")"
   ]
  },
  {
   "cell_type": "code",
   "execution_count": null,
   "id": "ba70633e",
   "metadata": {},
   "outputs": [],
   "source": []
  }
 ],
 "metadata": {
  "kernelspec": {
   "display_name": "Python 3 (ipykernel)",
   "language": "python",
   "name": "python3"
  },
  "language_info": {
   "codemirror_mode": {
    "name": "ipython",
    "version": 3
   },
   "file_extension": ".py",
   "mimetype": "text/x-python",
   "name": "python",
   "nbconvert_exporter": "python",
   "pygments_lexer": "ipython3",
   "version": "3.11.0"
  }
 },
 "nbformat": 4,
 "nbformat_minor": 5
}
