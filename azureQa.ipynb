{
 "cells": [
  {
   "cell_type": "code",
   "execution_count": 76,
   "id": "ad66c9aa",
   "metadata": {},
   "outputs": [],
   "source": [
    "from langchain.embeddings.openai import OpenAIEmbeddings\n",
    "from langchain.prompts import PromptTemplate\n",
    "from langchain.retrievers import TFIDFRetriever, AzureCognitiveSearchRetriever\n",
    "from langchain.vectorstores import FAISS\n",
    "from langchain.text_splitter import RecursiveCharacterTextSplitter\n",
    "from langchain.llms import AzureOpenAI\n",
    "from langchain.chains import RetrievalQA\n",
    "from langchain.document_loaders import DirectoryLoader, TextLoader\n",
    "from langchain.chains.qa_with_sources import load_qa_with_sources_chain\n",
    "from llama_index.embeddings import LangchainEmbedding\n",
    "import magic\n",
    "import os\n",
    "import nltk\n",
    "\n",
    "os.environ['OPENAI_API_TYPE'] = 'azure'\n",
    "os.environ['OPENAI_API_VERSION'] = '2023-03-15-preview'\n",
    "os.environ['OPENAI_API_BASE'] = 'https://openai-nois-intern.openai.azure.com/'\n",
    "os.environ['OPENAI_API_KEY'] = os.getenv('OPENAI_API_KEY')\n",
    "\n",
    "os.environ[\"AZURE_COGNITIVE_SEARCH_SERVICE_NAME\"] = \"search-service01\"\n",
    "os.environ[\"AZURE_COGNITIVE_SEARCH_INDEX_NAME\"] =\"public-index-ver1\"\n",
    "os.environ[\"AZURE_COGNITIVE_SEARCH_API_KEY\"] = \"73Swa5YqUR5IRMwUIqOH6ww2YBm3SveLv7rDmZVXtIAzSeBjEQe9\"\n",
    "\n",
    "# nltk.download('averaged_perceptron_tagger')\n",
    "\n",
    "# pip install unstructured\n",
    "# Other dependencies to install https://python.langchain.com/en/latest/modules/indexes/document_loaders/examples/unstructured_file.html\n",
    "# pip install python-magic-bin\n",
    "# pip install chromadb"
   ]
  },
  {
   "cell_type": "code",
   "execution_count": 77,
   "id": "e8a28a08",
   "metadata": {},
   "outputs": [],
   "source": [
    "# Get your loader ready\n",
    "text_loader_kwargs={'autodetect_encoding': True}\n",
    "loader = DirectoryLoader('D:/PDT-Chatbot/new_backend/data/Data/', glob='**/*.txt', loader_cls=TextLoader, loader_kwargs=text_loader_kwargs)"
   ]
  },
  {
   "cell_type": "code",
   "execution_count": 78,
   "id": "6a9740d9",
   "metadata": {},
   "outputs": [],
   "source": [
    "# Load up your text into documents\n",
    "documents = loader.load()"
   ]
  },
  {
   "cell_type": "code",
   "execution_count": 79,
   "id": "3153f864",
   "metadata": {},
   "outputs": [],
   "source": [
    "# Get your text splitter ready\n",
    "text_splitter = RecursiveCharacterTextSplitter(chunk_size=1000, chunk_overlap=0)"
   ]
  },
  {
   "cell_type": "code",
   "execution_count": 80,
   "id": "a792c6fb",
   "metadata": {},
   "outputs": [],
   "source": [
    "# Split your documents into texts\n",
    "texts = text_splitter.split_documents(documents)"
   ]
  },
  {
   "cell_type": "code",
   "execution_count": 81,
   "id": "853c9bf2",
   "metadata": {},
   "outputs": [],
   "source": [
    "retriever = AzureCognitiveSearchRetriever(content_key='content')"
   ]
  },
  {
   "cell_type": "code",
   "execution_count": 82,
   "id": "66826924",
   "metadata": {},
   "outputs": [],
   "source": [
    "# Load up your LLM\n",
    "llm = AzureOpenAI(\n",
    "    deployment_name=\"text-davinci-003\",\n",
    "    model_name=\"text-davinci-003\",\n",
    "    max_tokens=512,\n",
    "    temperature=1\n",
    ")"
   ]
  },
  {
   "cell_type": "markdown",
   "id": "f22231c5",
   "metadata": {},
   "source": [
    "### Sources"
   ]
  },
  {
   "cell_type": "code",
   "execution_count": 83,
   "id": "694343cb",
   "metadata": {},
   "outputs": [],
   "source": [
    "qa = RetrievalQA.from_chain_type(llm=llm,\n",
    "                                chain_type=\"stuff\",\n",
    "                                retriever=retriever,\n",
    "                                return_source_documents=True)"
   ]
  },
  {
   "cell_type": "code",
   "execution_count": 84,
   "id": "4ea29af0",
   "metadata": {},
   "outputs": [],
   "source": [
    "template = \"\"\"Given a list documents, answer the question.\n",
    "If you don't know the answer, just say that you don't know. Don't try to make up an answer.\n",
    "DON'T use other sources than the ones provided.\n",
    "------\n",
    "{summaries}\n",
    "------\n",
    "QUESTION: {question}\n",
    "FINAL ANSWER:\"\"\"\n",
    "\n",
    "templ = PromptTemplate(\n",
    "    input_variables=['summaries', 'question'], \n",
    "    output_parser=None, \n",
    "    partial_variables={}, \n",
    "    template=template, \n",
    "    template_format='f-string', \n",
    "    validate_template=True\n",
    ")"
   ]
  },
  {
   "cell_type": "code",
   "execution_count": 85,
   "id": "689a9c75",
   "metadata": {},
   "outputs": [],
   "source": [
    "qaChain = load_qa_with_sources_chain(llm=llm, chain_type=\"stuff\", prompt=templ)"
   ]
  },
  {
   "cell_type": "code",
   "execution_count": 113,
   "id": "1e9b9871",
   "metadata": {},
   "outputs": [],
   "source": [
    "query = \"Khách hàng của New Ocean gồm những công ty nào ?\"\n",
    "doc = retriever.get_relevant_documents(query)[:4]\n",
    "\n",
    "if isinstance(doc, list):\n",
    "    for x in doc:\n",
    "        x.metadata['source'] = 'idk'\n",
    "    \n",
    "else:\n",
    "    doc.metadata['source'] = 'idk'\n",
    "    doc = [doc]\n",
    "\n",
    "result = qaChain({'input_documents': doc, 'question': query}, return_only_outputs=False)"
   ]
  },
  {
   "cell_type": "code",
   "execution_count": 114,
   "id": "f070c1b5",
   "metadata": {},
   "outputs": [
    {
     "data": {
      "text/plain": [
       "' Không biết.'"
      ]
     },
     "execution_count": 114,
     "metadata": {},
     "output_type": "execute_result"
    }
   ],
   "source": [
    "result['output_text']"
   ]
  },
  {
   "cell_type": "code",
   "execution_count": 115,
   "id": "84a32655",
   "metadata": {},
   "outputs": [
    {
     "name": "stdout",
     "output_type": "stream",
     "text": [
      "[Document(page_content='New Ocean rất vui trước sự quan tâm và đóng góp nhiệt tình của các tình nguyện viên dành cho hoạt động, đó thực sự là những hành động đẹp, đầy ý nghĩa nhân văn dành cho cuộc sống này. Trân trọng cảm ơn tấm lòng, giọt máu quý báu của các anh chị, Quý khách hàng, đối tác Công ty New Ocean và các tình nguyện viên đã nhiệt tình tham gia chương trình. Rất mong tiếp tục nhận được sự quan tâm, đồng hành của các anh, chị trong các chương trình tình nguyện tiếp theo của công ty New Ocean.\\r\\nSự kiện\\r\\nNEW OCEAN THAM DỰ TRIỂN LÃM VIMF 2023\\r\\nGIẢI PHÁP KIỂM TRA CHẤT LƯỢNG IN ẤN TRONG NGÀNH DƯỢC PHẨM\\r\\nNew Ocean Automation System\\r\\nROBOT CỘNG TÁC XẾP HÀNG LÊN PALLET TRONG NGÀNH CÔNG NGHIỆP SẢN XUẤT\\n', metadata={'@search.score': 16.880205, 'metadata_storage_path': 'aHR0cHM6Ly9hY3NjaGF0Ym90bm9pc2ludGVybi5ibG9iLmNvcmUud2luZG93cy5uZXQvcHVibGljLWRhdGEtdmVyMS8xNDgudHh00', 'source': 'idk'}), Document(page_content='Với mục đích cung cấp thông tin, mang đến cho khách hàng những giá trị tốt nhất. Công Ty TNHH Hệ Thống Tự Động Đại Dương Mới tuyển dụng vị trí nhân viên telesales theo các thông tin sau:\\r\\n1. Xác định công việc\\r\\nTrong công ty\\r\\nTìm hiểu thông tin về sản phẩm của công ty. Mục đích nhằm đem lại các kết quả tư vấn hữu ích cho khách hàng.Phối hợp với bộ phận Marketing, Sales trong vấn đề đánh giá chất lượng dịch vụĐưa ra các đóng góp ý kiến cải tiến dịch vụ của công ty.\\r\\nNgoài công ty\\r\\nTạo mối quan hệ mật thiết và uy tín với khách hàng, luôn mang đến giải pháp tốt nhất để phục vụ khách hàngLuôn gìn giữ và xây dựng hình ảnh chuyên nghiệp của công ty.\\r\\n2. Quyền lợi\\n', metadata={'@search.score': 14.448496, 'metadata_storage_path': 'aHR0cHM6Ly9hY3NjaGF0Ym90bm9pc2ludGVybi5ibG9iLmNvcmUud2luZG93cy5uZXQvcHVibGljLWRhdGEtdmVyMS8zMzMudHh00', 'source': 'idk'}), Document(page_content='Để đăng ký cho sự kiện vô cùng ý nghĩa này, quý khách hàng vui lòng liên hệ:Email: customercare@new-ocean.com.vnHotline: 0987 006 894 ( Ms. Ngọc)\\r\\nXin trân trọng kính mời các quý khách hàng cùng tham gia vào sự kiện vô cùng ý nghĩa này và chung tay tạo ra những giá trị tốt đẹp cho cộng đồng!\\r\\nSự kiện\\r\\nNEW OCEAN THAM DỰ TRIỂN LÃM VIMF 2023\\r\\nGIẢI PHÁP KIỂM TRA CHẤT LƯỢNG IN ẤN TRONG NGÀNH DƯỢC PHẨM\\r\\nNew Ocean Automation System\\r\\nTHƯ MỜI THAM DỰ TRIỂN LÃM HÀ NỘI MIP 2022\\r\\nKính gửi: Quý Khách Hàng, Quý Đối Tác!\\r\\nLời đầu tiên, công ty New Ocean trân trọng gửi lời cảm ơn chân thành đến Quý Khách Hàng, Quý Đối Tác đã đồng hành cùng chúng tôi trong suốt thời gian vừa qua và rất mong tiếp tục nhận được sự quan tâm và hợp tác trong thời gian tới.\\n', metadata={'@search.score': 14.440597, 'metadata_storage_path': 'aHR0cHM6Ly9hY3NjaGF0Ym90bm9pc2ludGVybi5ibG9iLmNvcmUud2luZG93cy5uZXQvcHVibGljLWRhdGEtdmVyMS8yMDEudHh00', 'source': 'idk'}), Document(page_content='QUYỀN LỢI\\r\\nHỗ trợ di chuyển bằng xe công ty và các phương tiện Grab.Tham gia BHYT, BHXH theo quy định hiện hành.Được trải nghiệm và làm việc tại nhà máy sản xuất của khách hàng lớn.Được hưởng lương, khen thưởng, lương tháng 13, các phụ cấp/ phúc lợi khác cũng như cơ hội du lịch/ team building/ sinh nhật tổ chức định kỳ theo quy định của công ty.Được tham gia các buổi đào tạo nâng cao chuyên môn trong và ngoài nước.\\r\\nVị trí khác\\r\\nTrưởng nhóm kinh doanh (Sales Leader)\\r\\nNhân viên chăm sóc khách hàng\\r\\nNew Ocean Automation System\\r\\nKỹ Sư Thiết Kế Và Lắp Đặt Điện\\r\\nCÔNG TY TNHH HỆ THỐNG TỰ ĐỘNG ĐẠI DƯƠNG MỚI - NEW OCEAN\\n', metadata={'@search.score': 12.968172, 'metadata_storage_path': 'aHR0cHM6Ly9hY3NjaGF0Ym90bm9pc2ludGVybi5ibG9iLmNvcmUud2luZG93cy5uZXQvcHVibGljLWRhdGEtdmVyMS8zMTUudHh00', 'source': 'idk'})]\n"
     ]
    }
   ],
   "source": [
    "print(doc)"
   ]
  },
  {
   "cell_type": "code",
   "execution_count": null,
   "id": "5a32df78",
   "metadata": {},
   "outputs": [],
   "source": []
  }
 ],
 "metadata": {
  "kernelspec": {
   "display_name": "Python 3 (ipykernel)",
   "language": "python",
   "name": "python3"
  },
  "language_info": {
   "codemirror_mode": {
    "name": "ipython",
    "version": 3
   },
   "file_extension": ".py",
   "mimetype": "text/x-python",
   "name": "python",
   "nbconvert_exporter": "python",
   "pygments_lexer": "ipython3",
   "version": "3.11.0"
  }
 },
 "nbformat": 4,
 "nbformat_minor": 5
}
