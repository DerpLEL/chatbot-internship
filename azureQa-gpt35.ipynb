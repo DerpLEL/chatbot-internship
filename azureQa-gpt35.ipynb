{
 "cells": [
  {
   "cell_type": "code",
   "execution_count": 33,
   "id": "ad66c9aa",
   "metadata": {},
   "outputs": [
    {
     "name": "stdout",
     "output_type": "stream",
     "text": [
      "service_name='search-service01' index_name='public-data-index-alt' api_key='73Swa5YqUR5IRMwUIqOH6ww2YBm3SveLv7rDmZVXtIAzSeBjEQe9' api_version='2020-06-30' aiosession=None content_key='content'\n",
      "service_name='search-service01' index_name='private-index-test' api_key='73Swa5YqUR5IRMwUIqOH6ww2YBm3SveLv7rDmZVXtIAzSeBjEQe9' api_version='2020-06-30' aiosession=None content_key='content'\n"
     ]
    }
   ],
   "source": [
    "from langchain.prompts import PromptTemplate\n",
    "from langchain.retrievers import AzureCognitiveSearchRetriever\n",
    "from langchain.chat_models import AzureChatOpenAI\n",
    "from langchain.chains.qa_with_sources import load_qa_with_sources_chain\n",
    "from langchain.chains import LLMChain\n",
    "from langchain.tools import BaseTool\n",
    "from langchain.agents import ZeroShotAgent, AgentExecutor\n",
    "from functools import reduce\n",
    "import pandas as pd\n",
    "import os\n",
    "\n",
    "os.environ[\"AZURE_COGNITIVE_SEARCH_SERVICE_NAME\"] = \"search-service01\"\n",
    "os.environ[\"AZURE_COGNITIVE_SEARCH_INDEX_NAME\"] = \"public-data-index-alt\"\n",
    "os.environ[\"AZURE_COGNITIVE_SEARCH_API_KEY\"] = \"73Swa5YqUR5IRMwUIqOH6ww2YBm3SveLv7rDmZVXtIAzSeBjEQe9\"\n",
    "\n",
    "retriever_public = AzureCognitiveSearchRetriever(content_key='content')\n",
    "print(retriever_public)\n",
    "\n",
    "os.environ[\"AZURE_COGNITIVE_SEARCH_INDEX_NAME\"] = \"private-index-test\"\n",
    "retriever_private = AzureCognitiveSearchRetriever(content_key='content')\n",
    "print(retriever_private)"
   ]
  },
  {
   "cell_type": "code",
   "execution_count": 34,
   "id": "66826924",
   "metadata": {},
   "outputs": [],
   "source": [
    "# Load up your LLM\n",
    "llm = AzureChatOpenAI(\n",
    "    openai_api_type=\"azure\",\n",
    "    openai_api_base='https://openai-nois-intern.openai.azure.com/',\n",
    "    openai_api_version=\"2023-03-15-preview\",\n",
    "    deployment_name='test-1',\n",
    "    openai_api_key=os.getenv('OPENAI_API_KEY'),\n",
    "    temperature=0.5,\n",
    "    max_tokens=300\n",
    ")\n",
    "\n",
    "history = []\n",
    "history_entry = 1\n",
    "\n",
    "def get_history_as_txt():\n",
    "    txt = \"\"\n",
    "    for i in history:\n",
    "        txt += f\"\\n<|im_start|>user\\n{i['user']}\\n<|im_end|>\\n\"\n",
    "        txt += f\"<|im_start|>assistant\\n{i['AI']}\\n<|im_end|>\"\n",
    "        \n",
    "    return txt\n",
    "\n",
    "def add_to_history(user_msg, ai_msg):\n",
    "    history.append({'user': user_msg, 'AI': ai_msg})"
   ]
  },
  {
   "cell_type": "code",
   "execution_count": 35,
   "id": "ef9f927c",
   "metadata": {},
   "outputs": [],
   "source": [
    "def save_history_to_file():\n",
    "    global history_entry\n",
    "    file = open(f\"chatbot-cases/chat-{history_entry}.txt\", 'w', encoding='utf-8')\n",
    "    file.write(get_history_as_txt())\n",
    "    \n",
    "    file.close()\n",
    "    \n",
    "    history_entry += 1"
   ]
  },
  {
   "cell_type": "code",
   "execution_count": 36,
   "id": "47aadd54",
   "metadata": {},
   "outputs": [
    {
     "name": "stdout",
     "output_type": "stream",
     "text": [
      "verbose=False callbacks=None callback_manager=None tags=None client=<class 'openai.api_resources.chat_completion.ChatCompletion'> model_name='gpt-3.5-turbo' temperature=0.5 model_kwargs={} openai_api_key='400568d9a16740b88aff437480544a39' openai_api_base='https://openai-nois-intern.openai.azure.com/' openai_organization='' openai_proxy='' request_timeout=None max_retries=6 streaming=False n=1 max_tokens=300 deployment_name='test-1' openai_api_type='azure' openai_api_version='2023-03-15-preview'\n"
     ]
    }
   ],
   "source": [
    "print(llm)"
   ]
  },
  {
   "cell_type": "code",
   "execution_count": 44,
   "id": "4f2591df",
   "metadata": {},
   "outputs": [],
   "source": [
    "keyword_templ = \"\"\"<|im_start|>system\n",
    "Given a sentence and a conversation about the companies New Ocean and NOIS, assistant will extract keywords based on the conversation and the sentence and translate them to Vietnamese if they're in English and vice versa.\n",
    "Your output will be on one line, in both languages if possible and separated by commas. Do not duplicate keywords.\n",
    "Assume the context is about the companies unless specified otherwise. Only return the keywords, do not output anything else.\n",
    "\n",
    "EXAMPLE\n",
    "Input: Ai chưa đóng tiền nước?\n",
    "Output: tiền nước, water bill\n",
    "Input: Was Pepsico a customer of New Ocean?\n",
    "Output: Pepsico\n",
    "Input: What is FASF?\n",
    "Output: FASF\n",
    "<|im_end|>\n",
    "{context}\n",
    "<|im_start|>user\n",
    "Input: {question}\n",
    "<|im_end|>\n",
    "<|im_start|>assistant\n",
    "Output:\"\"\"\n",
    "\n",
    "query_prompt_template = \"\"\"Below is a history of the conversation so far, and a new question asked by the user that needs to be answered by querying relevant company documents.\n",
    "Generate a search query based on the conversation and the new question. \n",
    "\n",
    "Chat History:{chat_history}\n",
    "\n",
    "Question:\n",
    "{question}\n",
    "\n",
    "Search query:\n",
    "\"\"\"\n",
    "\n",
    "template = \"\"\"<|im_start|>system\n",
    "Assistant is a friendly chatbot that helps the company employees and users with their questions about the companies New Ocean and NOIS in their language. Be brief in your answers.\n",
    "Answer ONLY with the facts listed in the list of sources below. If there isn't enough information below, say you don't know. Do not generate answers that don't use the sources below. If asking a clarifying question to the user would help, ask the question.\n",
    "If the user asks any questions not related to New Ocean or NOIS, apologize and request another question from the user. If the user greets you, respond accordingly.\n",
    "If given a question with both languages present, ask the user which language they prefer.\n",
    "Sources:\n",
    "{summaries}\n",
    "<|im_end|>\n",
    "{context}\n",
    "<|im_start|>user\n",
    "{question}\n",
    "<|im_end|>\n",
    "<|im_start|>assistant\n",
    "\"\"\""
   ]
  },
  {
   "cell_type": "code",
   "execution_count": 45,
   "id": "689a9c75",
   "metadata": {},
   "outputs": [],
   "source": [
    "qaChain = load_qa_with_sources_chain(llm=llm, chain_type=\"stuff\", prompt=PromptTemplate.from_template(template))\n",
    "keywordChain = LLMChain(llm=llm, prompt=PromptTemplate.from_template(keyword_templ))"
   ]
  },
  {
   "cell_type": "code",
   "execution_count": 46,
   "id": "acf09469",
   "metadata": {},
   "outputs": [],
   "source": [
    "def get_docs_using_keyword_string(keywords, ret):\n",
    "    return ret.get_relevant_documents(keywords)[:5]"
   ]
  },
  {
   "cell_type": "code",
   "execution_count": 57,
   "id": "1e9b9871",
   "metadata": {},
   "outputs": [],
   "source": [
    "query = \"NOIS có những dịch vụ gì?\"\n",
    "keywords = keywordChain({'context': get_history_as_txt(), 'question': query})\n",
    "\n",
    "doc = get_docs_using_keyword_string(keywords['text'], retriever_public)\n",
    "\n",
    "num = 1\n",
    "for x in doc:\n",
    "    x.metadata['source'] = f\"doc-{num}\"\n",
    "\n",
    "    num += 1\n",
    "\n",
    "result = qaChain({'input_documents': doc, 'question': query, 'context': get_history_as_txt()}, return_only_outputs=False)\n",
    "    \n",
    "add_to_history(query, result['output_text'])"
   ]
  },
  {
   "cell_type": "code",
   "execution_count": 58,
   "id": "30cf7d06",
   "metadata": {},
   "outputs": [
    {
     "name": "stdout",
     "output_type": "stream",
     "text": [
      "NOIS, dịch vụ, services\n"
     ]
    }
   ],
   "source": [
    "print(keywords['text'])"
   ]
  },
  {
   "cell_type": "code",
   "execution_count": 59,
   "id": "f070c1b5",
   "metadata": {},
   "outputs": [
    {
     "data": {
      "text/plain": [
       "'NOIS cung cấp nhiều dịch vụ trong lĩnh vực sản xuất và dịch vụ gia công phần mềm CNTT, bao gồm các giải pháp như Supply Chain, Traceability, Warehouse Management và Factory Smart Forms & Checklists. Ngoài ra, NOIS còn cung cấp các giải pháp chìa khóa trao tay trong ngành Logistics như kích hoạt các dịch vụ tùy chỉnh và giúp doanh nghiệp tiết kiệm chi phí trong phát triển, thiết lập và bảo trì cơ sở hạ tầng CNTT riêng.'"
      ]
     },
     "execution_count": 59,
     "metadata": {},
     "output_type": "execute_result"
    }
   ],
   "source": [
    "result['output_text']"
   ]
  },
  {
   "cell_type": "code",
   "execution_count": 60,
   "id": "84a32655",
   "metadata": {
    "scrolled": true
   },
   "outputs": [
    {
     "name": "stdout",
     "output_type": "stream",
     "text": [
      "[Document(page_content='t số trong sản xuất và dịch vụ gia công phần mềm CNTT. Nổi bật có thể kể đến các giải pháp như Supply Chain, Traceability, Warehouse Management…Một dự án khác của NOIS đang gây tiếng vang, thu hút sự quan tâm của rất nhiều doanh nghiệp đó là Factory Smart Forms & Checklists. 2 năm bùng nổ dịch bệnh Covid-19, nền\\xa0 kinh tế thế giới và Việt Nam chịu nhiều ảnh hưởng sâu sắc. Sau đợt dịch thứ 4 bùng nổ tại Việt Nam, cuối năm 2021 là th�\\n', metadata={'@search.score': 11.384831, 'metadata_storage_path': 'aHR0cHM6Ly9hY3NjaGF0Ym90bm9pc2ludGVybi5ibG9iLmNvcmUud2luZG93cy5uZXQvcHVibGljLWRhdGEtYWx0LzUyMC0xMS50eHQ1', 'source': 'doc-1'}), Document(page_content='ó khăn về nhân lực, nguồn vốn và duy trì. Hãy đến ngay với New Ocean Information System NOIS để được trải nghiệm dịch vụ tuyệt vời nhất.Thành lập từ năm 2010, trong suốt chặng đường phát triển NOIS không ngừng mở rộng nguồn tài nguyên công nghệ của mình, tạo ra những sản phẩm, giải pháp có tính ứng dụng cao, phù hợp với các doanh nghiệp Việt Nam. Những dự án thành công hợp tác cùng hơn 70+\\n', metadata={'@search.score': 10.922973, 'metadata_storage_path': 'aHR0cHM6Ly9hY3NjaGF0Ym90bm9pc2ludGVybi5ibG9iLmNvcmUud2luZG93cy5uZXQvcHVibGljLWRhdGEtYWx0LzU1Ny0zMC50eHQ1', 'source': 'doc-2'}), Document(page_content='NGÀNH DỊCH VỤ HẬU CẦN\\r\\nTình hình chung về ngành Dịch Vụ Hậu Cần tại Việt Nam\\r\\nVề cơ bản, Dịch vụ hậu cần (logistics) là một chuỗi nhiều hoạt động xoay quanh hàng hóa như: đóng gói, bao bì, lưu trữ hàng hóa, kho bãi, bảo quản… Tại Việt Nam, tiềm năng phát triển dịch vụ logistics là rất lớn. Với các thế mạnh như sự gia tăng của việc trao đổi thương mại quốc tế và v�\\n', metadata={'@search.score': 10.148084, 'metadata_storage_path': 'aHR0cHM6Ly9hY3NjaGF0Ym90bm9pc2ludGVybi5ibG9iLmNvcmUud2luZG93cy5uZXQvcHVibGljLWRhdGEtYWx0LzE1NS0xLnR4dA2', 'source': 'doc-3'}), Document(page_content='�nh đầu tư sáng suốt nâng cấp kịp thời.\\r\\nTrí tuệ nhân tạo (AI)\\r\\nGóp phần đơn giản hóa cách thức mà các nhà cung cấp dịch vụ Logistics hoạt động. Ngày nay, khái niệm về robot AI và tự động hóa cũng được triển khai rộng rãi trong chuỗi cung ứng. Với vai trò hỗ trợ người lao động. Thực hiện nhiệm vụ lặp đi lặp lại và những công việc thử thách về thể chất.\\r\\n+ Vận chuyển an toàn\\n', metadata={'@search.score': 8.390344, 'metadata_storage_path': 'aHR0cHM6Ly9hY3NjaGF0Ym90bm9pc2ludGVybi5ibG9iLmNvcmUud2luZG93cy5uZXQvcHVibGljLWRhdGEtYWx0LzE1NS01LnR4dA2', 'source': 'doc-4'}), Document(page_content=' các nhà cung cấp dịch vụ Logistics có thể kích hoạt. Hủy kích hoạt các dịch vụ tùy chỉnh theo nhu cầu (sử dụng phương thức trả tiền cho mỗi lần sử dụng). Điều này cho phép các nhà cung cấp dịch vụ mở rộng mô hình của mình. Giúp cho doanh nghiệp tiết kiệm được chi phí trong phát triển, thiết lập và bảo trì cơ sở hạ tầng CNTT riêng.\\r\\nCÁC GIẢI PHÁP CHÌA KHÓA TRAO TAY TỪ NEW OCEAN\\r\\nGiải phá\\n', metadata={'@search.score': 8.355409, 'metadata_storage_path': 'aHR0cHM6Ly9hY3NjaGF0Ym90bm9pc2ludGVybi5ibG9iLmNvcmUud2luZG93cy5uZXQvcHVibGljLWRhdGEtYWx0LzE1NS03LnR4dA2', 'source': 'doc-5'})]\n"
     ]
    }
   ],
   "source": [
    "print(doc)"
   ]
  },
  {
   "cell_type": "code",
   "execution_count": 56,
   "id": "44a76057",
   "metadata": {},
   "outputs": [],
   "source": [
    "history = []"
   ]
  },
  {
   "cell_type": "code",
   "execution_count": 28,
   "id": "958aa615",
   "metadata": {},
   "outputs": [
    {
     "data": {
      "text/plain": [
       "\"\\n<|im_start|>user\\nWhat is New Ocean?\\n<|im_end|>\\n<|im_start|>assistant\\nNew Ocean is a company that provides solutions for quality control in the pharmaceutical and chemical industries, as well as automation systems. They recently participated in the VIMF 2023 exhibition, with their booth located at number 76 in the Innovation area. For more information, you can contact them through their hotline at 1900 0224 or email at customercare@new-ocean.com.vn.\\n<|im_end|>\\n<|im_start|>user\\nWhat are New Ocean's products?\\n<|im_end|>\\n<|im_start|>assistant\\nNew Ocean provides solutions for quality control in the pharmaceutical and chemical industries, as well as automation systems. However, I do not have specific information about their products beyond this. Would you like me to look up more information?\\n<|im_end|>\\n<|im_start|>user\\nNo, it's fine.\\n<|im_end|>\\n<|im_start|>assistant\\nAlright, let me know if you have any other questions related to New Ocean or their products.\\n<|im_end|>\\n<|im_start|>user\\nWhat is FASF?\\n<|im_end|>\\n<|im_start|>assistant\\nFASF stands for Factory Smart Forms & Checklists Solution, which is a solution provided by New Ocean that optimizes operation processes for all manufacturing units in various fields. It is designed to work in real-time, allowing for easy tracking of production line issues and errors. FASF also supports digitization, eliminating manual paperwork and streamlining operations. It is available on the Microsoft Azure cloud platform and offers a modern way of working, with optimized storage space and increased efficiency. Would you like more information about FASF?\\n<|im_end|>\\n<|im_start|>user\\nLợi ích FASF đem lại là gì?\\n<|im_end|>\\n<|im_start|>assistant\\nFASF offers several benefits, including the ability to save up to 80-90% of the total time spent accessing all data visually, from anywhere at any time. It also provides automatic daily, weekly, and monthly report summaries. FASF encourages employees to work more efficiently via email and phone reminders, and it is easy for employees to update and control data with simple operations. Additionally, FASF supports digitization, eliminating manual paperwork and streamlining operations. Does that answer your question?\\n<|im_end|>\""
      ]
     },
     "execution_count": 28,
     "metadata": {},
     "output_type": "execute_result"
    }
   ],
   "source": [
    "get_history_as_txt()"
   ]
  },
  {
   "cell_type": "code",
   "execution_count": 29,
   "id": "467c4b2b",
   "metadata": {},
   "outputs": [],
   "source": [
    "save_history_to_file()"
   ]
  },
  {
   "cell_type": "code",
   "execution_count": 24,
   "id": "37cc97fe",
   "metadata": {},
   "outputs": [
    {
     "name": "stdout",
     "output_type": "stream",
     "text": [
      "<|im_start|>system\n",
      "Assistant helps the company employees and users with their questions about the companies New Ocean and NOIS. Be brief in your answers.\n",
      "Answer ONLY with the facts listed in the list of sources below. If there isn't enough information below, say you don't know. Do not generate answers that don't use the sources below. If asking a clarifying question to the user would help, ask the question.\n",
      "If the user asks any questions not related to New Ocean or NOIS, apologize and request another question from the user. If the user greets you, respond accordingly.\n",
      "Sources:\n",
      "Data Analytics, Data Engineering  & Machine Learning Portfolio\n",
      "HomeData Analytics, Data Engineering  & Machine Learning Portfolio\n",
      "// our portfolio\n",
      "Data Analytics, Data Engineering  & Machine Learning\n",
      "\n",
      "Data Analytics, Data Engineering  & Machine Learning Portfolio\n",
      "HomeData Analytics, Data Engineering  & Machine Learning Portfolio\n",
      "// our portfolio\n",
      "Data Analytics, Data Engineering  & Machine Learning\n",
      "\n",
      "APPLICATION OF DEEP LEARNING IN PRODUCTION PRACTICE\n",
      "The term Deep Learning becomes very familiar to Machine Learning enthusiasts. Many companies have gained a great reputation in the field of science thanks to the successful application of Deep Learning. So, how does it apply to production? Let's explore with New Ocean!\n",
      "Applications of deep learning\n",
      "1. Deep Learning Concepts\n",
      "We often come across novel terms such as Computer Vision, Machine Learning, Deep Learning, in which Deep Learning is a deep learning neural network, a subset of Machine Learning that has networks capable of learning unsupervised from unstructured or unbroken data.\n",
      "2. Applying Deep Learning to Production\n",
      "Digital and the application of techniques have been applied in the manufacturing field for a long time. Information storage and measurement became digitized, and computers joined in the process. The explosion of data makes traditional models inadequate and this is where Deep Learning comes into play.\n",
      "Applying Deep Learning to Production\n",
      "Quality control\n",
      "In a large assembly line, Deep Learning may be involved in quality control tasks. According to Forbes, it has been proven that workflows, analytics based on Deep Learning predict a 35% increase in quality optimization and automation is expected to increase 34%.\n",
      "With machines operating in the traditional way, they are only capable of detecting quality problems against the length or weight data of the product. In contrast to computer vision systems, it is possible to detect quality problems and then provide appropriate solutions to overcome them.\n",
      "Deep Learning allows for more extensibility than legacy solutions and trained and reused when the manufacturing plant needs them. To fully apply deep learning, businesses need\n",
      "�t ngữ mới lạ như là thị giác máy tính (Computer Vision), học máy (Machine Learning), học sâu (Deep Learning),..Trong đó Deep Learning là mạng lưới nơron học sâu, là tập con của Machine Learning có các mạng có khả năng học không bị giám sát từ các dữ liệu không có cấu trúc hoặc không bị gián đoạn.\n",
      "2. Ứng dụng Deep Learning vào sản xuất\n",
      "Kỹ thuật số và ứng dụng các kỹ thuật đã được ứng dụng vào trong lĩnh vực sản xuất từ rất lâu.\n",
      "Data Analytics, Machine Learning, & AI\n",
      "HomeData Analytics, Machine Learning, & AI\n",
      "Data Analytics, Machine Learning & AI\n",
      " 5/5\n",
      "We specialize in Data Engineering, Business Intelligence, Data Analysis, Visualization, and Machine Learning. We have successfully delivered multiple types of BI projects for different industries such as: Accounting, Human Resources, Real Estate, Logistics, Insurance, Manufacturing, etc. The data engineering process has been using different types of technologies which is relevant to customers’ data context and preferences. Our team provide data lake and data warehouse solutions.  Our methodology requires a survey on customer’s existing data sources, their expected outcomes, and target users.Our Data Scientists work with customers’ historical data to provide different insights with appropriate machine learning models and algorithms. The outcomes is then integrated to their existing application platform and presented in visualized reports.\n",
      "Data Analytics, Machine Learning & AI. Source: nois.vn\n",
      "Data Engineering\n",
      "Power Bi. Souce: nois.vn\n",
      "Companies have enough capable BI resources but their challenges are to reconcile the data from different sources such as: CRM, ERP, HRM, MES, etc. into a consistent, well-structured data model. We provide the Data Warehouse solution to solve this challenges, empower customers to leverage their existing staffs with rich domain knowledge to implement their own visualization reports, analytics on top of this platform.\n",
      "🎀 Using Azure Data Factory as ETL (Extract-Transform-Load) and ELT (\n",
      "\n",
      "<|im_end|>\n",
      "\n",
      "\n",
      "<|im_start|>user\n",
      "Was Pepsico a customer of New Ocean ?\n",
      "<|im_end|>\n",
      "<|im_start|>assistant\n",
      "Yes, according to the source \"Suntory Pepsico\", Pepsico had a partnership with New Ocean.\n",
      "<|im_end|>\n",
      "<|im_start|>user\n",
      "Was Nestle a customer too?\n",
      "<|im_end|>\n",
      "<|im_start|>assistant\n",
      "Yes, according to the source \"Khách hàng\" Nestle was a customer of New Ocean.\n",
      "<|im_end|>\n",
      "<|im_start|>user\n",
      "Liên hệ với NOIS như thế nào?\n",
      "<|im_end|>\n",
      "<|im_start|>assistant\n",
      "Bạn có thể liên hệ với NOIS qua nhiều cách, bao gồm điện thoại, email hoặc gửi một biểu mẫu liên hệ trên trang web của họ. Thông tin liên hệ của NOIS bao gồm địa chỉ, email và số điện thoại. Bạn có thể tìm thấy tất cả thông tin liên hệ này trên trang \"Contact\" trên trang web của NOIS.\n",
      "<|im_end|>\n",
      "<|im_start|>user\n",
      "NOIS có tuyển vị trí Machine Learning không?\n",
      "<|im_end|>\n",
      "<|im_start|>assistant\n",
      "Tôi không tìm thấy thông tin về việc NOIS đang tuyển dụng vị trí Machine Learning hay không. Bạn có thể truy cập trang web của NOIS để tìm hiểu thêm về các vị trí đang tuyển dụng của họ hoặc liên hệ trực tiếp với họ để biết thêm thông tin.\n",
      "<|im_end|>\n",
      "\n",
      "1441\n",
      "Length of chat history: 429\n"
     ]
    }
   ],
   "source": [
    "doc_txt = \"\"\n",
    "for x in doc:\n",
    "    doc_txt += x.page_content\n",
    "    \n",
    "context = get_history_as_txt()\n",
    "    \n",
    "msg = f\"\"\"<|im_start|>system\n",
    "Assistant helps the company employees and users with their questions about the companies New Ocean and NOIS. Be brief in your answers.\n",
    "Answer ONLY with the facts listed in the list of sources below. If there isn't enough information below, say you don't know. Do not generate answers that don't use the sources below. If asking a clarifying question to the user would help, ask the question.\n",
    "If the user asks any questions not related to New Ocean or NOIS, apologize and request another question from the user. If the user greets you, respond accordingly.\n",
    "Sources:\n",
    "{doc_txt}\n",
    "<|im_end|>\n",
    "{context}\n",
    "\"\"\"\n",
    "\n",
    "print(msg)\n",
    "print(llm.get_num_tokens(msg))\n",
    "print(f\"Length of chat history: {llm.get_num_tokens(get_history_as_txt())}\")"
   ]
  },
  {
   "cell_type": "code",
   "execution_count": 19,
   "id": "6faaf633",
   "metadata": {},
   "outputs": [],
   "source": [
    "class PrivateDataTool(BaseTool):\n",
    "    name = \"Excel sheet getter tool\"\n",
    "    description = \"\"\"use this tool when you need to get an information sheet from an excel file exclusive only to New Ocean and NOIS's employees.\n",
    "    Query by inputting the sheet name. The excel file contains 4 sheets (case-sensitive) which are:\n",
    "    - Training Plan: contains past and upcoming company training plans.\n",
    "    - Company Trip_Team Building 2023: contains upcoming company trips.\n",
    "    - Organization Chart: contains details regarding development teams, members, their positions and their managers.\n",
    "    - May Drink Fee: contains info on people who have or haven't paid drink fee in May.\"\"\"\n",
    "\n",
    "    def _run(self, query: str):\n",
    "        try:\n",
    "            df = pd.read_excel(\"Data Private Chatbot.xlsx\", sheet_name=query, skiprows=1)\n",
    "            return df\n",
    "        \n",
    "        except Exception:\n",
    "            return f\"\\nSheet {query} not found, the file contains only 4 sheets which are Training Plan, Organization Chart, Company Trip_Team Building 2023 and May Drink Fee. Try inputting the correct sheet name.\"\n",
    "    \n",
    "    def _arun(self, query: str):\n",
    "        raise NotImplementedError(\"This tool does not support async\")\n",
    "        \n",
    "class DoNothing(BaseTool):\n",
    "    name = \"Generic tool\"\n",
    "    description = \"\"\"use this tool if you encounter any questions that are not related to New Ocean or NOIS.\"\"\"\n",
    "    \n",
    "    def _run(self, query: str):\n",
    "        return \"No documents found.<|im_end|>\"\n",
    "    \n",
    "    def _arun(self, query: str):\n",
    "        raise NotImplementedError(\"This tool does not support async\")"
   ]
  },
  {
   "cell_type": "code",
   "execution_count": 20,
   "id": "ba70633e",
   "metadata": {},
   "outputs": [],
   "source": [
    "# Define query tool for agent\n",
    "class DocumentQueryTool(BaseTool):\n",
    "    name = \"Document query tool\"\n",
    "    description = \"use this tool when you need to get documents for questions related to New Ocean and NOIS.\"\n",
    "    \n",
    "    def _run(self, query: str):\n",
    "        doc = retriever_public.get_relevant_documents(query)[:4]\n",
    "        try:\n",
    "            content = reduce(lambda x, y: x + y.page_content, doc, doc[0].page_content)\n",
    "            return content\n",
    "        except Exception:\n",
    "            return \"No documents found.\"\n",
    "    \n",
    "    def _arun(self, query: str):\n",
    "        raise NotImplementedError(\"This tool does not support async\")\n",
    "\n",
    "        \n",
    "prefix = \"\"\"You are an intelligent assistant helping New Ocean and NOIS employees with company related questions. You will be provided with keywords that you can use for querying documents.\n",
    "If you cannot answer using the queried documents, try using other provided tools. If you cannot get any results from tools, say you don't know. Do not use any other sources other than the ones you obtain from tools.\n",
    "Mention which tool you used to get the result. Answer in the question's language. You have access to the following tools:\"\"\"\n",
    "suffix = \"\"\"Begin!\n",
    "\n",
    "Keywords: {keywords}\n",
    "Question: {input}\n",
    "{agent_scratchpad}\"\"\"\n",
    "\n",
    "tools = [DocumentQueryTool(), PrivateDataTool(), DoNothing()]\n",
    "\n",
    "prompt = ZeroShotAgent.create_prompt(\n",
    "    tools,\n",
    "    prefix=prefix,\n",
    "    suffix=suffix,\n",
    "    input_variables=[\"keywords\", \"input\", \"agent_scratchpad\"],\n",
    ")\n",
    "\n",
    "llm_chain = LLMChain(llm=llm, prompt=prompt)\n",
    "\n",
    "agent = ZeroShotAgent(llm_chain=llm_chain, tools=tools, verbose=True, stop=[\"\\nObservation:\", \"<|im_end|>\"])\n",
    "agent_chain = AgentExecutor.from_agent_and_tools(\n",
    "    agent=agent, tools=tools, verbose=True, handle_parsing_errors=\"Check your output and make sure it conforms!\"\n",
    ")"
   ]
  },
  {
   "cell_type": "code",
   "execution_count": 21,
   "id": "dfcf5b8e",
   "metadata": {},
   "outputs": [
    {
     "name": "stdout",
     "output_type": "stream",
     "text": [
      "drink fee, phí đồ uống, paid\n",
      "\n",
      "\n",
      "\u001b[1m> Entering new  chain...\u001b[0m\n",
      "\u001b[32;1m\u001b[1;3mThought: This question is related to the May Drink Fee sheet in the excel file.\n",
      "Action: Excel sheet getter tool\n",
      "Action Input: May Drink Fee\u001b[0m\n",
      "Observation: \u001b[33;1m\u001b[1;3m    STT                       Email        FullName  May Total  Thực thu  \\\n",
      "0     1            hung.bui@nois.vn   BÙI TUẤN HƯNG      68000       NaN   \n",
      "1     2           hiep.dang@nois.vn   ĐẶNG DUY HIỆP      33542   33542.0   \n",
      "2     3            tai.dang@nois.vn    ĐẶNG HỮU TÀI      56100   56100.0   \n",
      "3     4            sang.dao@nois.vn   ĐÀO MINH SÁNG      24246       NaN   \n",
      "4     5              bao.do@nois.vn     ĐỖ QUỐC BẢO     106246       NaN   \n",
      "..  ...                         ...             ...        ...       ...   \n",
      "60   61           phuc.tran@nois.vn   TRẦN VĂN PHÚC      13750   13750.0   \n",
      "61   62  tai.vo@newoceaninfosys.com      VÕ TẤN TÀI      43696   43000.0   \n",
      "62   63             hien.vo@nois.vn   VÕ THANH HIỂN      68150       NaN   \n",
      "63   64              nam.vu@nois.vn    VŨ HOÀNG NAM      68650   68650.0   \n",
      "64   65          phuc.vuong@nois.vn  VƯƠNG HẢI PHÚC      34500       NaN   \n",
      "\n",
      "                     Note Tình trạng  \n",
      "0                     NaN        NaN  \n",
      "1                     NaN       Done  \n",
      "2                     NaN       Done  \n",
      "3      Chưa thu T4: 5,000        NaN  \n",
      "4                     NaN        NaN  \n",
      "..                    ...        ...  \n",
      "60                    NaN       Done  \n",
      "61                    NaN       Done  \n",
      "62     Chưa thu T4: 5,200        NaN  \n",
      "63                    NaN       Done  \n",
      "64  Chưa thu T3+4: 21,500        NaN  \n",
      "\n",
      "[65 rows x 7 columns]\u001b[0m\n",
      "Thought:\u001b[32;1m\u001b[1;3mCould not parse LLM output: `The table shows the people who haven't paid the drink fee yet have NaN values in the \"Thực thu\" column and their status is \"NaN\" in the \"Tình trạng\" column.\n",
      "Action: Check the \"Thực thu\" and \"Tình trạng\" columns in the May Drink Fee sheet`\u001b[0m\n",
      "Observation: Check your output and make sure it conforms!\n",
      "Thought:\u001b[32;1m\u001b[1;3mThe people who haven't paid the drink fee yet are those with NaN values in the \"Thực thu\" column and \"NaN\" in the \"Tình trạng\" column.\n",
      "Final Answer: The people who haven't paid the drink fee yet have NaN values in the \"Thực thu\" column and \"NaN\" in the \"Tình trạng\" column.\u001b[0m\n",
      "\n",
      "\u001b[1m> Finished chain.\u001b[0m\n"
     ]
    },
    {
     "data": {
      "text/plain": [
       "'The people who haven\\'t paid the drink fee yet have NaN values in the \"Thực thu\" column and \"NaN\" in the \"Tình trạng\" column.'"
      ]
     },
     "execution_count": 21,
     "metadata": {},
     "output_type": "execute_result"
    }
   ],
   "source": [
    "query = \"Who hasn't paid the drink fee?\"\n",
    "keywords = keywordChain({'question': query, 'context': get_history_as_txt()})['text']\n",
    "print(keywords)\n",
    "\n",
    "res = agent_chain.run(input=query, keywords=keywords)\n",
    "res"
   ]
  },
  {
   "cell_type": "code",
   "execution_count": null,
   "id": "e67fb534",
   "metadata": {},
   "outputs": [],
   "source": []
  },
  {
   "cell_type": "code",
   "execution_count": 1,
   "id": "6c1506fb",
   "metadata": {},
   "outputs": [
    {
     "ename": "NameError",
     "evalue": "name 'PrivateDataTool' is not defined",
     "output_type": "error",
     "traceback": [
      "\u001b[1;31m---------------------------------------------------------------------------\u001b[0m",
      "\u001b[1;31mNameError\u001b[0m                                 Traceback (most recent call last)",
      "Cell \u001b[1;32mIn[1], line 1\u001b[0m\n\u001b[1;32m----> 1\u001b[0m thingy \u001b[38;5;241m=\u001b[39m \u001b[43mPrivateDataTool\u001b[49m()\n\u001b[0;32m      2\u001b[0m \u001b[38;5;66;03m# llm.get_num_tokens(thingy._run('Organization Chart'))\u001b[39;00m\n\u001b[0;32m      3\u001b[0m thingy\u001b[38;5;241m.\u001b[39m_run(\u001b[38;5;124m'\u001b[39m\u001b[38;5;124mOrganization Chart\u001b[39m\u001b[38;5;124m'\u001b[39m)\n",
      "\u001b[1;31mNameError\u001b[0m: name 'PrivateDataTool' is not defined"
     ]
    }
   ],
   "source": [
    "thingy = PrivateDataTool()\n",
    "# llm.get_num_tokens(thingy._run('Organization Chart'))\n",
    "thingy._run('Organization Chart')"
   ]
  },
  {
   "cell_type": "code",
   "execution_count": null,
   "id": "47ec9f22",
   "metadata": {},
   "outputs": [],
   "source": [
    "summary_template = \"\"\"<|im_start|>system\n",
    "Assistant helps user summarize documents in one sentence. Output format will be:\n",
    "1. Summary of document 1\n",
    "2. Summary of document 2\n",
    "etc\n",
    "<|im_end|>\n",
    "\n",
    "<|im_start|>user\n",
    "{docs}\n",
    "<|im_end|>\n",
    "<|im_start|>assistant\n",
    "\"\"\"\n",
    "\n",
    "summaryChain = LLMChain(llm=llm, prompt=PromptTemplate.from_template(summary_template))"
   ]
  },
  {
   "cell_type": "code",
   "execution_count": 2,
   "id": "871a6fa2",
   "metadata": {},
   "outputs": [
    {
     "ename": "NameError",
     "evalue": "name 'retriever_private' is not defined",
     "output_type": "error",
     "traceback": [
      "\u001b[1;31m---------------------------------------------------------------------------\u001b[0m",
      "\u001b[1;31mNameError\u001b[0m                                 Traceback (most recent call last)",
      "Cell \u001b[1;32mIn[2], line 2\u001b[0m\n\u001b[0;32m      1\u001b[0m docuQuery \u001b[38;5;241m=\u001b[39m \u001b[38;5;124m\"\u001b[39m\u001b[38;5;124mNghỉ phép\u001b[39m\u001b[38;5;124m\"\u001b[39m\n\u001b[1;32m----> 2\u001b[0m doc \u001b[38;5;241m=\u001b[39m \u001b[43mretriever_private\u001b[49m\u001b[38;5;241m.\u001b[39mget_relevant_documents(docuQuery)[:\u001b[38;5;241m3\u001b[39m]\n\u001b[0;32m      4\u001b[0m string \u001b[38;5;241m=\u001b[39m \u001b[38;5;124m\"\u001b[39m\u001b[38;5;124m\"\u001b[39m\n\u001b[0;32m      5\u001b[0m \u001b[38;5;28;01mfor\u001b[39;00m i \u001b[38;5;129;01min\u001b[39;00m doc:\n",
      "\u001b[1;31mNameError\u001b[0m: name 'retriever_private' is not defined"
     ]
    }
   ],
   "source": [
    "docuQuery = \"Nghỉ phép\"\n",
    "doc = retriever_private.get_relevant_documents(docuQuery)[:3]\n",
    "\n",
    "string = \"\"\n",
    "for i in doc:\n",
    "    string += i.page_content\n",
    "    \n",
    "res = summaryChain(string)\n",
    "res['text']"
   ]
  },
  {
   "cell_type": "code",
   "execution_count": 3,
   "id": "5f2a473c",
   "metadata": {},
   "outputs": [
    {
     "ename": "NameError",
     "evalue": "name 'llm' is not defined",
     "output_type": "error",
     "traceback": [
      "\u001b[1;31m---------------------------------------------------------------------------\u001b[0m",
      "\u001b[1;31mNameError\u001b[0m                                 Traceback (most recent call last)",
      "Cell \u001b[1;32mIn[3], line 1\u001b[0m\n\u001b[1;32m----> 1\u001b[0m \u001b[43mllm\u001b[49m\u001b[38;5;241m.\u001b[39mget_num_tokens(string)\n",
      "\u001b[1;31mNameError\u001b[0m: name 'llm' is not defined"
     ]
    }
   ],
   "source": [
    "llm.get_num_tokens(string)"
   ]
  },
  {
   "cell_type": "code",
   "execution_count": 49,
   "id": "a67f7a72",
   "metadata": {},
   "outputs": [
    {
     "data": {
      "text/plain": [
       "[Document(page_content='\\nĐiều 7. Nghỉ phép năm \\n\\n1. Người lao động có đủ 12 tháng làm việc tại công ty thì được nghỉ 12 ngày phép năm hưởng \\n\\nnguyên lương. \\n\\n2. Đối với trường hợp làm không đủ năm (làm việc dưới 12 tháng): \\n\\nLấy số ngày nghỉ hàng năm cộng với số ngày được nghỉ tăng thêm theo thâm niên (nếu có), chia \\n\\ncho 12 tháng, nhân với số tháng làm việc thực tế trong năm để tính thành số ngày được nghỉ hàng \\n\\nnăm. \\n\\nKết quả phép tính lấy tròn số hàng đơn vị, nếu phần thập phân lớn hơn hoặc bằng 0,5 thì làm tròn \\n\\nlên 01 đơn vị. \\n\\n3. Cứ 05 năm làm việc tại công ty thì số ngày nghỉ hàng năm được tăng thêm 01 ngày. \\n\\n4. Lịch nghỉ phép hàng năm: \\n\\n- Mỗi tháng người lao động được nghỉ 01 ngày, nếu không nghỉ thì ngày phép đó sẽ cộng dồn vào \\n\\nnhững tháng sau. Nhân viên cũng có thể sử dụng một lần phép năm nếu không ảnh hưởng đến \\n\\ncông việc \\n\\n- Khi người lao động muốn nghỉ phép phải làm đơn xin phép và được sự đồng ý của người quản \\n\\nlý trực tiếp hoặc Giám đốc. Nếu có bất kỳ thay đổi nào ảnh hưởng đến lịch nghỉ phép, người lao \\n\\nđộng phải thông báo ngay cho người quản lý trực tiếp hoặc Giám đốc. Bất kỳ sự thay đổi nào về \\n\\nsố ngày phép đã được chấp thuận trước đó sẽ phải tuân thủ theo trình tự nộp đơn xin nghỉ \\n\\nphép/duyệt phép giống như lần xin phép ban đầu. \\n\\n- Trong các trường hợp nghỉ từ 03 ngày trở lên thì phải làm đơn xin phép trước 01 tháng. \\n\\n- Trường hợp khẩn cấp, xin nghỉ trong ngày, người lao động có thể thông báo bằng điện thoại cho \\n\\ncấp trên của mình trước 8 giờ sáng hôm đó. \\n\\n5. Khi nghỉ hàng năm, nếu người lao động đi bằng đường bộ, đường sắt, đường thủy mà số ngày \\n\\nđi đường cả đi và về trên 02 ngày thì từ ngày thứ 03 trở đi được tính thêm thời gian đi đường ngoài \\n\\nngày nghỉ hàng năm và chỉ được tính cho 01 lần nghỉ trong năm. \\n\\n6. Cách giải quyết số ngày phép chưa nghỉ hết trong năm: \\n\\n- Trường hợp chưa sử dụng hết thì những ngày nghỉ này sẽ được chuyển sang cho năm kế tiếp. \\n\\nTuy nhiên người lao động phải nghỉ hết ngày phép năm cũ của mình trước Quý I của năm sau, tức \\n\\nlà trước ngày 30 tháng 3 năm sau. \\n\\n- Người lao động do thôi việc, bị mất việc làm hoặc vì các lý do khác mà chưa nghỉ hàng năm hoặc \\n\\nchưa nghỉ hết số ngày nghỉ hàng năm thì được thanh toán bằng tiền những ngày chưa nghỉ. \\n\\n7. Người lao động không xin nghỉ phép hoặc xin nghỉ nhưng không làm đơn trước ngày 25 của \\n\\ntháng đó thì bị tính là nghỉ không lương. \\n\\n8. Dữ liệu từ thẻ ra vào công ty sẽ sử dụng để chấm công hàng tháng. Nếu ngày nào không có dữ \\n\\nliệu thì sẽ tính là nghỉ không lương hoặc nghỉ phép (Nếu có). \\n\\n\\n', metadata={'@search.score': 3.9961486, 'metadata_storage_path': 'aHR0cHM6Ly9hY3NjaGF0Ym90bm9pc2ludGVybi5ibG9iLmNvcmUud2luZG93cy5uZXQvcHJpdmF0ZS1kYXRhL05PSVMtcG9saWN5LXBhZ2UtMy5wZGY1'}),\n",
       " Document(page_content='\\n2. Trong quá trình hoạt động sản xuất kinh doanh, nếu cần người lao động làm thêm giờ, Công ty \\n\\nsẽ thông báo và thỏa thuận với người lao động về việc làm thêm giờ, làm thêm vào ngày nghỉ, \\n\\nngày lễ tết. Đảm bảo: \\n\\n+ Được sự đồng ý của người lao động; \\n\\n+ Không quá 50% số giờ làm việc bình thường trong 01 ngày; trường hợp áp dụng quy định thời \\n\\ngiờ làm việc bình thường theo tuần thì tổng số giờ làm việc bình thường và số giờ làm thêm không \\n\\nquá 12 giờ trong 01 ngày; không quá 40 giờ trong 01 tháng; \\n\\n3. Tiền lương làm thêm giờ, làm việc trong ngày nghỉ, ngày lễ có hưởng lương: \\n\\n- Trong ngày làm việc bình thường (Từ thứ 2 đến thứ 6): Người lao động được thanh toán 150% \\n\\ntiền lương thực trả của công việc đang làm. \\n\\n- Trong ngày nghỉ hàng tuần: Người lao động được thanh toán 200% tiền lương thực trả của công \\n\\nviệc đang làm. \\n\\n- Trong ngày nghỉ lễ: Người lao động được thanh toán 300% tiền lương thực trả của công việc \\n\\nđang làm. \\n\\n- Trong trường hợp làm ca đêm: Người lao động được thanh toán tiền lương làm việc vào ban \\n\\nđêm như sau: (tiền lương giờ thực trả ngày làm việc bình thường x Mức 150, %200% hoặc 300 \\n\\n% + tiền lương giờ thực trả của ngày làm việc x mức tối thiểu 30% + 20% x Tiền lương giờ vào \\n\\nban ngày của ngày làm việc bình thường hoặc ngày nghỉ lễ, có thưởng) X số giờ làm thêm ban \\n\\nđêm \\n\\n4. Người sử dụng lao động có quyền yêu cầu người lao động làm thêm giờ vào bất kỳ ngày nào và \\n\\nngười lao động không được từ chối trong các trường hợp sau đây: \\n\\n- Thực hiện lệnh động viên, huy động bảo đảm nhiệm vụ quốc phòng, an ninh trong tình trạng \\n\\nkhẩn cấp về quốc phòng, an ninh theo quy định của pháp luật; \\n\\n- Thực hiện các công việc nhằm bảo vệ tính mạng con người, tài sản của cơ quan, tổ chức, cá nhân \\n\\ntrong phòng ngừa và khắc phục hậu quả thiên tai, hỏa hoạn, dịch bệnh và thảm họa. \\n\\nĐiều 13: Chấm công và trả lương \\n\\n- Công ty chốt ngày nghỉ, nghỉ phép và tăng ca vào ngày 25 hàng tháng nhưng lương sẽ được trả \\n\\nđầy đủ các công trong tháng. Phần còn lại của ngày nghỉ, nghỉ phép và tăng ca sau ngày 25 sẽ được \\n\\ntính vào tháng sau. \\n\\n- Công ty thanh toán tiền lương vào ngày 30 hàng tháng. Nếu trúng thứ 7, Chủ nhật sẽ được thanh \\n\\ntoán vào ngày thứ 6. \\n\\n- Người lao động không được tiết lộ và trao đổi thông tin mức lương với nhau hoặc bên thứ 3 \\n\\nbằng bất kỳ hình thức nào. Nếu vi phạm, tùy theo từng trường hợp sẽ áp dụng theo Điều 30 của \\n\\nnội quy này. \\n\\n \\n\\n\\n', metadata={'@search.score': 1.7407413, 'metadata_storage_path': 'aHR0cHM6Ly9hY3NjaGF0Ym90bm9pc2ludGVybi5ibG9iLmNvcmUud2luZG93cy5uZXQvcHJpdmF0ZS1kYXRhL05PSVMtcG9saWN5LXBhZ2UtNi5wZGY1'}),\n",
       " Document(page_content='\\n- Nhân viên khi xin phép WFH phải có lý do chính đáng và cần thiết.  \\n\\n- Việc WFH ngoài quy định không được phê duyệt sẽ được tính là nghỉ không lương. \\n\\nĐiều 18. Trang phục nơi công sở \\n\\n- Mặc trang phụ công sở thông thường hoặc đồng phục của công ty. \\n\\n- Luôn đeo thẻ ra vào công ty. \\n\\n- Luôn đảm bảo sạch sẽ, gọn gàng, lịch sự. \\n\\nĐiều 19. Các hành vi bị nghiêm cấm \\n\\nTrong suốt thời gian làm việc và trong phạm vi nơi làm việc, người lao động không được thực hiện \\n\\ncác hành vi sau: \\n\\n- Hút thuốc trong khu vực quy định không được hút thuốc; \\n\\n- Uống rượu bia trong giờ làm việc; \\n\\n- Không ăn uống trong giờ làm việc (8:30 – 12:00 và 13:00 – 17:30) tại bàn làm việc. Sử dụng ban \\n\\ncông để ăn uống. Tránh gây ra tiếng ồn khi ăn. \\n\\n- Bàn tán, cáo buộc sai, cản trở sản xuất hoặc ngăn cản người lao động khác thực hiện công việc; \\n\\n- Có hành vi trái đạo đức hoặc không đứng đắn tại nơi làm việc; \\n\\n- Cố ý cưỡng ép, lăng nhục, đe doạ hoặc doạ dẫm người lao động khác; \\n\\n- Lăng nhục, đe doạ hoặc doạ dẫm đối tác, khách hàng của công ty; \\n\\n- Cố ý gây thương tích cho người lao động khác hoặc đối tác, khách hàng của công ty; \\n\\n- Sử dụng ma túy trong công ty; \\n\\n- Tổ chức đánh bạc trong công ty; \\n\\n- Tàng trữ vũ khí, chất nổ hoặc những vật dụng nguy hiểm hoặc bị cấm khác trong trụ sở công ty; \\n\\n- Cố ý gây thiệt hoặc trộm cắp tài sản của công ty hoặc tài sản của người lao động khác; \\n\\n- Quấy rối tình dục hoặc bất cứ hành vi quấy rối nào khác hoặc phân biệt đối xử đối với đồng \\n\\nnghiệp. \\n\\nCHƯƠNG IV \\n\\nAN TOÀN, VỆ SINH LAO ĐỘNG \\n\\nĐiều 20. Trách nhiệm của người sử dụng lao động \\n\\n- Phải bảo đảm vệ sinh trong môi trường làm việc, có không gian, hệ thống thông gió và ánh sáng \\n\\nthích hợp và tuân thủ tiêu chuẩn bảo đảm sức khoẻ cho người lao động; \\n\\n- Trang bị tại nơi làm việc những thiết bị y tế và sơ cứu thích hợp; cung cấp đầy đủ thiết bị bảo hộ \\n\\nlao động khi bắt đầu làm việc hoặc suốt thời gian làm việc; \\n\\n- Chịu trách nhiệm tổ chức khám sức khỏe định kỳ hàng năm cho người lao động; \\n\\n- Trang bị bảng chỉ dẫn về an toàn lao động, vệ sinh lao động đối với máy, thiết bị, nơi làm việc \\n\\nvà đặt ở vị trí dễ đọc, dễ thấy tại nơi làm việc; \\n\\n- Lấy ý kiến tổ chức đại diện tập thể lao động tại cơ sở khi xây dựng kế hoạch và thực hiện các \\n\\n\\n', metadata={'@search.score': 1.1836367, 'metadata_storage_path': 'aHR0cHM6Ly9hY3NjaGF0Ym90bm9pc2ludGVybi5ibG9iLmNvcmUud2luZG93cy5uZXQvcHJpdmF0ZS1kYXRhL05PSVMtcG9saWN5LXBhZ2UtOC5wZGY1'})]"
      ]
     },
     "execution_count": 49,
     "metadata": {},
     "output_type": "execute_result"
    }
   ],
   "source": [
    "doc"
   ]
  },
  {
   "cell_type": "code",
   "execution_count": null,
   "id": "516586f9",
   "metadata": {},
   "outputs": [],
   "source": []
  }
 ],
 "metadata": {
  "kernelspec": {
   "display_name": "Python 3 (ipykernel)",
   "language": "python",
   "name": "python3"
  },
  "language_info": {
   "codemirror_mode": {
    "name": "ipython",
    "version": 3
   },
   "file_extension": ".py",
   "mimetype": "text/x-python",
   "name": "python",
   "nbconvert_exporter": "python",
   "pygments_lexer": "ipython3",
   "version": "3.10.6"
  }
 },
 "nbformat": 4,
 "nbformat_minor": 5
}
