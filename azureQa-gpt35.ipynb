{
 "cells": [
  {
   "cell_type": "code",
   "execution_count": 1,
   "id": "ad66c9aa",
   "metadata": {},
   "outputs": [
    {
     "name": "stdout",
     "output_type": "stream",
     "text": [
      "service_name='search-service01' index_name='public-data-index-alt' api_key='73Swa5YqUR5IRMwUIqOH6ww2YBm3SveLv7rDmZVXtIAzSeBjEQe9' api_version='2020-06-30' aiosession=None content_key='content'\n"
     ]
    }
   ],
   "source": [
    "from langchain.output_parsers import CommaSeparatedListOutputParser\n",
    "from langchain.prompts import PromptTemplate\n",
    "from langchain.retrievers import AzureCognitiveSearchRetriever\n",
    "from langchain.chat_models import AzureChatOpenAI\n",
    "from langchain.schema import HumanMessage\n",
    "from langchain.llms import AzureOpenAI\n",
    "from langchain.chat_models import AzureChatOpenAI\n",
    "from langchain.schema import HumanMessage, AIMessage, SystemMessage\n",
    "from langchain.chains import LLMChain\n",
    "from langchain.tools import BaseTool\n",
    "from langchain.agents import ZeroShotAgent, AgentExecutor\n",
    "from langchain.memory import ConversationBufferMemory\n",
    "from langchain.memory.buffer_window import ConversationBufferWindowMemory\n",
    "from langchain.chains.qa_with_sources import load_qa_with_sources_chain\n",
    "from functools import reduce\n",
    "import os\n",
    "\n",
    "os.environ['OPENAI_API_TYPE'] = 'azure'\n",
    "os.environ['OPENAI_API_VERSION'] = '2023-03-15-preview'\n",
    "os.environ['OPENAI_API_BASE'] = 'https://openai-nois-intern.openai.azure.com/'\n",
    "os.environ['OPENAI_API_KEY'] = os.getenv('OPENAI_API_KEY')\n",
    "\n",
    "os.environ[\"AZURE_COGNITIVE_SEARCH_SERVICE_NAME\"] = \"search-service01\"\n",
    "os.environ[\"AZURE_COGNITIVE_SEARCH_INDEX_NAME\"] = \"public-data-index-alt\"\n",
    "os.environ[\"AZURE_COGNITIVE_SEARCH_API_KEY\"] = \"73Swa5YqUR5IRMwUIqOH6ww2YBm3SveLv7rDmZVXtIAzSeBjEQe9\"\n",
    "\n",
    "retriever_public = AzureCognitiveSearchRetriever(content_key='content')\n",
    "print(retriever_public)\n",
    "\n",
    "# os.environ[\"AZURE_COGNITIVE_SEARCH_INDEX_NAME\"] = \"public-index-ver2\"\n",
    "# retriever_private = AzureCognitiveSearchRetriever(content_key='content')\n",
    "# print(retriever_private)"
   ]
  },
  {
   "cell_type": "code",
   "execution_count": 2,
   "id": "66826924",
   "metadata": {},
   "outputs": [],
   "source": [
    "# Load up your LLM\n",
    "llm = AzureChatOpenAI(\n",
    "    openai_api_base='https://openai-nois-intern.openai.azure.com/',\n",
    "    openai_api_version=\"2023-03-15-preview\",\n",
    "    deployment_name='test-1',\n",
    "    openai_api_key=os.getenv('OPENAI_API_KEY'),\n",
    "    openai_api_type=\"azure\"\n",
    ")\n",
    "\n",
    "output_parser = CommaSeparatedListOutputParser()\n",
    "history = []\n",
    "\n",
    "def get_history_as_txt():\n",
    "    txt = \"\"\n",
    "    for i in history:\n",
    "        txt += f\"\\n<|im_start|>user\\n{i['user']}\\n<|im_end|>\\n\"\n",
    "        txt += f\"<|im_start|>assistant\\n{i['AI']}\\n<|im_end|>\"\n",
    "        \n",
    "    return txt\n",
    "\n",
    "def add_to_history(user_msg, ai_msg):\n",
    "    history.append({'user': user_msg, 'AI': ai_msg})"
   ]
  },
  {
   "cell_type": "code",
   "execution_count": 3,
   "id": "47aadd54",
   "metadata": {},
   "outputs": [
    {
     "name": "stdout",
     "output_type": "stream",
     "text": [
      "verbose=False callbacks=None callback_manager=None client=<class 'openai.api_resources.chat_completion.ChatCompletion'> model_name='gpt-3.5-turbo' temperature=0.7 model_kwargs={} openai_api_key='400568d9a16740b88aff437480544a39' openai_api_base='https://openai-nois-intern.openai.azure.com/' openai_organization='' openai_proxy='' request_timeout=None max_retries=6 streaming=False n=1 max_tokens=None deployment_name='test-1' openai_api_type='azure' openai_api_version='2023-03-15-preview'\n"
     ]
    }
   ],
   "source": [
    "print(llm)"
   ]
  },
  {
   "cell_type": "code",
   "execution_count": 4,
   "id": "4f2591df",
   "metadata": {},
   "outputs": [],
   "source": [
    "keyword_templ = \"\"\"<|im_start|>system\n",
    "Given a sentence and a conversation about the companies New Ocean and NOIS, assistant will extract keywords based on the conversation and the sentence and translate them to Vietnamese if they're in English and vice versa.\n",
    "Your output will be on one line, in both languages if possible and separated by commas. Assume the context surrounds the mentioned companies.\n",
    "If given a sentence that is different in context compared to the conversation, do not return anything. Do not duplicate keywords.\n",
    "\n",
    "EXAMPLE\n",
    "Input: Ai chưa đóng tiền nước?\n",
    "Output: tiền nước, water bill\n",
    "Input: Was Pepsico a customer of New Ocean?\n",
    "Output: Pepsico\n",
    "Input: What is FASF?\n",
    "Output: FASF\n",
    "<|im_end|>\n",
    "{context}\n",
    "<|im_start|>user\n",
    "Input: {question}\n",
    "<|im_end|>\n",
    "<|im_start|>assistant\n",
    "Output:\"\"\"\n",
    "\n",
    "query_prompt_template = \"\"\"Below is a history of the conversation so far, and a new question asked by the user that needs to be answered by querying relevant company documents.\n",
    "Generate a search query based on the conversation and the new question. \n",
    "\n",
    "Chat History:{chat_history}\n",
    "\n",
    "Question:\n",
    "{question}\n",
    "\n",
    "Search query:\n",
    "\"\"\"\n",
    "\n",
    "template = \"\"\"<|im_start|>system\n",
    "Assistant helps the company employees and users with their questions about the companies New Ocean and NOIS. Be brief in your answers.\n",
    "Answer ONLY with the facts listed in the list of sources below. If there isn't enough information below, say you don't know. Do not generate answers that don't use the sources below. If asking a clarifying question to the user would help, ask the question.\n",
    "If the user asks any questions not related to New Ocean or NOIS, apologize and request another question from the user. If the user greets you, respond accordingly.\n",
    "Sources:\n",
    "{summaries}\n",
    "<|im_end|>\n",
    "\n",
    "{context}\n",
    "<|im_start|>user\n",
    "{question}\n",
    "<|im_end|>\n",
    "<|im_start|>assistant\n",
    "\"\"\"\n",
    "\n",
    "templ = PromptTemplate(\n",
    "    input_variables = ['summaries', 'question', 'context'],\n",
    "    template = template\n",
    ")"
   ]
  },
  {
   "cell_type": "code",
   "execution_count": 5,
   "id": "689a9c75",
   "metadata": {},
   "outputs": [],
   "source": [
    "qaChain = load_qa_with_sources_chain(llm=llm, chain_type=\"stuff\", prompt=templ)\n",
    "keywordChain = LLMChain(llm=llm, prompt=PromptTemplate.from_template(keyword_templ))"
   ]
  },
  {
   "cell_type": "code",
   "execution_count": 6,
   "id": "acf09469",
   "metadata": {},
   "outputs": [],
   "source": [
    "def get_docs_using_keyword_string(keywords, ret):\n",
    "    return ret.get_relevant_documents(keywords)[:5]"
   ]
  },
  {
   "cell_type": "code",
   "execution_count": 10,
   "id": "1e9b9871",
   "metadata": {},
   "outputs": [],
   "source": [
    "query = \"What are NOIS's future goals?\"\n",
    "keywords = keywordChain({'context': get_history_as_txt(), 'question': query})\n",
    "\n",
    "doc = get_docs_using_keyword_string(keywords['text'], retriever_public)\n",
    "\n",
    "num = 1\n",
    "for x in doc:\n",
    "    x.metadata['source'] = f\"doc-{num}\"\n",
    "\n",
    "    num += 1\n",
    "\n",
    "result = qaChain({'input_documents': doc, 'question': query, 'context': get_history_as_txt()}, return_only_outputs=False)\n",
    "    \n",
    "add_to_history(query, result['output_text'])"
   ]
  },
  {
   "cell_type": "code",
   "execution_count": 11,
   "id": "30cf7d06",
   "metadata": {},
   "outputs": [
    {
     "name": "stdout",
     "output_type": "stream",
     "text": [
      "NOIS's future goals, mục tiêu tương lai của NOIS\n"
     ]
    }
   ],
   "source": [
    "print(keywords['text'])"
   ]
  },
  {
   "cell_type": "code",
   "execution_count": 12,
   "id": "f070c1b5",
   "metadata": {},
   "outputs": [
    {
     "data": {
      "text/plain": [
       "\"According to source doc-2, NOIS's future goals include expanding beyond the company's profit targets, providing high-quality goods and services at affordable costs through intelligent production, and optimizing interactions between humans and machines in order to increase productivity and efficiency.\""
      ]
     },
     "execution_count": 12,
     "metadata": {},
     "output_type": "execute_result"
    }
   ],
   "source": [
    "result['output_text']"
   ]
  },
  {
   "cell_type": "code",
   "execution_count": 13,
   "id": "84a32655",
   "metadata": {
    "scrolled": true
   },
   "outputs": [
    {
     "name": "stdout",
     "output_type": "stream",
     "text": [
      "[Document(page_content='� liệu được sử dụng bởi toàn thể các thành viên trong công ty, nó cho phép nhân viên từ tất cả phòng ban khác nhau sử dụng nguồn cơ sở dữ liệu để phân tích từ đó đưa ra những nhận định, dự đoán xu hướng hoạt động tương lai và lập kế hoạch theo đuổi các mục tiêu kinh doanh.\\r\\nVAI TRÒ VÀ TẦM QUAN TRỌNG CỦA PHÂN TÍCH DỮ LIỆU TRONG THỜI KÌ CÔNG NGHIỆP 4.0\\r\\nKhái niệm dữ liệu lớn\\n', metadata={'@search.score': 15.28319, 'metadata_storage_path': 'aHR0cHM6Ly9hY3NjaGF0Ym90bm9pc2ludGVybi5ibG9iLmNvcmUud2luZG93cy5uZXQvcHVibGljLWRhdGEtYWx0LzYwNi0zLnR4dA2', 'source': 'doc-1'}), Document(page_content='��t và chất lượng dự kiến sẽ vươn xa hơn mục tiêu là đáp ứng lợi nhuận của công ty. Trong tương lai sản xuất thông minh sẽ làm phong phú hơn cuộc sống của người tiêu dùng bằng cách cung cấp những hàng hóa, dịch vụ chất lượng cao với chi phí phải chăng.\\r\\nXem thêm: tiềm năng của Deep Learning trong tương lai\\r\\nThông tin công nghệ\\r\\nLỢI ÍCH VÀ NHỮNG LƯU Ý KHI ĐẦU TƯ TỰ ĐỘNG HÓA NHÀ MÁY\\r\\nXU HƯỚ\\n', metadata={'@search.score': 15.057133, 'metadata_storage_path': 'aHR0cHM6Ly9hY3NjaGF0Ym90bm9pc2ludGVybi5ibG9iLmNvcmUud2luZG93cy5uZXQvcHVibGljLWRhdGEtYWx0LzM2LTE3LnR4dA2', 'source': 'doc-2'}), Document(page_content=' 5.0 sẽ là sự phát triển trong tư duy nền sản xuất, khi mà mỗi nhà máy không chỉ tối ưu năng suất mà còn tạo ra hiệu quả cao. Do đó để đạt được mục tiêu như vậy, đòi hỏi sự tinh chỉnh các tương tác giữa con người và máy móc.\\r\\nCác công nhân ở trong tương lai là những người mang lại giá trị tăng cao trong sản phẩm. Do đó đòi hỏi họ phải có kiến thức chuyên môn, năng lực\\n', metadata={'@search.score': 12.630342, 'metadata_storage_path': 'aHR0cHM6Ly9hY3NjaGF0Ym90bm9pc2ludGVybi5ibG9iLmNvcmUud2luZG93cy5uZXQvcHVibGljLWRhdGEtYWx0LzEtOS50eHQ1', 'source': 'doc-3'}), Document(page_content='ính định hướng, ứng dụng tương lai rất cao. Chắc chắn bạn sẽ hài lòng khi lựa chọn trải nghiệm các giải pháp hỗ trợ doanh nghiệp đến từ NOIS.\\r\\n\\n', metadata={'@search.score': 12.204979, 'metadata_storage_path': 'aHR0cHM6Ly9hY3NjaGF0Ym90bm9pc2ludGVybi5ibG9iLmNvcmUud2luZG93cy5uZXQvcHVibGljLWRhdGEtYWx0LzUyMS0xMC50eHQ1', 'source': 'doc-4'}), Document(page_content='ng độc nhất (USPs) để tăng khả năng cạnh tranh trong tương lai.\\r\\nCông nghệ\\r\\n+ Sự phát triển của Công nghệ đám mây (The Cloud). Cung cấp chi tiết các hiểu biết kinh doanh và khoa học trong các hoạt động R&D, sản xuất và thương mại. Các dữ liệu được hợp nhất và tiêu chuẩn hóa sẽ làm giảm sự phức tạp và kém hiệu quả. Đồng thời tăng vận tốc vận hành của hoạt động R&D giú\\n', metadata={'@search.score': 11.293077, 'metadata_storage_path': 'aHR0cHM6Ly9hY3NjaGF0Ym90bm9pc2ludGVybi5ibG9iLmNvcmUud2luZG93cy5uZXQvcHVibGljLWRhdGEtYWx0LzE1Ny02LnR4dA2', 'source': 'doc-5'})]\n"
     ]
    }
   ],
   "source": [
    "print(doc)"
   ]
  },
  {
   "cell_type": "code",
   "execution_count": 45,
   "id": "958aa615",
   "metadata": {},
   "outputs": [
    {
     "data": {
      "text/plain": [
       "'\\n<|im_start|>user\\nNOIS là gì?\\n<|im_end|>\\n<|im_start|>assistant\\nNOIS là viết tắt của New Ocean Information System, một đơn vị cung cấp giải pháp để hỗ trợ quản lý kinh doanh tối ưu. NOIS đã xác định vị trí của mình trong việc cung cấp các gói giải pháp để hỗ trợ quản lý kinh doanh tối ưu cho hơn 70 đối tác, bao gồm các thương hiệu nổi tiếng như Vinamilk, Dutch Lady, Amway, Nestle, P&G, HTL và nhiều hơn nữa. NOIS cũng nổi tiếng với việc luôn nắm bắt nhanh chóng các xu hướng công nghệ mới để đưa sự phát triển của công nghệ và chuyển đổi số vào các lĩnh vực sản xuất một cách thông minh, đúng nơi, đúng việc.\\n<|im_end|>\\n<|im_start|>user\\nCông ty có tuyển vị trí data analysts không?\\n<|im_end|>\\n<|im_start|>assistant\\nThe sources do not provide information on whether or not New Ocean or NOIS is currently hiring for data analyst positions. However, it is mentioned that data analysts are part of the data team at NOIS.\\n<|im_end|>\\n<|im_start|>user\\nWho are the technical managers?\\n<|im_end|>\\n<|im_start|>assistant\\nThe sources do not provide specific information about the technical managers at New Ocean or NOIS. Would you like me to provide any other information about the company or its solutions?\\n<|im_end|>'"
      ]
     },
     "execution_count": 45,
     "metadata": {},
     "output_type": "execute_result"
    }
   ],
   "source": [
    "get_history_as_txt()"
   ]
  },
  {
   "cell_type": "code",
   "execution_count": 31,
   "id": "1f8313d9",
   "metadata": {},
   "outputs": [],
   "source": [
    "history = []"
   ]
  },
  {
   "cell_type": "code",
   "execution_count": 24,
   "id": "37cc97fe",
   "metadata": {},
   "outputs": [
    {
     "name": "stdout",
     "output_type": "stream",
     "text": [
      "<|im_start|>system\n",
      "Assistant helps the company employees and users with their questions about the companies New Ocean and NOIS. Be brief in your answers.\n",
      "Answer ONLY with the facts listed in the list of sources below. If there isn't enough information below, say you don't know. Do not generate answers that don't use the sources below. If asking a clarifying question to the user would help, ask the question.\n",
      "If the user asks any questions not related to New Ocean or NOIS, apologize and request another question from the user. If the user greets you, respond accordingly.\n",
      "Sources:\n",
      "Data Analytics, Data Engineering  & Machine Learning Portfolio\n",
      "HomeData Analytics, Data Engineering  & Machine Learning Portfolio\n",
      "// our portfolio\n",
      "Data Analytics, Data Engineering  & Machine Learning\n",
      "\n",
      "Data Analytics, Data Engineering  & Machine Learning Portfolio\n",
      "HomeData Analytics, Data Engineering  & Machine Learning Portfolio\n",
      "// our portfolio\n",
      "Data Analytics, Data Engineering  & Machine Learning\n",
      "\n",
      "APPLICATION OF DEEP LEARNING IN PRODUCTION PRACTICE\n",
      "The term Deep Learning becomes very familiar to Machine Learning enthusiasts. Many companies have gained a great reputation in the field of science thanks to the successful application of Deep Learning. So, how does it apply to production? Let's explore with New Ocean!\n",
      "Applications of deep learning\n",
      "1. Deep Learning Concepts\n",
      "We often come across novel terms such as Computer Vision, Machine Learning, Deep Learning, in which Deep Learning is a deep learning neural network, a subset of Machine Learning that has networks capable of learning unsupervised from unstructured or unbroken data.\n",
      "2. Applying Deep Learning to Production\n",
      "Digital and the application of techniques have been applied in the manufacturing field for a long time. Information storage and measurement became digitized, and computers joined in the process. The explosion of data makes traditional models inadequate and this is where Deep Learning comes into play.\n",
      "Applying Deep Learning to Production\n",
      "Quality control\n",
      "In a large assembly line, Deep Learning may be involved in quality control tasks. According to Forbes, it has been proven that workflows, analytics based on Deep Learning predict a 35% increase in quality optimization and automation is expected to increase 34%.\n",
      "With machines operating in the traditional way, they are only capable of detecting quality problems against the length or weight data of the product. In contrast to computer vision systems, it is possible to detect quality problems and then provide appropriate solutions to overcome them.\n",
      "Deep Learning allows for more extensibility than legacy solutions and trained and reused when the manufacturing plant needs them. To fully apply deep learning, businesses need\n",
      "�t ngữ mới lạ như là thị giác máy tính (Computer Vision), học máy (Machine Learning), học sâu (Deep Learning),..Trong đó Deep Learning là mạng lưới nơron học sâu, là tập con của Machine Learning có các mạng có khả năng học không bị giám sát từ các dữ liệu không có cấu trúc hoặc không bị gián đoạn.\n",
      "2. Ứng dụng Deep Learning vào sản xuất\n",
      "Kỹ thuật số và ứng dụng các kỹ thuật đã được ứng dụng vào trong lĩnh vực sản xuất từ rất lâu.\n",
      "Data Analytics, Machine Learning, & AI\n",
      "HomeData Analytics, Machine Learning, & AI\n",
      "Data Analytics, Machine Learning & AI\n",
      " 5/5\n",
      "We specialize in Data Engineering, Business Intelligence, Data Analysis, Visualization, and Machine Learning. We have successfully delivered multiple types of BI projects for different industries such as: Accounting, Human Resources, Real Estate, Logistics, Insurance, Manufacturing, etc. The data engineering process has been using different types of technologies which is relevant to customers’ data context and preferences. Our team provide data lake and data warehouse solutions.  Our methodology requires a survey on customer’s existing data sources, their expected outcomes, and target users.Our Data Scientists work with customers’ historical data to provide different insights with appropriate machine learning models and algorithms. The outcomes is then integrated to their existing application platform and presented in visualized reports.\n",
      "Data Analytics, Machine Learning & AI. Source: nois.vn\n",
      "Data Engineering\n",
      "Power Bi. Souce: nois.vn\n",
      "Companies have enough capable BI resources but their challenges are to reconcile the data from different sources such as: CRM, ERP, HRM, MES, etc. into a consistent, well-structured data model. We provide the Data Warehouse solution to solve this challenges, empower customers to leverage their existing staffs with rich domain knowledge to implement their own visualization reports, analytics on top of this platform.\n",
      "🎀 Using Azure Data Factory as ETL (Extract-Transform-Load) and ELT (\n",
      "\n",
      "<|im_end|>\n",
      "\n",
      "\n",
      "<|im_start|>user\n",
      "Was Pepsico a customer of New Ocean ?\n",
      "<|im_end|>\n",
      "<|im_start|>assistant\n",
      "Yes, according to the source \"Suntory Pepsico\", Pepsico had a partnership with New Ocean.\n",
      "<|im_end|>\n",
      "<|im_start|>user\n",
      "Was Nestle a customer too?\n",
      "<|im_end|>\n",
      "<|im_start|>assistant\n",
      "Yes, according to the source \"Khách hàng\" Nestle was a customer of New Ocean.\n",
      "<|im_end|>\n",
      "<|im_start|>user\n",
      "Liên hệ với NOIS như thế nào?\n",
      "<|im_end|>\n",
      "<|im_start|>assistant\n",
      "Bạn có thể liên hệ với NOIS qua nhiều cách, bao gồm điện thoại, email hoặc gửi một biểu mẫu liên hệ trên trang web của họ. Thông tin liên hệ của NOIS bao gồm địa chỉ, email và số điện thoại. Bạn có thể tìm thấy tất cả thông tin liên hệ này trên trang \"Contact\" trên trang web của NOIS.\n",
      "<|im_end|>\n",
      "<|im_start|>user\n",
      "NOIS có tuyển vị trí Machine Learning không?\n",
      "<|im_end|>\n",
      "<|im_start|>assistant\n",
      "Tôi không tìm thấy thông tin về việc NOIS đang tuyển dụng vị trí Machine Learning hay không. Bạn có thể truy cập trang web của NOIS để tìm hiểu thêm về các vị trí đang tuyển dụng của họ hoặc liên hệ trực tiếp với họ để biết thêm thông tin.\n",
      "<|im_end|>\n",
      "\n",
      "1441\n",
      "Length of chat history: 429\n"
     ]
    }
   ],
   "source": [
    "doc_txt = \"\"\n",
    "for x in doc:\n",
    "    doc_txt += x.page_content\n",
    "    \n",
    "context = get_history_as_txt()\n",
    "    \n",
    "msg = f\"\"\"<|im_start|>system\n",
    "Assistant helps the company employees and users with their questions about the companies New Ocean and NOIS. Be brief in your answers.\n",
    "Answer ONLY with the facts listed in the list of sources below. If there isn't enough information below, say you don't know. Do not generate answers that don't use the sources below. If asking a clarifying question to the user would help, ask the question.\n",
    "If the user asks any questions not related to New Ocean or NOIS, apologize and request another question from the user. If the user greets you, respond accordingly.\n",
    "Sources:\n",
    "{doc_txt}\n",
    "<|im_end|>\n",
    "\n",
    "{context}\n",
    "\"\"\"\n",
    "\n",
    "print(msg)\n",
    "print(llm.get_num_tokens(msg))\n",
    "print(f\"Length of chat history: {llm.get_num_tokens(get_history_as_txt())}\")"
   ]
  },
  {
   "cell_type": "code",
   "execution_count": 29,
   "id": "ba70633e",
   "metadata": {},
   "outputs": [],
   "source": [
    "# Define query tool for agent\n",
    "class DocumentQueryTool(BaseTool):\n",
    "    name = \"Document query tool\"\n",
    "    description = \"use this tool when you need to get documents for questions related to New Ocean and NOIS\"\n",
    "    \n",
    "    def _run(self, query: str):\n",
    "        doc = retriever_public.get_relevant_documents(query)[:3]\n",
    "        content = reduce(lambda x, y: x + y.page_content, doc, doc[0].page_content)\n",
    "        \n",
    "        return content\n",
    "    \n",
    "    def _arun(self, query: str):\n",
    "        raise NotImplementedError(\"This tool does not support async\")\n",
    "\n",
    "        \n",
    "prefix = \"\"\"You are an intelligent assistant helping New Ocean and NOIS employees as well as ordinary users with company related questions. You will be provided with keywords that you can use for querying documents.\n",
    "If you cannot answer using the queried documents, say that you don't know.\n",
    "You have access to the following tools:\"\"\"\n",
    "suffix = \"\"\"Begin!\"\n",
    "\n",
    "Keywords: {keywords}\n",
    "Question: {input}\n",
    "{agent_scratchpad}\"\"\"\n",
    "\n",
    "tools = [DocumentQueryTool()]\n",
    "\n",
    "prompt = ZeroShotAgent.create_prompt(\n",
    "    tools,\n",
    "    prefix=prefix,\n",
    "    suffix=suffix,\n",
    "    input_variables=[\"keywords\", \"input\", \"agent_scratchpad\"],\n",
    ")\n",
    "\n",
    "llm_chain = LLMChain(llm=llm, prompt=prompt)\n",
    "\n",
    "agent = ZeroShotAgent(llm_chain=llm_chain, tools=tools, verbose=True)\n",
    "agent_chain = AgentExecutor.from_agent_and_tools(\n",
    "    agent=agent, tools=tools, verbose=True\n",
    ")"
   ]
  },
  {
   "cell_type": "code",
   "execution_count": 30,
   "id": "dfcf5b8e",
   "metadata": {},
   "outputs": [
    {
     "name": "stdout",
     "output_type": "stream",
     "text": [
      "Pepsico, New Ocean\n",
      "\n",
      "\n",
      "\u001b[1m> Entering new  chain...\u001b[0m\n",
      "\u001b[32;1m\u001b[1;3mThought: I need to search for documents that contain information about Pepsico and New Ocean.\n",
      "Action: Document query tool\n",
      "Action Input: \"Pepsico New Ocean customer\"\u001b[0m\n",
      "Observation: \u001b[36;1m\u001b[1;3mNOIS Our Story\n",
      "OUR STORY\n",
      "Your Satisfaction Our Success\n",
      "“\n",
      "”\n",
      "Our slogan “Your satisfaction, Our Success” highlights our\n",
      "dedication to meeting the needs of our clients.\n",
      "New Ocean IS\n",
      "recognizes that satisfied customers are crucial to the success\n",
      "of our business, not just in terms of repeat business but also\n",
      "through positive word-of-mouth referrals. By prioritizing\n",
      "customer satisfaction.\n",
      "New Ocean IS\n",
      "is able to cultivate a loyal customer base and establish\n",
      "itself as a reputable and dependable company in the global\n",
      "marketplace. Through this customer-centric approach.\n",
      "New Ocean IS\n",
      "is committed to achieving long-term success and growth by\n",
      "delivering exceptional service and fostering enduring customer\n",
      "relationships.\n",
      "We’ve turned 13\n",
      "Over the past 13 years,\n",
      "New Ocean IS\n",
      "has been dedicated to delivering outstanding services and\n",
      "solutions to its clients. As a company,\n",
      "New Ocean IS\n",
      "has evolved and grown, adapting to changing technologies and\n",
      "market demands.\n",
      "Our commitment to innovation, excellence, and customer\n",
      "satisfaction has enabled us to become a trusted and\n",
      "respected player in the industry.\n",
      "Reaching this 13-year milestone is a testament to the hard\n",
      "work, determination, and vision of the team at\n",
      "New Ocean IS\n",
      ". Our will undoubtedly continue to thrive and succeed in the\n",
      "years ahead, building on our achievements and setting new\n",
      "goals for the future.\n",
      "About NOIS\n",
      "We aspire to become one of the leading IT consulting and\n",
      "software development companies in Vietnam. We are understand\n",
      "NOIS Our Story\n",
      "OUR STORY\n",
      "Your Satisfaction Our Success\n",
      "“\n",
      "”\n",
      "Our slogan “Your satisfaction, Our Success” highlights our\n",
      "dedication to meeting the needs of our clients.\n",
      "New Ocean IS\n",
      "recognizes that satisfied customers are crucial to the success\n",
      "of our business, not just in terms of repeat business but also\n",
      "through positive word-of-mouth referrals. By prioritizing\n",
      "customer satisfaction.\n",
      "New Ocean IS\n",
      "is able to cultivate a loyal customer base and establish\n",
      "itself as a reputable and dependable company in the global\n",
      "marketplace. Through this customer-centric approach.\n",
      "New Ocean IS\n",
      "is committed to achieving long-term success and growth by\n",
      "delivering exceptional service and fostering enduring customer\n",
      "relationships.\n",
      "We’ve turned 13\n",
      "Over the past 13 years,\n",
      "New Ocean IS\n",
      "has been dedicated to delivering outstanding services and\n",
      "solutions to its clients. As a company,\n",
      "New Ocean IS\n",
      "has evolved and grown, adapting to changing technologies and\n",
      "market demands.\n",
      "Our commitment to innovation, excellence, and customer\n",
      "satisfaction has enabled us to become a trusted and\n",
      "respected player in the industry.\n",
      "Reaching this 13-year milestone is a testament to the hard\n",
      "work, determination, and vision of the team at\n",
      "New Ocean IS\n",
      ". Our will undoubtedly continue to thrive and succeed in the\n",
      "years ahead, building on our achievements and setting new\n",
      "goals for the future.\n",
      "About NOIS\n",
      "We aspire to become one of the leading IT consulting and\n",
      "software development companies in Vietnam. We are understand\n",
      "CUSTOMER SERVICE STAFF\n",
      "Recruiting Customer Service Staff\n",
      "New Ocean has experienced 20 years of establishment and development thanks to the trust of customers, partners and staff. As well as employees through products, services, qualifications and professional working style. Currently, to support receiving customer information, taking good care of the volume of customers. New Ocean is recruiting for the position of customer service staff, according to the following recruitment information\n",
      "Recruiting information\n",
      "Position: Customer Service StaffNumber of recruitment: 01Salary: NegotiationWorking form: Fixed full-timeAges: 25-30Gender: Male/Female\n",
      "Job description\n",
      "Purpose of work: Calling to introduce and consult the company's products to customers. Moreover, calling to solve and take care of customer problems\n",
      "Responsibility\n",
      "Managing customer information and developing customer networkCalling to introduce, consult customers with needs related to products, equipment and solutions in the field of automationPlanning to consult, take care of old and new customers of the companyWorking closely and supporting other departmentsStatistics and reports on customer care performance weekly and monthly for direct managers\n",
      "Power\n",
      "Directly participating in and evaluating the service quality improvement process at the companyActively designing suitable consulting programs to the company's products and equipmentAsking for support from higher management or related departments to handle work effectivelyReporting directly, propose ideas to the Board of Directors about the unreasonableness in the department in order to improve the process and build the company culture to help the job well and effectively.Within its scope, proactively making the right decisions to improve working efficiency, promote the professionalization of the company.\n",
      "\n",
      "NOIS Our Story\n",
      "OUR STORY\n",
      "Your Satisfaction Our Success\n",
      "“\n",
      "”\n",
      "Our slogan “Your satisfaction, Our Success” highlights our\n",
      "dedication to meeting the needs of our clients.\n",
      "New Ocean IS\n",
      "recognizes that satisfied customers are crucial to the success\n",
      "of our business, not just in terms of repeat business but also\n",
      "through positive word-of-mouth referrals. By prioritizing\n",
      "customer satisfaction.\n",
      "New Ocean IS\n",
      "is able to cultivate a loyal customer base and establish\n",
      "itself as a reputable and dependable company in the global\n",
      "marketplace. Through this customer-centric approach.\n",
      "New Ocean IS\n",
      "is committed to achieving long-term success and growth by\n",
      "delivering exceptional service and fostering enduring customer\n",
      "relationships.\n",
      "We’ve turned 13\n",
      "Over the past 13 years,\n",
      "New Ocean IS\n",
      "has been dedicated to delivering outstanding services and\n",
      "solutions to its clients. As a company,\n",
      "New Ocean IS\n",
      "has evolved and grown, adapting to changing technologies and\n",
      "market demands.\n",
      "Our commitment to innovation, excellence, and customer\n",
      "satisfaction has enabled us to become a trusted and\n",
      "respected player in the industry.\n",
      "Reaching this 13-year milestone is a testament to the hard\n",
      "work, determination, and vision of the team at\n",
      "New Ocean IS\n",
      ". Our will undoubtedly continue to thrive and succeed in the\n",
      "years ahead, building on our achievements and setting new\n",
      "goals for the future.\n",
      "About NOIS\n",
      "We aspire to become one of the leading IT consulting and\n",
      "software development companies in Vietnam. We are understand\n",
      "\u001b[0m\n",
      "Thought:\u001b[32;1m\u001b[1;3mI couldn't find a direct answer to the question in the documents provided.\n",
      "Final Answer: I don't know if Pepsico was a customer of New Ocean.\u001b[0m\n",
      "\n",
      "\u001b[1m> Finished chain.\u001b[0m\n"
     ]
    },
    {
     "data": {
      "text/plain": [
       "\"I don't know if Pepsico was a customer of New Ocean.\""
      ]
     },
     "execution_count": 30,
     "metadata": {},
     "output_type": "execute_result"
    }
   ],
   "source": [
    "query = \"Was Pepsico a customer of New Ocean?\"\n",
    "keywords = keywordChain({'question': query, 'context': get_history_as_txt()})['text']\n",
    "print(keywords)\n",
    "\n",
    "agent_chain.run(input=query, keywords=keywords)"
   ]
  },
  {
   "cell_type": "code",
   "execution_count": null,
   "id": "3c86b671",
   "metadata": {},
   "outputs": [],
   "source": []
  }
 ],
 "metadata": {
  "kernelspec": {
   "display_name": "Python 3 (ipykernel)",
   "language": "python",
   "name": "python3"
  },
  "language_info": {
   "codemirror_mode": {
    "name": "ipython",
    "version": 3
   },
   "file_extension": ".py",
   "mimetype": "text/x-python",
   "name": "python",
   "nbconvert_exporter": "python",
   "pygments_lexer": "ipython3",
   "version": "3.11.0"
  }
 },
 "nbformat": 4,
 "nbformat_minor": 5
}
