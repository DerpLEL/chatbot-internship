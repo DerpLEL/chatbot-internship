{
 "cells": [
  {
   "cell_type": "code",
   "execution_count": 44,
   "id": "ad66c9aa",
   "metadata": {},
   "outputs": [],
   "source": [
    "from langchain.prompts import PromptTemplate\n",
    "from langchain.chat_models import AzureChatOpenAI\n",
    "from langchain.llms import AzureOpenAI\n",
    "from langchain.chains.qa_with_sources import load_qa_with_sources_chain\n",
    "from langchain.chains import LLMChain, APIChain\n",
    "from langchain.chains.api.prompt import API_RESPONSE_PROMPT\n",
    "from langchain.schema import Document\n",
    "from langchain.tools import BaseTool\n",
    "from langchain.agents import ZeroShotAgent, AgentExecutor, AgentType, initialize_agent, Tool, load_tools\n",
    "from langchain.agents.agent_toolkits.openapi import planner\n",
    "from langchain.requests import TextRequestsWrapper\n",
    "from functools import reduce\n",
    "from langchain.chains.api import open_meteo_docs\n",
    "from datetime import datetime, timedelta\n",
    "import requests\n",
    "import pandas as pd\n",
    "import os\n",
    "from azure.core.credentials import AzureKeyCredential\n",
    "from azure.search.documents import SearchClient\n",
    "\n",
    "search_endpoint = 'https://search-service01.search.windows.net'\n",
    "search_key = '73Swa5YqUR5IRMwUIqOH6ww2YBm3SveLv7rDmZVXtIAzSeBjEQe9'\n",
    "private_index_name = \"nois-private-v3-index\"\n",
    "\n",
    "retriever_private = SearchClient(\n",
    "    endpoint=search_endpoint,\n",
    "    index_name=private_index_name,\n",
    "    credential=AzureKeyCredential(search_key),\n",
    "    b=0.0,\n",
    "    k1=0.3,\n",
    "    searchMode=\"all\"\n",
    ")"
   ]
  },
  {
   "cell_type": "code",
   "execution_count": 52,
   "id": "58f64f08",
   "metadata": {},
   "outputs": [
    {
     "name": "stdout",
     "output_type": "stream",
     "text": [
      "2023-07-07\n",
      "2023-07-10\n"
     ]
    }
   ],
   "source": [
    "date = datetime.now().date()\n",
    "date_2 = date + timedelta(days=3)\n",
    "print(date)\n",
    "print(date_2)"
   ]
  },
  {
   "cell_type": "code",
   "execution_count": 10,
   "id": "417a90c3",
   "metadata": {},
   "outputs": [],
   "source": [
    "import tiktoken\n",
    "\n",
    "enc = tiktoken.encoding_for_model(\"gpt-3.5-turbo\")\n",
    "\n",
    "\n",
    "def count_tokens(s):\n",
    "    return len(enc.encode(s))"
   ]
  },
  {
   "cell_type": "code",
   "execution_count": 11,
   "id": "78e090b4",
   "metadata": {},
   "outputs": [
    {
     "name": "stdout",
     "output_type": "stream",
     "text": [
      "1171\n"
     ]
    }
   ],
   "source": [
    "string = '''[{'id': '262aa143-307a-4b9f-848d-1e6bf2e5cacb', 'name': 'Hung Bui', 'email': 'hung.bui@nois.vn', 'fullName': 'BÙI TUẤN HƯNG', 'jobTitle': 'Lập trình viên', 'mobilePhone': '0966772170', 'birthday': '1997-08-17T00:00:00', 'offDay': 0.5, 'yearOffDay': 6, 'maxDayOff': 15, 'remainDayOffLastYear': 0, 'offDayUseRamainDayOffLastYear': 1, 'gender': 1, 'personalEmail': 'hungbt.dev@gmail.com', 'avatar': 'https://noishrm.blob.core.windows.net/avatar/8fec9283-e82f-43ec-8f61-addb732dabcb.jpeg', 'acceptOfferDate': '2022-10-31T00:00:00', 'quitJobDate': '', 'bonusDayOff': 0, 'managerId': '', 'managerFullName': '', 'departmentId': 0, 'departmentName': 'Development Unit 1', 'groupUserId': '', 'groupUserName': 'Nhân viên chính thức', 'hasLeft': '', 'identityCard': '', 'dateOfIssue': '2021-08-10T00:00:00', 'issuedBy': 'Cục trưởng CCS QLHC về TTXH', 'placeOfTemporaryResidence': '502/15/2 Thống Nhất, p.16, Gò Vấp, TP.HCM', 'placeOfResidence': '161 Đường 458, Ấp Hội Thạnh, Xã Trung An, Huyện Củ Chi, TP.HCM', 'relativeName': 'Lê Thị Kiều', 'relationship': 'Mẹ', 'relativeMobilePhone': '', 'hasBankAccount': '', 'bankName': 'Vietcombank', 'bankBranch': 'DONG SAI GON-PGD THANH DA', 'bankAccountNumber': '0531002579897', 'birthPlace': 'Ấp Hội Thạnh, Xã Trung An, Huyện Củ Chi, TP.HCM', 'isFirstLogin': '', 'roles': '', 'taxIdentificationNumber': '8460719408', 'education': '', 'jobId': '', 'jobName': 'Developer', 'levelId': '', 'levelName': ''}, {'id': '72fb1693-9cc1-4923-b0a4-afb18469613c', 'name': 'KHASNH BUIF', 'email': '', 'fullName': '', 'jobTitle': '', 'mobilePhone': '', 'birthday': '', 'offDay': 1, 'yearOffDay': 0, 'maxDayOff': 0, 'remainDayOffLastYear': 0, 'offDayUseRamainDayOffLastYear': 0, 'gender': 0, 'personalEmail': '', 'avatar': '', 'acceptOfferDate': '', 'quitJobDate': '', 'bonusDayOff': 0, 'managerId': '', 'managerFullName': '', 'departmentId': 0, 'departmentName': '', 'groupUserId': '', 'groupUserName': '', 'hasLeft': '', 'identityCard': '', 'dateOfIssue': '', 'issuedBy': '', 'placeOfTemporaryResidence': '', 'placeOfResidence': '', 'relativeName': '', 'relationship': '', 'relativeMobilePhone': '', 'hasBankAccount': '', 'bankName': '', 'bankBranch': '', 'bankAccountNumber': '', 'birthPlace': '', 'isFirstLogin': '', 'roles': '', 'taxIdentificationNumber': '', 'education': '', 'jobId': '', 'jobName': '', 'levelId': '', 'levelName': ''}, {'id': 'c8604118-7db6-4e08-8926-5bd8c81bce81', 'name': 'Bao Ho', 'email': 'honguyenngocbao@gmail.com', 'fullName': 'HỒ NGUYỄN NGỌC BẢO', 'jobTitle': '', 'mobilePhone': '', 'birthday': '', 'offDay': 0, 'yearOffDay': 0, 'maxDayOff': 0, 'remainDayOffLastYear': 0, 'offDayUseRamainDayOffLastYear': 0, 'gender': 0, 'personalEmail': '', 'avatar': '', 'acceptOfferDate': '', 'quitJobDate': '', 'bonusDayOff': 0, 'managerId': '', 'managerFullName': '', 'departmentId': 0, 'departmentName': '', 'groupUserId': '', 'groupUserName': '', 'hasLeft': '', 'identityCard': '', 'dateOfIssue': '', 'issuedBy': '', 'placeOfTemporaryResidence': '', 'placeOfResidence': '', 'relativeName': '', 'relationship': '', 'relativeMobilePhone': '', 'hasBankAccount': '', 'bankName': '', 'bankBranch': '', 'bankAccountNumber': '', 'birthPlace': '', 'isFirstLogin': '', 'roles': '', 'taxIdentificationNumber': '', 'education': '', 'jobId': '', 'jobName': '', 'levelId': '', 'levelName': ''}]'''\n",
    "\n",
    "print(count_tokens(string))"
   ]
  },
  {
   "cell_type": "code",
   "execution_count": 12,
   "id": "66826924",
   "metadata": {},
   "outputs": [
    {
     "name": "stderr",
     "output_type": "stream",
     "text": [
      "WARNING! stop is not default parameter.\n",
      "                    stop was transferred to model_kwargs.\n",
      "                    Please confirm that stop is what you intended.\n"
     ]
    },
    {
     "name": "stdout",
     "output_type": "stream",
     "text": [
      "cache=None verbose=False callbacks=None callback_manager=None tags=None metadata=None client=<class 'openai.api_resources.chat_completion.ChatCompletion'> model_name='gpt-3.5-turbo' temperature=0.0 model_kwargs={'stop': ['\\n', '<|im_end|>', '<|im_sep|>']} openai_api_key='400568d9a16740b88aff437480544a39' openai_api_base='https://openai-nois-intern.openai.azure.com/' openai_organization='' openai_proxy='' request_timeout=None max_retries=6 streaming=False n=1 max_tokens=600 tiktoken_model_name=None deployment_name='gpt-35-turbo' openai_api_type='azure' openai_api_version='2023-03-15-preview'\n",
      "761\n"
     ]
    }
   ],
   "source": [
    "# Load up your LLM\n",
    "llm = AzureChatOpenAI(\n",
    "    openai_api_type=\"azure\",\n",
    "    openai_api_base='https://openai-nois-intern.openai.azure.com/',\n",
    "    openai_api_version=\"2023-03-15-preview\",\n",
    "    deployment_name='gpt-35-turbo',\n",
    "    openai_api_key=os.getenv('OPENAI_API_KEY'),\n",
    "    temperature=0.5,\n",
    "    max_tokens=450\n",
    ")\n",
    "\n",
    "llm2 = AzureChatOpenAI(\n",
    "    openai_api_type=\"azure\",\n",
    "    openai_api_base='https://openai-nois-intern.openai.azure.com/',\n",
    "    openai_api_version=\"2023-03-15-preview\",\n",
    "    deployment_name='gpt-35-turbo',\n",
    "    openai_api_key=os.getenv('OPENAI_API_KEY'),\n",
    "    temperature=0,\n",
    "    max_tokens=600,\n",
    "    stop=['\\n', '<|im_end|>', '<|im_sep|>']\n",
    ")\n",
    "\n",
    "llm3 = AzureChatOpenAI(\n",
    "    openai_api_type=\"azure\",\n",
    "    openai_api_base='https://openai-nois-intern.openai.azure.com/',\n",
    "    openai_api_version=\"2023-03-15-preview\",\n",
    "    deployment_name='gpt-35-turbo-16k',\n",
    "    openai_api_key=os.getenv('OPENAI_API_KEY'),\n",
    "    temperature=0.0,\n",
    "    max_tokens=600,\n",
    ")\n",
    "\n",
    "history = []\n",
    "history_entry = 1\n",
    "\n",
    "def get_history_as_txt():\n",
    "    txt = \"\"\n",
    "    hist = history[::-1]\n",
    "    \n",
    "    for i in hist[:3]:\n",
    "        txt += f\"\\n<|im_start|>user\\n{i['user']}\\n<|im_end|>\\n\"\n",
    "        txt += f\"<|im_start|>assistant\\n{i['AI']}\\n<|im_end|>\"\n",
    "        \n",
    "    return txt\n",
    "\n",
    "def add_to_history(user_msg, ai_msg):\n",
    "    history.append({'user': user_msg, 'AI': ai_msg})\n",
    "    \n",
    "def save_history_to_file():\n",
    "    global history_entry\n",
    "    file = open(f\"chatbot-cases/chat-{history_entry}.txt\", 'w', encoding='utf-8')\n",
    "    file.write(get_history_as_txt())\n",
    "    \n",
    "    file.close()\n",
    "    \n",
    "    history_entry += 1\n",
    "    \n",
    "def doc_to_str(doc):\n",
    "    string = \"\"\n",
    "    for i in doc:\n",
    "        string += i.page_content\n",
    "        \n",
    "    return string\n",
    "\n",
    "print(llm2)\n",
    "doc = open_meteo_docs.OPEN_METEO_DOCS\n",
    "print(llm2.get_num_tokens(doc))"
   ]
  },
  {
   "cell_type": "code",
   "execution_count": 13,
   "id": "1adec47c",
   "metadata": {},
   "outputs": [
    {
     "name": "stdout",
     "output_type": "stream",
     "text": [
      "/api/User/a27ef124-989c-4e88-be05-1a00dd9075e8\n",
      "{\"type\":\"https://tools.ietf.org/html/rfc7231#section-6.5.13\",\"title\":\"Unsupported Media Type\",\"status\":415,\"traceId\":\"00-363a1624c15bc607443ee531ac5e0005-ac2218044cbfebb3-00\"}\n"
     ]
    }
   ],
   "source": [
    "url = 'https://hrm-nois-fake.azurewebsites.net'\n",
    "\n",
    "user_id = 'a27ef124-989c-4e88-be05-1a00dd9075e8'\n",
    "\n",
    "obj = {\n",
    "    'id': user_id,\n",
    "    'levelName': 'CEO'\n",
    "}\n",
    "\n",
    "endpoint = f'/api/User/{user_id}' if user_id else '/api/User'\n",
    "print(endpoint)\n",
    "\n",
    "reply = requests.put(url + endpoint, data=obj)\n",
    "\n",
    "print(reply.text)"
   ]
  },
  {
   "cell_type": "code",
   "execution_count": 14,
   "id": "78dc504a",
   "metadata": {},
   "outputs": [
    {
     "name": "stdout",
     "output_type": "stream",
     "text": [
      "BASE URL: https://hrm-nois-fake.azurewebsites.net/\n",
      "\n",
      "HRM system\n",
      "API DOCUMENTATION\n",
      "Endpoints:\n",
      "- /api/User: does not accept any input. Use GET with this endpoint to get a list of users within the HRM system.\n",
      "- /api/User/<id>: accepts an ID string as a path variable. Use GET with this endpoint along with a user's ID to get data of a specific user.\n",
      "- /api/LeaveApplication/<userId>: accepts an ID string as a path variable. Use GET with this endpoint along with a user's ID to get all leave applications submitted by a user.\n",
      "API token length: 128\n"
     ]
    }
   ],
   "source": [
    "# print(open_meteo_docs.OPEN_METEO_DOCS)\n",
    "hrm_doc = open(\"HRM_API_DOC.txt\", 'r', encoding='utf-8')\n",
    "api_doc = hrm_doc.read()\n",
    "print(api_doc)\n",
    "print(f\"API token length: {count_tokens(api_doc)}\")"
   ]
  },
  {
   "cell_type": "code",
   "execution_count": 21,
   "id": "64548a82",
   "metadata": {},
   "outputs": [],
   "source": [
    "chain_new = APIChain.from_llm_and_api_docs(llm2, api_doc, verbose=True)"
   ]
  },
  {
   "cell_type": "code",
   "execution_count": 26,
   "id": "4dea6261",
   "metadata": {},
   "outputs": [
    {
     "name": "stdout",
     "output_type": "stream",
     "text": [
      "\n",
      "\n",
      "\u001b[1m> Entering new  chain...\u001b[0m\n",
      "\u001b[32;1m\u001b[1;3mhttps://hrm-nois-fake.azurewebsites.net/api/User\u001b[0m\n",
      "\u001b[33;1m\u001b[1;3m{\"message\":\"OK\",\"data\":[{\"id\":\"262aa143-307a-4b9f-848d-1e6bf2e5cacb\",\"name\":\"Hung Bui\",\"email\":\"hung.bui@nois.vn\",\"fullName\":\"BÙI TUẤN HƯNG\",\"jobTitle\":\"Lập trình viên\",\"mobilePhone\":\"0966772170\",\"birthday\":\"1997-08-17T00:00:00\",\"offDay\":0.5,\"yearOffDay\":6,\"maxDayOff\":15,\"remainDayOffLastYear\":0,\"offDayUseRamainDayOffLastYear\":1,\"gender\":1,\"personalEmail\":\"hungbt.dev@gmail.com\",\"avatar\":\"https://noishrm.blob.core.windows.net/avatar/8fec9283-e82f-43ec-8f61-addb732dabcb.jpeg\",\"acceptOfferDate\":\"2022-10-31T00:00:00\",\"quitJobDate\":\"\",\"bonusDayOff\":0,\"managerId\":\"\",\"managerFullName\":\"\",\"departmentId\":0,\"departmentName\":\"Development Unit 1\",\"groupUserId\":\"\",\"groupUserName\":\"Nhân viên chính thức\",\"hasLeft\":\"\",\"identityCard\":\"\",\"dateOfIssue\":\"2021-08-10T00:00:00\",\"issuedBy\":\"Cục trưởng CCS QLHC về TTXH\",\"placeOfTemporaryResidence\":\"502/15/2 Thống Nhất, p.16, Gò Vấp, TP.HCM\",\"placeOfResidence\":\"161 Đường 458, Ấp Hội Thạnh, Xã Trung An, Huyện Củ Chi, TP.HCM\",\"relativeName\":\"Lê Thị Kiều\",\"relationship\":\"Mẹ\",\"relativeMobilePhone\":\"\",\"hasBankAccount\":\"\",\"bankName\":\"Vietcombank\",\"bankBranch\":\"DONG SAI GON-PGD THANH DA\",\"bankAccountNumber\":\"0531002579897\",\"birthPlace\":\"Ấp Hội Thạnh, Xã Trung An, Huyện Củ Chi, TP.HCM\",\"isFirstLogin\":\"\",\"roles\":\"\",\"taxIdentificationNumber\":\"8460719408\",\"education\":\"\",\"jobId\":\"\",\"jobName\":\"Developer\",\"levelId\":\"\",\"levelName\":\"\"},{\"id\":\"72fb1693-9cc1-4923-b0a4-afb18469613c\",\"name\":\"KHASNH BUIF\",\"email\":\"\",\"fullName\":\"\",\"jobTitle\":\"\",\"mobilePhone\":\"\",\"birthday\":\"\",\"offDay\":0,\"yearOffDay\":0,\"maxDayOff\":0,\"remainDayOffLastYear\":0,\"offDayUseRamainDayOffLastYear\":0,\"gender\":0,\"personalEmail\":\"\",\"avatar\":\"\",\"acceptOfferDate\":\"\",\"quitJobDate\":\"\",\"bonusDayOff\":0,\"managerId\":\"\",\"managerFullName\":\"\",\"departmentId\":0,\"departmentName\":\"\",\"groupUserId\":\"\",\"groupUserName\":\"\",\"hasLeft\":\"\",\"identityCard\":\"\",\"dateOfIssue\":\"\",\"issuedBy\":\"\",\"placeOfTemporaryResidence\":\"\",\"placeOfResidence\":\"\",\"relativeName\":\"\",\"relationship\":\"\",\"relativeMobilePhone\":\"\",\"hasBankAccount\":\"\",\"bankName\":\"\",\"bankBranch\":\"\",\"bankAccountNumber\":\"\",\"birthPlace\":\"\",\"isFirstLogin\":\"\",\"roles\":\"\",\"taxIdentificationNumber\":\"\",\"education\":\"\",\"jobId\":\"\",\"jobName\":\"\",\"levelId\":\"\",\"levelName\":\"\"},{\"id\":\"c8604118-7db6-4e08-8926-5bd8c81bce81\",\"name\":\"Bao Ho\",\"email\":\"honguyenngocbao@gmail.com\",\"fullName\":\"HỒ NGUYỄN NGỌC BẢO\",\"jobTitle\":\"\",\"mobilePhone\":\"\",\"birthday\":\"\",\"offDay\":0,\"yearOffDay\":0,\"maxDayOff\":0,\"remainDayOffLastYear\":0,\"offDayUseRamainDayOffLastYear\":0,\"gender\":0,\"personalEmail\":\"\",\"avatar\":\"\",\"acceptOfferDate\":\"\",\"quitJobDate\":\"\",\"bonusDayOff\":0,\"managerId\":\"\",\"managerFullName\":\"\",\"departmentId\":0,\"departmentName\":\"\",\"groupUserId\":\"\",\"groupUserName\":\"\",\"hasLeft\":\"\",\"identityCard\":\"\",\"dateOfIssue\":\"\",\"issuedBy\":\"\",\"placeOfTemporaryResidence\":\"\",\"placeOfResidence\":\"\",\"relativeName\":\"\",\"relationship\":\"\",\"relativeMobilePhone\":\"\",\"hasBankAccount\":\"\",\"bankName\":\"\",\"bankBranch\":\"\",\"bankAccountNumber\":\"\",\"birthPlace\":\"\",\"isFirstLogin\":\"\",\"roles\":\"\",\"taxIdentificationNumber\":\"\",\"education\":\"\",\"jobId\":\"\",\"jobName\":\"\",\"levelId\":\"\",\"levelName\":\"\"}]}\u001b[0m\n",
      "\n",
      "\u001b[1m> Finished chain.\u001b[0m\n"
     ]
    },
    {
     "data": {
      "text/plain": [
       "{'question': 'Names of users?',\n",
       " 'output': 'The response from the API provides a list of users within the HRM system. The names of the users are \"Hung Bui\", \"KHASNH BUIF\", and \"Bao Ho\".'}"
      ]
     },
     "execution_count": 26,
     "metadata": {},
     "output_type": "execute_result"
    }
   ],
   "source": [
    "chain_new(\"Names of users?\")"
   ]
  },
  {
   "cell_type": "code",
   "execution_count": 34,
   "id": "ff094723",
   "metadata": {},
   "outputs": [
    {
     "name": "stdout",
     "output_type": "stream",
     "text": [
      "input_variables=['input', 'agent_scratchpad'] output_parser=None partial_variables={} template=\"You are an intelligent assistant helping users interact with system called HRM through the use of tools.\\nAnswer in the user's language.\\nThe user chatting with you is named Nghiem Vo, with the email nghiem.vo@nois.vn.\\nYou have access to the following tools:\\n\\nHRM get all: useful for getting details of all users. No input necessary.\\nHRM get by id: useful for getting details of a specific user by ID. Input is a user's Id.\\nHRM get by email: useful for getting details of a specific user by email. Input is a user's email.\\nHRM submit leave: useful for submitting leave applications for a user.\\nInput must include 3 parameters concatenated into a string and separated by a comma and space. The parameters are as follows:\\n- user submitting application's id: This can be found by using the provided user email.\\n- user reviewing application's id: This can be found by using the provided reviewer email. If the user didn't provide this email, ask the user for the email.\\n- Number of leave days: Ask the user for this number.\\n\\nhuman: You can ask a human for guidance when you think you got stuck or you are not sure what to do next. The input should be a question for the human.\\n\\nUse the following format:\\n\\nQuestion: the input question you must answer\\nThought: you should always think about what to do\\nAction: the action to take, should be one of [HRM get all, HRM get by id, HRM get by email, HRM submit leave, human]\\nAction Input: the input to the action\\nObservation: the result of the action\\n... (this Thought/Action/Action Input/Observation can repeat N times)\\nThought: I now know the final answer\\nFinal Answer: the final answer to the original input question\\n\\nBegin!\\n\\nDo not put ` anywhere in your outputs.\\nQuestion: {input}\\n{agent_scratchpad}\" template_format='f-string' validate_template=True\n"
     ]
    }
   ],
   "source": [
    "def get_users(query: str = None):\n",
    "    return requests.get(url + '/api/User').json()['data']\n",
    "\n",
    "def get_user_by_id(ID: str):\n",
    "    reply = requests.get(url + f'/api/User/{ID}')\n",
    "    if not reply.json()['data']:\n",
    "        return \"Wrong ID, recheck your input.\"\n",
    "    \n",
    "    return reply.json()['data']\n",
    "\n",
    "def get_user_by_email(email: str):\n",
    "    reply = requests.get(url + f'/api/User').json()['data']\n",
    "    email = email.strip()\n",
    "    \n",
    "    for i in reply:\n",
    "        if i['email'] == email:\n",
    "            return i\n",
    "        \n",
    "    return \"User not found. Recheck your inputs or ask the user for info.\"\n",
    "\n",
    "def submitLeaveApplication(args: str):\n",
    "    lst = args.split(', ')\n",
    "    if len(lst) != 3:\n",
    "        return \"Incorrect number of arguments, this function requires 3 arguments: user's id, reviewer's id and number of days off.\"\n",
    "    \n",
    "    if '-' not in lst[0] or '-' not in lst[1]:\n",
    "        return \"Incorrect ID. You can find the correct ID by using the HRM get by email tool.\"\n",
    "    \n",
    "    elif lst[0] == lst[1]:\n",
    "        return \"User's ID and reviewer's ID cannot be the same.\"\n",
    "    \n",
    "    elif not lst[2].isdigit():\n",
    "        return \"Leave days must be a number. Ask the user if they didn't provide you with a number.\"\n",
    "    \n",
    "    lst[2] = int(lst[2])\n",
    "    \n",
    "    print(\"\\nUserId: \", lst[0])\n",
    "    print(\"ReviewerId: \", lst[1])\n",
    "    print(\"Number of days: \", lst[2])\n",
    "    \n",
    "    return \"Leave application submitted successfully.\"\n",
    "        \n",
    "tools = [\n",
    "    Tool(\n",
    "        name='HRM get all',\n",
    "        func=get_users,\n",
    "        description='useful for getting details of all users. No input necessary.'\n",
    "    ),\n",
    "    \n",
    "    Tool(\n",
    "        name='HRM get by id',\n",
    "        func=get_user_by_id,\n",
    "        description='useful for getting details of a specific user by ID. Input is a user\\'s Id.'\n",
    "    ),\n",
    "    \n",
    "    Tool(\n",
    "        name='HRM get by email',\n",
    "        func=get_user_by_email,\n",
    "        description='useful for getting details of a specific user by email. Input is a user\\'s email.'\n",
    "    ),\n",
    "    \n",
    "    Tool(\n",
    "        name='HRM submit leave',\n",
    "        func=submitLeaveApplication,\n",
    "        description='''useful for submitting leave applications for a user.\n",
    "Input must include 3 parameters concatenated into a string and separated by a comma and space. The parameters are as follows:\n",
    "- user submitting application\\'s id: This can be found by using the provided user email.\n",
    "- user reviewing application\\'s id: This can be found by using the provided reviewer email. If the user didn't provide this email, ask the user for the email.\n",
    "- Number of leave days: Ask the user for this number.\n",
    "'''\n",
    "    )\n",
    "]\n",
    "\n",
    "'''Example: c8604118-7db6-4e08-8926-5bd8c81bce81, 262aa143-307a-4b9f-848d-1e6bf2e5cacb, 4'''\n",
    "\n",
    "human = load_tools(['human'])\n",
    "\n",
    "tools.extend(human)\n",
    "\n",
    "'''If you cannot answer by using only 1 tool, try using other provided tools. If you cannot get any results from tools, say you don't know. Do not use any other sources other than the ones you obtain from tools.'''\n",
    "\n",
    "prefix = \"\"\"You are an intelligent assistant helping users interact with system called HRM through the use of tools.\n",
    "Answer in the user's language.\n",
    "The user chatting with you is named Nghiem Vo, with the email nghiem.vo@nois.vn.\n",
    "You have access to the following tools:\"\"\"\n",
    "\n",
    "suffix = \"\"\"Begin!\n",
    "\n",
    "Do not put ` anywhere in your outputs.\n",
    "Question: {input}\n",
    "{agent_scratchpad}\"\"\"\n",
    "\n",
    "prompt = ZeroShotAgent.create_prompt(\n",
    "    tools,\n",
    "    prefix=prefix,\n",
    "    suffix=suffix,\n",
    "    input_variables=[\"input\", \"agent_scratchpad\"],\n",
    ")\n",
    "\n",
    "print(prompt)\n",
    "\n",
    "llm_chain = LLMChain(llm=llm3, prompt=prompt)\n",
    "\n",
    "agent = ZeroShotAgent(llm_chain=llm_chain, tools=tools, verbose=True, stop=[\"\\nObservation:\", \"<|im_end|>\", \"<|im_sep|>\"])\n",
    "agent_chain = AgentExecutor.from_agent_and_tools(\n",
    "    agent=agent, tools=tools, verbose=True, handle_parsing_errors=\"Check your output and make sure it conforms! Get rid of the beginning and end ` in your output.\"\n",
    ")\n",
    "\n",
    "agent2 = initialize_agent(\n",
    "    tools, llm3, agent=AgentType.CHAT_ZERO_SHOT_REACT_DESCRIPTION, verbose=True\n",
    ")"
   ]
  },
  {
   "cell_type": "code",
   "execution_count": 53,
   "id": "8f021211",
   "metadata": {},
   "outputs": [
    {
     "name": "stdout",
     "output_type": "stream",
     "text": [
      "\n",
      "\n",
      "\u001b[1m> Entering new  chain...\u001b[0m\n",
      "\u001b[32;1m\u001b[1;3mThought: The user wants to submit a leave application.\n",
      "Action: HRM submit leave\n",
      "Action Input: nghiem.vo@nois.vn, ?, ?\u001b[0m\n",
      "Observation: \u001b[36;1m\u001b[1;3mIncorrect ID. You can find the correct ID by using the HRM get by email tool.\u001b[0m\n",
      "Thought:\u001b[32;1m\u001b[1;3mThe user needs to provide the reviewer's email to find the correct ID.\n",
      "Action: HRM get by email\n",
      "Action Input: ?\u001b[0m\n",
      "Observation: \u001b[38;5;200m\u001b[1;3mUser not found. Recheck your inputs or ask the user for info.\u001b[0m\n",
      "Thought:\u001b[32;1m\u001b[1;3mThe user's email is needed to find the correct ID.\n",
      "Action: human\n",
      "Action Input: What is the reviewer's email?\u001b[0m\n",
      "\n",
      "What is the reviewer's email?\n",
      "hung.bui@nois.vn\n",
      "\n",
      "Observation: \u001b[33;1m\u001b[1;3mhung.bui@nois.vn\u001b[0m\n",
      "Thought:\u001b[32;1m\u001b[1;3mThe reviewer's email is hung.bui@nois.vn.\n",
      "Action: HRM get by email\n",
      "Action Input: hung.bui@nois.vn\u001b[0m\n",
      "Observation: \u001b[38;5;200m\u001b[1;3m{'id': '262aa143-307a-4b9f-848d-1e6bf2e5cacb', 'name': 'Hung Bui', 'email': 'hung.bui@nois.vn', 'fullName': 'BÙI TUẤN HƯNG', 'jobTitle': 'Lập trình viên', 'mobilePhone': '0966772170', 'birthday': '1997-08-17T00:00:00', 'offDay': 0.5, 'yearOffDay': 6, 'maxDayOff': 15, 'remainDayOffLastYear': 0, 'offDayUseRamainDayOffLastYear': 1, 'gender': 1, 'personalEmail': 'hungbt.dev@gmail.com', 'avatar': 'https://noishrm.blob.core.windows.net/avatar/8fec9283-e82f-43ec-8f61-addb732dabcb.jpeg', 'acceptOfferDate': '2022-10-31T00:00:00', 'quitJobDate': '', 'bonusDayOff': 0, 'managerId': '', 'managerFullName': '', 'departmentId': 0, 'departmentName': 'Development Unit 1', 'groupUserId': '', 'groupUserName': 'Nhân viên chính thức', 'hasLeft': '', 'identityCard': '', 'dateOfIssue': '2021-08-10T00:00:00', 'issuedBy': 'Cục trưởng CCS QLHC về TTXH', 'placeOfTemporaryResidence': '502/15/2 Thống Nhất, p.16, Gò Vấp, TP.HCM', 'placeOfResidence': '161 Đường 458, Ấp Hội Thạnh, Xã Trung An, Huyện Củ Chi, TP.HCM', 'relativeName': 'Lê Thị Kiều', 'relationship': 'Mẹ', 'relativeMobilePhone': '', 'hasBankAccount': '', 'bankName': 'Vietcombank', 'bankBranch': 'DONG SAI GON-PGD THANH DA', 'bankAccountNumber': '0531002579897', 'birthPlace': 'Ấp Hội Thạnh, Xã Trung An, Huyện Củ Chi, TP.HCM', 'isFirstLogin': '', 'roles': '', 'taxIdentificationNumber': '8460719408', 'education': '', 'jobId': '', 'jobName': 'Developer', 'levelId': '', 'levelName': ''}\u001b[0m\n",
      "Thought:\u001b[32;1m\u001b[1;3mThe reviewer's ID is '262aa143-307a-4b9f-848d-1e6bf2e5cacb'.\n",
      "Action: HRM submit leave\n",
      "Action Input: nghiem.vo@nois.vn, 262aa143-307a-4b9f-848d-1e6bf2e5cacb, ?\u001b[0m\n",
      "Observation: \u001b[36;1m\u001b[1;3mIncorrect ID. You can find the correct ID by using the HRM get by email tool.\u001b[0m\n",
      "Thought:\u001b[32;1m\u001b[1;3mThe user needs to provide the number of leave days.\n",
      "Action: human\n",
      "Action Input: How many leave days?\u001b[0m\n",
      "\n",
      "How many leave days?\n",
      "3\n",
      "\n",
      "Observation: \u001b[33;1m\u001b[1;3m3\u001b[0m\n",
      "Thought:\u001b[32;1m\u001b[1;3mThe user wants to submit a leave application for 3 days.\n",
      "Action: HRM submit leave\n",
      "Action Input: nghiem.vo@nois.vn, 262aa143-307a-4b9f-848d-1e6bf2e5cacb, 3\u001b[0m\n",
      "Observation: \u001b[36;1m\u001b[1;3mIncorrect ID. You can find the correct ID by using the HRM get by email tool.\u001b[0m\n",
      "Thought:\u001b[32;1m\u001b[1;3mThe user needs to provide their own ID to submit the leave application.\n",
      "Action: HRM get by email\n",
      "Action Input: nghiem.vo@nois.vn\u001b[0m\n",
      "Observation: \u001b[38;5;200m\u001b[1;3m{'id': '65255df1-d4c3-479b-a4b8-d63cb3db2beb', 'name': 'Nghiem Vo', 'email': 'nghiem.vo@nois.vn', 'fullName': 'VÕ NGỌC DUY NGHIÊM', 'jobTitle': 'Lập trình viên', 'mobilePhone': '0843961713', 'birthday': '1999', 'offDay': 0, 'yearOffDay': 0, 'maxDayOff': 10, 'remainDayOffLastYear': 0, 'offDayUseRamainDayOffLastYear': 0, 'gender': 0, 'personalEmail': '', 'avatar': '', 'acceptOfferDate': '', 'quitJobDate': '', 'bonusDayOff': 0, 'managerId': '', 'managerFullName': '', 'departmentId': 0, 'departmentName': 'Development Unit 1', 'groupUserId': '', 'groupUserName': '', 'hasLeft': '', 'identityCard': '', 'dateOfIssue': '', 'issuedBy': '', 'placeOfTemporaryResidence': '', 'placeOfResidence': '', 'relativeName': '', 'relationship': '', 'relativeMobilePhone': '', 'hasBankAccount': '', 'bankName': 'VIB', 'bankBranch': '', 'bankAccountNumber': '863644436', 'birthPlace': 'Los Angeles', 'isFirstLogin': '', 'roles': '', 'taxIdentificationNumber': '', 'education': 'Bach Khoa University', 'jobId': '', 'jobName': 'chatbot', 'levelId': '', 'levelName': 'Internship'}\u001b[0m\n",
      "Thought:\u001b[32;1m\u001b[1;3mThe user's ID is '65255df1-d4c3-479b-a4b8-d63cb3db2beb'.\n",
      "Action: HRM submit leave\n",
      "Action Input: 65255df1-d4c3-479b-a4b8-d63cb3db2beb, 262aa143-307a-4b9f-848d-1e6bf2e5cacb, 3\u001b[0m\n",
      "UserId:  65255df1-d4c3-479b-a4b8-d63cb3db2beb\n",
      "ReviewerId:  262aa143-307a-4b9f-848d-1e6bf2e5cacb\n",
      "Number of days:  3\n",
      "\n",
      "Observation: \u001b[36;1m\u001b[1;3mLeave application submitted successfully.\u001b[0m\n",
      "Thought:\u001b[32;1m\u001b[1;3mThe leave application has been successfully submitted.\n",
      "Final Answer: Leave application submitted successfully.\u001b[0m\n",
      "\n",
      "\u001b[1m> Finished chain.\u001b[0m\n"
     ]
    },
    {
     "data": {
      "text/plain": [
       "'Leave application submitted successfully.'"
      ]
     },
     "execution_count": 53,
     "metadata": {},
     "output_type": "execute_result"
    }
   ],
   "source": [
    "agent_chain.run(\"I'd like to submit a leave application.\")"
   ]
  },
  {
   "cell_type": "code",
   "execution_count": 24,
   "id": "1555c7f2",
   "metadata": {},
   "outputs": [
    {
     "data": {
      "text/plain": [
       "[{'id': '262aa143-307a-4b9f-848d-1e6bf2e5cacb',\n",
       "  'name': 'Hung Bui',\n",
       "  'email': 'hung.bui@nois.vn',\n",
       "  'fullName': 'BÙI TUẤN HƯNG',\n",
       "  'jobTitle': 'Lập trình viên',\n",
       "  'mobilePhone': '0966772170',\n",
       "  'birthday': '1997-08-17T00:00:00',\n",
       "  'offDay': 0.5,\n",
       "  'yearOffDay': 6,\n",
       "  'maxDayOff': 15,\n",
       "  'remainDayOffLastYear': 0,\n",
       "  'offDayUseRamainDayOffLastYear': 1,\n",
       "  'gender': 1,\n",
       "  'personalEmail': 'hungbt.dev@gmail.com',\n",
       "  'avatar': 'https://noishrm.blob.core.windows.net/avatar/8fec9283-e82f-43ec-8f61-addb732dabcb.jpeg',\n",
       "  'acceptOfferDate': '2022-10-31T00:00:00',\n",
       "  'quitJobDate': '',\n",
       "  'bonusDayOff': 0,\n",
       "  'managerId': '',\n",
       "  'managerFullName': '',\n",
       "  'departmentId': 0,\n",
       "  'departmentName': 'Development Unit 1',\n",
       "  'groupUserId': '',\n",
       "  'groupUserName': 'Nhân viên chính thức',\n",
       "  'hasLeft': '',\n",
       "  'identityCard': '',\n",
       "  'dateOfIssue': '2021-08-10T00:00:00',\n",
       "  'issuedBy': 'Cục trưởng CCS QLHC về TTXH',\n",
       "  'placeOfTemporaryResidence': '502/15/2 Thống Nhất, p.16, Gò Vấp, TP.HCM',\n",
       "  'placeOfResidence': '161 Đường 458, Ấp Hội Thạnh, Xã Trung An, Huyện Củ Chi, TP.HCM',\n",
       "  'relativeName': 'Lê Thị Kiều',\n",
       "  'relationship': 'Mẹ',\n",
       "  'relativeMobilePhone': '',\n",
       "  'hasBankAccount': '',\n",
       "  'bankName': 'Vietcombank',\n",
       "  'bankBranch': 'DONG SAI GON-PGD THANH DA',\n",
       "  'bankAccountNumber': '0531002579897',\n",
       "  'birthPlace': 'Ấp Hội Thạnh, Xã Trung An, Huyện Củ Chi, TP.HCM',\n",
       "  'isFirstLogin': '',\n",
       "  'roles': '',\n",
       "  'taxIdentificationNumber': '8460719408',\n",
       "  'education': '',\n",
       "  'jobId': '',\n",
       "  'jobName': 'Developer',\n",
       "  'levelId': '',\n",
       "  'levelName': ''},\n",
       " {'id': '65255df1-d4c3-479b-a4b8-d63cb3db2beb',\n",
       "  'name': 'Nghiem Vo',\n",
       "  'email': 'nghiem.vo@nois.vn',\n",
       "  'fullName': 'VÕ NGỌC DUY NGHIÊM',\n",
       "  'jobTitle': 'Lập trình viên',\n",
       "  'mobilePhone': '0843961713',\n",
       "  'birthday': '1999',\n",
       "  'offDay': 0,\n",
       "  'yearOffDay': 0,\n",
       "  'maxDayOff': 10,\n",
       "  'remainDayOffLastYear': 0,\n",
       "  'offDayUseRamainDayOffLastYear': 0,\n",
       "  'gender': 0,\n",
       "  'personalEmail': '',\n",
       "  'avatar': '',\n",
       "  'acceptOfferDate': '',\n",
       "  'quitJobDate': '',\n",
       "  'bonusDayOff': 0,\n",
       "  'managerId': '',\n",
       "  'managerFullName': '',\n",
       "  'departmentId': 0,\n",
       "  'departmentName': 'Development Unit 1',\n",
       "  'groupUserId': '',\n",
       "  'groupUserName': '',\n",
       "  'hasLeft': '',\n",
       "  'identityCard': '',\n",
       "  'dateOfIssue': '',\n",
       "  'issuedBy': '',\n",
       "  'placeOfTemporaryResidence': '',\n",
       "  'placeOfResidence': '',\n",
       "  'relativeName': '',\n",
       "  'relationship': '',\n",
       "  'relativeMobilePhone': '',\n",
       "  'hasBankAccount': '',\n",
       "  'bankName': 'VIB',\n",
       "  'bankBranch': '',\n",
       "  'bankAccountNumber': '863644436',\n",
       "  'birthPlace': 'Los Angeles',\n",
       "  'isFirstLogin': '',\n",
       "  'roles': '',\n",
       "  'taxIdentificationNumber': '',\n",
       "  'education': 'Bach Khoa University',\n",
       "  'jobId': '',\n",
       "  'jobName': 'chatbot',\n",
       "  'levelId': '',\n",
       "  'levelName': 'Internship'},\n",
       " {'id': 'c8604118-7db6-4e08-8926-5bd8c81bce81',\n",
       "  'name': 'Bao Ho',\n",
       "  'email': 'honguyenngocbao@gmail.com',\n",
       "  'fullName': 'HỒ NGUYỄN NGỌC BẢO',\n",
       "  'jobTitle': '',\n",
       "  'mobilePhone': '',\n",
       "  'birthday': '',\n",
       "  'offDay': 0,\n",
       "  'yearOffDay': 0,\n",
       "  'maxDayOff': 0,\n",
       "  'remainDayOffLastYear': 0,\n",
       "  'offDayUseRamainDayOffLastYear': 0,\n",
       "  'gender': 0,\n",
       "  'personalEmail': '',\n",
       "  'avatar': '',\n",
       "  'acceptOfferDate': '',\n",
       "  'quitJobDate': '',\n",
       "  'bonusDayOff': 0,\n",
       "  'managerId': '',\n",
       "  'managerFullName': '',\n",
       "  'departmentId': 0,\n",
       "  'departmentName': '',\n",
       "  'groupUserId': '',\n",
       "  'groupUserName': '',\n",
       "  'hasLeft': '',\n",
       "  'identityCard': '',\n",
       "  'dateOfIssue': '',\n",
       "  'issuedBy': '',\n",
       "  'placeOfTemporaryResidence': '',\n",
       "  'placeOfResidence': '',\n",
       "  'relativeName': '',\n",
       "  'relationship': '',\n",
       "  'relativeMobilePhone': '',\n",
       "  'hasBankAccount': '',\n",
       "  'bankName': '',\n",
       "  'bankBranch': '',\n",
       "  'bankAccountNumber': '',\n",
       "  'birthPlace': '',\n",
       "  'isFirstLogin': '',\n",
       "  'roles': '',\n",
       "  'taxIdentificationNumber': '',\n",
       "  'education': '',\n",
       "  'jobId': '',\n",
       "  'jobName': '',\n",
       "  'levelId': '',\n",
       "  'levelName': ''}]"
      ]
     },
     "execution_count": 24,
     "metadata": {},
     "output_type": "execute_result"
    }
   ],
   "source": [
    "get_users()"
   ]
  },
  {
   "cell_type": "code",
   "execution_count": 28,
   "id": "004ebc2d",
   "metadata": {},
   "outputs": [
    {
     "name": "stdout",
     "output_type": "stream",
     "text": [
      "lý minh quân\n"
     ]
    }
   ],
   "source": []
  },
  {
   "cell_type": "code",
   "execution_count": null,
   "id": "663b0408",
   "metadata": {},
   "outputs": [],
   "source": []
  }
 ],
 "metadata": {
  "kernelspec": {
   "display_name": "Python 3 (ipykernel)",
   "language": "python",
   "name": "python3"
  },
  "language_info": {
   "codemirror_mode": {
    "name": "ipython",
    "version": 3
   },
   "file_extension": ".py",
   "mimetype": "text/x-python",
   "name": "python",
   "nbconvert_exporter": "python",
   "pygments_lexer": "ipython3",
   "version": "3.10.6"
  }
 },
 "nbformat": 4,
 "nbformat_minor": 5
}
